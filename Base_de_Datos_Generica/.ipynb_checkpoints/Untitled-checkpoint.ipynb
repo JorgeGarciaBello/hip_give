{
 "cells": [
  {
   "cell_type": "code",
   "execution_count": 1,
   "metadata": {},
   "outputs": [],
   "source": [
    "import pandas as pd"
   ]
  },
  {
   "cell_type": "code",
   "execution_count": 6,
   "metadata": {},
   "outputs": [],
   "source": [
    "donations=pd.read_csv('../Original_data_mysql/hipgive_donations_migration.csv')\n",
    "prjctorg=pd.read_csv('../Original_data_mysql/hipgive_project_organizations_migration.csv')\n",
    "#users=pd.read_csv('../Original_data_mysql/hipgive_users_migration.csv')"
   ]
  },
  {
   "cell_type": "code",
   "execution_count": 11,
   "metadata": {},
   "outputs": [
    {
     "name": "stderr",
     "output_type": "stream",
     "text": [
      "/home/jorge/anaconda3/lib/python3.6/site-packages/IPython/core/interactiveshell.py:2785: DtypeWarning: Columns (31,42,43) have mixed types. Specify dtype option on import or set low_memory=False.\n",
      "  interactivity=interactivity, compiler=compiler, result=result)\n"
     ]
    }
   ],
   "source": [
    "#users=pd.read_csv('../Original_data_mysql/users.csv',dtype={'user_id': int})"
   ]
  },
  {
   "cell_type": "code",
   "execution_count": 13,
   "metadata": {},
   "outputs": [],
   "source": [
    "users=pd.read_csv('../Original_data_mysql/hipgive_users_migration.csv',low_memory=False)"
   ]
  },
  {
   "cell_type": "code",
   "execution_count": 17,
   "metadata": {},
   "outputs": [
    {
     "data": {
      "text/plain": [
       "Index(['id', 'user_login', 'username', 'role', 'first_name', 'last_name',\n",
       "       'nickname', 'displayname', 'email', 'website', 'biographical_info',\n",
       "       'profile_picture', 'organization_id',\n",
       "       'completed_required_docs_form_fields', 'notified_required_docs_form',\n",
       "       'fiscal_location', 'us_address_provided', 'us_city', 'us_state',\n",
       "       'us_zip_code', 'latam_bank_holder', 'latam_bank_acount_owner_address',\n",
       "       'latam_bank_account_number', 'latam_bank_aba_number',\n",
       "       'latam_bank_bank_name', 'latam_bank_routing_number', 'latam_bank_swift',\n",
       "       'latam_bank_clabe', 'latam_bank_interm_bank_name',\n",
       "       'latam_bank_interm_swift', 'latam_bank_interm_phone_number',\n",
       "       'board_member_list_0_document', 'board_member_list',\n",
       "       'incorporation_as_a_nonprofit', 'irs_determination_letter_0_document',\n",
       "       'irs_determination_letter',\n",
       "       'irs990_or_audited_financial_statement_0_document',\n",
       "       'irs990_or_audited_financial_statement',\n",
       "       'current_fiscal_year_organizational_budget_0_document',\n",
       "       'current_fiscal_year_organizational_budget', 'us_sponsorship_agreement',\n",
       "       'user_registered', 'user_status', 'valid', 'errors', 'created_at',\n",
       "       'updated_at', 'Unnamed: 47', 'Unnamed: 48', 'Unnamed: 49',\n",
       "       'Unnamed: 50', 'Unnamed: 51', 'Unnamed: 52', 'Unnamed: 53',\n",
       "       'Unnamed: 54', 'Unnamed: 55', 'Unnamed: 56', 'Unnamed: 57',\n",
       "       'Unnamed: 58', 'Unnamed: 59', 'Unnamed: 60'],\n",
       "      dtype='object')"
      ]
     },
     "execution_count": 17,
     "metadata": {},
     "output_type": "execute_result"
    }
   ],
   "source": [
    "users.columns"
   ]
  },
  {
   "cell_type": "code",
   "execution_count": 27,
   "metadata": {},
   "outputs": [],
   "source": [
    "user_reatures=['id', 'role', 'first_name', 'last_name',\n",
    "       'displayname', 'organization_id',\n",
    "       'us_address_provided', 'us_city', 'us_state',\n",
    "       'user_registered']\n",
    "users = users[user_reatures]"
   ]
  },
  {
   "cell_type": "code",
   "execution_count": 28,
   "metadata": {},
   "outputs": [
    {
     "data": {
      "text/plain": [
       "Index(['id', 'role', 'first_name', 'last_name', 'displayname',\n",
       "       'organization_id', 'us_address_provided', 'us_city', 'us_state',\n",
       "       'user_registered'],\n",
       "      dtype='object')"
      ]
     },
     "execution_count": 28,
     "metadata": {},
     "output_type": "execute_result"
    }
   ],
   "source": [
    "users.columns"
   ]
  },
  {
   "cell_type": "code",
   "execution_count": 29,
   "metadata": {},
   "outputs": [
    {
     "data": {
      "text/html": [
       "<div>\n",
       "<style scoped>\n",
       "    .dataframe tbody tr th:only-of-type {\n",
       "        vertical-align: middle;\n",
       "    }\n",
       "\n",
       "    .dataframe tbody tr th {\n",
       "        vertical-align: top;\n",
       "    }\n",
       "\n",
       "    .dataframe thead th {\n",
       "        text-align: right;\n",
       "    }\n",
       "</style>\n",
       "<table border=\"1\" class=\"dataframe\">\n",
       "  <thead>\n",
       "    <tr style=\"text-align: right;\">\n",
       "      <th></th>\n",
       "      <th>id</th>\n",
       "      <th>role</th>\n",
       "      <th>first_name</th>\n",
       "      <th>last_name</th>\n",
       "      <th>displayname</th>\n",
       "      <th>organization_id</th>\n",
       "      <th>us_address_provided</th>\n",
       "      <th>us_city</th>\n",
       "      <th>us_state</th>\n",
       "      <th>user_registered</th>\n",
       "    </tr>\n",
       "  </thead>\n",
       "  <tbody>\n",
       "    <tr>\n",
       "      <th>0</th>\n",
       "      <td>55</td>\n",
       "      <td>hipgive_user</td>\n",
       "      <td>Ruth</td>\n",
       "      <td>Ortega</td>\n",
       "      <td>Ruth.Ortega@outlook.com</td>\n",
       "      <td>17783</td>\n",
       "      <td>NaN</td>\n",
       "      <td>NaN</td>\n",
       "      <td>NaN</td>\n",
       "      <td>2015-03-07 6:50:31</td>\n",
       "    </tr>\n",
       "    <tr>\n",
       "      <th>1</th>\n",
       "      <td>56</td>\n",
       "      <td>hipgive_user</td>\n",
       "      <td>Joelle</td>\n",
       "      <td>Deschamps</td>\n",
       "      <td>Joelle Deschamps</td>\n",
       "      <td>18012</td>\n",
       "      <td>NaN</td>\n",
       "      <td>NaN</td>\n",
       "      <td>NaN</td>\n",
       "      <td>2015-03-07 6:50:31</td>\n",
       "    </tr>\n",
       "    <tr>\n",
       "      <th>2</th>\n",
       "      <td>57</td>\n",
       "      <td>hipgive_user</td>\n",
       "      <td>Justin</td>\n",
       "      <td>Trezza</td>\n",
       "      <td>Justin Trezza</td>\n",
       "      <td>18003</td>\n",
       "      <td>2141 N Howard St</td>\n",
       "      <td>Philadelphia</td>\n",
       "      <td>PA</td>\n",
       "      <td>2015-03-07 6:50:31</td>\n",
       "    </tr>\n",
       "    <tr>\n",
       "      <th>3</th>\n",
       "      <td>58</td>\n",
       "      <td>hipgive_user</td>\n",
       "      <td>Katherine</td>\n",
       "      <td>Heilman</td>\n",
       "      <td>Katherine Heilman</td>\n",
       "      <td>18059</td>\n",
       "      <td>NaN</td>\n",
       "      <td>NaN</td>\n",
       "      <td>NaN</td>\n",
       "      <td>2015-03-07 6:50:31</td>\n",
       "    </tr>\n",
       "    <tr>\n",
       "      <th>4</th>\n",
       "      <td>59</td>\n",
       "      <td>hipgive_user</td>\n",
       "      <td>Violeta</td>\n",
       "      <td>Moser</td>\n",
       "      <td>Violeta Moser</td>\n",
       "      <td>NaN</td>\n",
       "      <td>NaN</td>\n",
       "      <td>NaN</td>\n",
       "      <td>NaN</td>\n",
       "      <td>2015-03-07 6:50:31</td>\n",
       "    </tr>\n",
       "  </tbody>\n",
       "</table>\n",
       "</div>"
      ],
      "text/plain": [
       "   id          role first_name  last_name              displayname  \\\n",
       "0  55  hipgive_user       Ruth     Ortega  Ruth.Ortega@outlook.com   \n",
       "1  56  hipgive_user     Joelle  Deschamps         Joelle Deschamps   \n",
       "2  57  hipgive_user     Justin     Trezza            Justin Trezza   \n",
       "3  58  hipgive_user  Katherine    Heilman        Katherine Heilman   \n",
       "4  59  hipgive_user    Violeta      Moser            Violeta Moser   \n",
       "\n",
       "  organization_id us_address_provided       us_city us_state  \\\n",
       "0           17783                 NaN           NaN      NaN   \n",
       "1           18012                 NaN           NaN      NaN   \n",
       "2           18003    2141 N Howard St  Philadelphia       PA   \n",
       "3           18059                 NaN           NaN      NaN   \n",
       "4             NaN                 NaN           NaN      NaN   \n",
       "\n",
       "      user_registered  \n",
       "0  2015-03-07 6:50:31  \n",
       "1  2015-03-07 6:50:31  \n",
       "2  2015-03-07 6:50:31  \n",
       "3  2015-03-07 6:50:31  \n",
       "4  2015-03-07 6:50:31  "
      ]
     },
     "execution_count": 29,
     "metadata": {},
     "output_type": "execute_result"
    }
   ],
   "source": [
    "users.head()"
   ]
  },
  {
   "cell_type": "code",
   "execution_count": 30,
   "metadata": {},
   "outputs": [
    {
     "data": {
      "text/plain": [
       "Index(['id', 'project_id', 'payment_date', 'payer_name', 'payer_email',\n",
       "       'total_donation', 'donation_amount', 'hiptip_percent',\n",
       "       'wepay_payment_amount', 'wepay_fee', 'coupon_code', 'anonymous',\n",
       "       'newsletter', 'display_name', 'message', 'perk_shipping_address',\n",
       "       'hipgive_extra_promo_code', 'hipgive_extra_promo_code_amount',\n",
       "       'subscription_id', 'transaction_id', 'wepay_checkout_id',\n",
       "       'match_amount', 'match_id', 'using_stripe', 'stripe_payment_id',\n",
       "       'wepay_preapproval_id', 'post_author_override', 'author_user_id',\n",
       "       'status', 'post_modified', 'post_date', 'post_date_gmt', 'created_at',\n",
       "       'updated_at', 'place'],\n",
       "      dtype='object')"
      ]
     },
     "execution_count": 30,
     "metadata": {},
     "output_type": "execute_result"
    }
   ],
   "source": [
    "donations.columns\n"
   ]
  },
  {
   "cell_type": "code",
   "execution_count": 32,
   "metadata": {},
   "outputs": [],
   "source": [
    "donations_features=['id', 'project_id', 'payment_date', 'payer_name',\n",
    "       'total_donation', 'donation_amount', 'hiptip_percent',\n",
    "       'wepay_payment_amount', 'wepay_fee', 'coupon_code', 'anonymous',\n",
    "      'display_name', 'message',\n",
    "       'hipgive_extra_promo_code', 'hipgive_extra_promo_code_amount',\n",
    "        'transaction_id', 'wepay_checkout_id',\n",
    "       'match_amount', 'match_id', 'author_user_id',\n",
    "       'status',  'post_date', 'post_date_gmt', 'place']\n",
    "donations=donations[donations_features]"
   ]
  },
  {
   "cell_type": "code",
   "execution_count": null,
   "metadata": {},
   "outputs": [],
   "source": []
  },
  {
   "cell_type": "code",
   "execution_count": null,
   "metadata": {},
   "outputs": [],
   "source": []
  }
 ],
 "metadata": {
  "kernelspec": {
   "display_name": "Python 3",
   "language": "python",
   "name": "python3"
  },
  "language_info": {
   "codemirror_mode": {
    "name": "ipython",
    "version": 3
   },
   "file_extension": ".py",
   "mimetype": "text/x-python",
   "name": "python",
   "nbconvert_exporter": "python",
   "pygments_lexer": "ipython3",
   "version": "3.6.5"
  }
 },
 "nbformat": 4,
 "nbformat_minor": 2
}
