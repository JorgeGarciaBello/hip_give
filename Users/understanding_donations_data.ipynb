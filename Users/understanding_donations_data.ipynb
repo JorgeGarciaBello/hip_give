{
 "cells": [
  {
   "cell_type": "code",
   "execution_count": 1,
   "metadata": {},
   "outputs": [],
   "source": [
    "import pandas as pd\n",
    "import numpy as np"
   ]
  },
  {
   "cell_type": "code",
   "execution_count": 2,
   "metadata": {},
   "outputs": [],
   "source": [
    "# Lectura de la migración de donaciones\n",
    "org_data_donatios = pd.read_csv('original_data/hipgive_donations_migration.csv')"
   ]
  },
  {
   "cell_type": "code",
   "execution_count": 3,
   "metadata": {},
   "outputs": [
    {
     "data": {
      "text/plain": [
       "Index([u'id', u'project_id', u'payment_date', u'payer_name', u'payer_email',\n",
       "       u'total_donation', u'donation_amount', u'hiptip_percent',\n",
       "       u'wepay_payment_amount', u'wepay_fee', u'coupon_code', u'anonymous',\n",
       "       u'newsletter', u'display_name', u'message', u'perk_shipping_address',\n",
       "       u'hipgive_extra_promo_code', u'hipgive_extra_promo_code_amount',\n",
       "       u'subscription_id', u'transaction_id', u'wepay_checkout_id',\n",
       "       u'match_amount', u'match_id', u'using_stripe', u'stripe_payment_id',\n",
       "       u'wepay_preapproval_id', u'post_author_override', u'author_user_id',\n",
       "       u'status', u'post_modified', u'post_date', u'post_date_gmt',\n",
       "       u'created_at', u'updated_at'],\n",
       "      dtype='object')"
      ]
     },
     "execution_count": 3,
     "metadata": {},
     "output_type": "execute_result"
    }
   ],
   "source": [
    "org_data_donatios.columns"
   ]
  },
  {
   "cell_type": "code",
   "execution_count": null,
   "metadata": {},
   "outputs": [],
   "source": [
    "features=['id', u'project_id',\n",
    "       u'total_donation', u'donation_amount',\n",
    "       , u'anonymous', u'message',\n",
    "       , u'author_user_id',\n",
    "       u'status', u'post_modified', u'post_date', u'post_date_gmt',\n",
    "       u'created_at', u'updated_at']\n",
    "data_donations = org_data_donatios"
   ]
  },
  {
   "cell_type": "code",
   "execution_count": 40,
   "metadata": {},
   "outputs": [
    {
     "data": {
      "text/plain": [
       "True     637\n",
       "False     25\n",
       "dtype: int64"
      ]
     },
     "execution_count": 40,
     "metadata": {},
     "output_type": "execute_result"
    }
   ],
   "source": [
    "(org_data_donatios['post_modified'] ==org_data_donatios['post_date']).value_counts()"
   ]
  },
  {
   "cell_type": "code",
   "execution_count": 41,
   "metadata": {},
   "outputs": [
    {
     "data": {
      "text/plain": [
       "False    662\n",
       "dtype: int64"
      ]
     },
     "execution_count": 41,
     "metadata": {},
     "output_type": "execute_result"
    }
   ],
   "source": [
    "(org_data_donatios['post_modified'] ==org_data_donatios['post_date_gmt']).value_counts()"
   ]
  },
  {
   "cell_type": "code",
   "execution_count": 42,
   "metadata": {},
   "outputs": [
    {
     "data": {
      "text/plain": [
       "True     660\n",
       "False      2\n",
       "dtype: int64"
      ]
     },
     "execution_count": 42,
     "metadata": {},
     "output_type": "execute_result"
    }
   ],
   "source": [
    "(org_data_donatios['created_at'] ==org_data_donatios['updated_at']).value_counts()"
   ]
  },
  {
   "cell_type": "code",
   "execution_count": null,
   "metadata": {},
   "outputs": [],
   "source": []
  },
  {
   "cell_type": "code",
   "execution_count": null,
   "metadata": {},
   "outputs": [],
   "source": []
  },
  {
   "cell_type": "code",
   "execution_count": null,
   "metadata": {},
   "outputs": [],
   "source": []
  },
  {
   "cell_type": "code",
   "execution_count": 5,
   "metadata": {},
   "outputs": [
    {
     "data": {
      "text/plain": [
       "True    662\n",
       "Name: payment_date, dtype: int64"
      ]
     },
     "execution_count": 5,
     "metadata": {},
     "output_type": "execute_result"
    }
   ],
   "source": [
    "payment_date=org_data_donatios['payment_date']\n",
    "payment_date.isna().value_counts()"
   ]
  },
  {
   "cell_type": "code",
   "execution_count": 6,
   "metadata": {},
   "outputs": [
    {
     "data": {
      "text/plain": [
       "True     632\n",
       "False     30\n",
       "Name: payer_name, dtype: int64"
      ]
     },
     "execution_count": 6,
     "metadata": {},
     "output_type": "execute_result"
    }
   ],
   "source": [
    "payer_name=org_data_donatios['payer_name']\n",
    "payer_name.isna().value_counts()"
   ]
  },
  {
   "cell_type": "code",
   "execution_count": 7,
   "metadata": {},
   "outputs": [
    {
     "data": {
      "text/plain": [
       "True     432\n",
       "False    230\n",
       "Name: payer_email, dtype: int64"
      ]
     },
     "execution_count": 7,
     "metadata": {},
     "output_type": "execute_result"
    }
   ],
   "source": [
    "payer_email=org_data_donatios['payer_email']\n",
    "payer_email.isna().value_counts()"
   ]
  },
  {
   "cell_type": "code",
   "execution_count": 37,
   "metadata": {},
   "outputs": [
    {
     "data": {
      "text/plain": [
       "expired    442\n",
       "draft      218\n",
       "Name: status, dtype: int64"
      ]
     },
     "execution_count": 37,
     "metadata": {},
     "output_type": "execute_result"
    }
   ],
   "source": [
    "#total_donation\n",
    "status=org_data_donatios['status']\n",
    "status.value_counts()"
   ]
  },
  {
   "cell_type": "code",
   "execution_count": null,
   "metadata": {},
   "outputs": [],
   "source": []
  }
 ],
 "metadata": {
  "kernelspec": {
   "display_name": "Python 2",
   "language": "python",
   "name": "python2"
  },
  "language_info": {
   "codemirror_mode": {
    "name": "ipython",
    "version": 2
   },
   "file_extension": ".py",
   "mimetype": "text/x-python",
   "name": "python",
   "nbconvert_exporter": "python",
   "pygments_lexer": "ipython2",
   "version": "2.7.15"
  }
 },
 "nbformat": 4,
 "nbformat_minor": 2
}
