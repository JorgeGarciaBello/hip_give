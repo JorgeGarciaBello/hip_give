{
 "cells": [
  {
   "cell_type": "code",
   "execution_count": 1,
   "metadata": {},
   "outputs": [],
   "source": [
    "import pandas as pd\n",
    "import numpy as np"
   ]
  },
  {
   "cell_type": "code",
   "execution_count": 44,
   "metadata": {},
   "outputs": [
    {
     "data": {
      "text/plain": [
       "Index([u'id', u'user_login', u'username', u'role', u'first_name', u'last_name',\n",
       "       u'nickname', u'displayname', u'email', u'website', u'biographical_info',\n",
       "       u'profile_picture', u'organization_id',\n",
       "       u'completed_required_docs_form_fields', u'notified_required_docs_form',\n",
       "       u'fiscal_location', u'us_address_provided', u'us_city', u'us_state',\n",
       "       u'us_zip_code', u'latam_bank_holder',\n",
       "       u'latam_bank_acount_owner_address', u'latam_bank_account_number',\n",
       "       u'latam_bank_aba_number', u'latam_bank_bank_name',\n",
       "       u'latam_bank_routing_number', u'latam_bank_swift', u'latam_bank_clabe',\n",
       "       u'latam_bank_interm_bank_name', u'latam_bank_interm_swift',\n",
       "       u'latam_bank_interm_phone_number', u'board_member_list_0_document',\n",
       "       u'board_member_list', u'incorporation_as_a_nonprofit',\n",
       "       u'irs_determination_letter_0_document', u'irs_determination_letter',\n",
       "       u'irs990_or_audited_financial_statement_0_document',\n",
       "       u'irs990_or_audited_financial_statement',\n",
       "       u'current_fiscal_year_organizational_budget_0_document',\n",
       "       u'current_fiscal_year_organizational_budget',\n",
       "       u'us_sponsorship_agreement', u'user_registered', u'user_status',\n",
       "       u'valid', u'errors', u'created_at', u'updated_at', u'Unnamed: 47',\n",
       "       u'Unnamed: 48', u'Unnamed: 49', u'Unnamed: 50', u'Unnamed: 51',\n",
       "       u'Unnamed: 52', u'Unnamed: 53', u'Unnamed: 54', u'Unnamed: 55',\n",
       "       u'Unnamed: 56', u'Unnamed: 57', u'Unnamed: 58', u'Unnamed: 59',\n",
       "       u'Unnamed: 60'],\n",
       "      dtype='object')"
      ]
     },
     "execution_count": 44,
     "metadata": {},
     "output_type": "execute_result"
    }
   ],
   "source": [
    "userDat=pd.read_csv('original_data/hip_users_migration.csv')\n",
    "userDat.columns"
   ]
  },
  {
   "cell_type": "code",
   "execution_count": 45,
   "metadata": {},
   "outputs": [],
   "source": [
    "features=[u'id', u'user_login','username', u'role', u'first_name', u'last_name',\n",
    "       u'nickname', u'displayname', u'email', u'website', u'biographical_info',\n",
    "       u'profile_picture', u'organization_id',\n",
    "       u'completed_required_docs_form_fields', u'notified_required_docs_form',\n",
    "       u'fiscal_location', u'us_address_provided', u'us_city', u'us_state',\n",
    "       u'us_zip_code', u'latam_bank_holder',\n",
    "       u'latam_bank_acount_owner_address', u'latam_bank_account_number',\n",
    "       u'latam_bank_aba_number', u'latam_bank_bank_name',\n",
    "       u'latam_bank_routing_number', u'latam_bank_swift', u'latam_bank_clabe',\n",
    "       u'latam_bank_interm_bank_name', u'latam_bank_interm_swift',\n",
    "       u'latam_bank_interm_phone_number', u'board_member_list_0_document',\n",
    "       u'board_member_list', u'incorporation_as_a_nonprofit',\n",
    "       u'irs_determination_letter_0_document', u'irs_determination_letter',\n",
    "       u'irs990_or_audited_financial_statement_0_document',\n",
    "       u'irs990_or_audited_financial_statement',\n",
    "       u'current_fiscal_year_organizational_budget_0_document',\n",
    "       u'current_fiscal_year_organizational_budget',\n",
    "       u'us_sponsorship_agreement', u'user_registered', u'user_status',\n",
    "       u'valid', u'errors', u'created_at', u'updated_at']\n",
    "userDat=userDat[features]"
   ]
  },
  {
   "cell_type": "code",
   "execution_count": 57,
   "metadata": {},
   "outputs": [
    {
     "data": {
      "text/plain": [
       "(23135, 47)"
      ]
     },
     "execution_count": 57,
     "metadata": {},
     "output_type": "execute_result"
    }
   ],
   "source": [
    "userDat.shape"
   ]
  },
  {
   "cell_type": "code",
   "execution_count": 47,
   "metadata": {},
   "outputs": [
    {
     "data": {
      "text/plain": [
       "True    23135\n",
       "dtype: int64"
      ]
     },
     "execution_count": 47,
     "metadata": {},
     "output_type": "execute_result"
    }
   ],
   "source": [
    "comparison1 = userDat['user_login']==userDat['username']\n",
    "comparison1.value_counts()"
   ]
  },
  {
   "cell_type": "code",
   "execution_count": null,
   "metadata": {},
   "outputs": [],
   "source": []
  },
  {
   "cell_type": "code",
   "execution_count": 48,
   "metadata": {},
   "outputs": [
    {
     "data": {
      "text/plain": [
       "True     22884\n",
       "False      251\n",
       "dtype: int64"
      ]
     },
     "execution_count": 48,
     "metadata": {},
     "output_type": "execute_result"
    }
   ],
   "source": [
    "comparison2 = userDat['user_login']==userDat['nickname']\n",
    "comparison2.value_counts()"
   ]
  },
  {
   "cell_type": "code",
   "execution_count": 49,
   "metadata": {},
   "outputs": [
    {
     "data": {
      "text/plain": [
       "False    14958\n",
       "True      8177\n",
       "dtype: int64"
      ]
     },
     "execution_count": 49,
     "metadata": {},
     "output_type": "execute_result"
    }
   ],
   "source": [
    "comparison3 = userDat['user_login']==userDat['email']\n",
    "comparison3.value_counts()"
   ]
  },
  {
   "cell_type": "code",
   "execution_count": 50,
   "metadata": {},
   "outputs": [
    {
     "data": {
      "text/plain": [
       "hipgive_user    23135\n",
       "Name: role, dtype: int64"
      ]
     },
     "execution_count": 50,
     "metadata": {},
     "output_type": "execute_result"
    }
   ],
   "source": [
    "userDat.role.value_counts()"
   ]
  },
  {
   "cell_type": "code",
   "execution_count": 79,
   "metadata": {},
   "outputs": [
    {
     "data": {
      "text/plain": [
       "751"
      ]
     },
     "execution_count": 79,
     "metadata": {},
     "output_type": "execute_result"
    }
   ],
   "source": [
    "#userDat.organization_id.value_counts() # Indica que existen 741 tpos diferentes \n",
    "                                        # 'ornagization_id', falta sabes cuantos \n",
    "                                        # registros se encuentran vacios\n",
    "aux_data_organization_id =userDat['organization_id'].copy() # Realiza copia de la columna \n",
    "                                                            # 'organization_id'\n",
    "notnull = aux_data_organization_id.dropna()                 # Elimina los datos nulos en\n",
    "                                                            # 'aux_data_organization_id'\n",
    "notnull.size  # Imprime el tamaño de los registros no nulos\n",
    "#result = userDat['organization_id']=='NULL'\n",
    "#result.value_counts()"
   ]
  },
  {
   "cell_type": "code",
   "execution_count": 81,
   "metadata": {},
   "outputs": [
    {
     "data": {
      "text/plain": [
       "False    751\n",
       "Name: organization_id, dtype: int64"
      ]
     },
     "execution_count": 81,
     "metadata": {},
     "output_type": "execute_result"
    }
   ],
   "source": [
    "notnull.isna().value_counts()"
   ]
  },
  {
   "cell_type": "code",
   "execution_count": 83,
   "metadata": {},
   "outputs": [
    {
     "data": {
      "text/plain": [
       "True     22384\n",
       "False      751\n",
       "Name: organization_id, dtype: int64"
      ]
     },
     "execution_count": 83,
     "metadata": {},
     "output_type": "execute_result"
    }
   ],
   "source": [
    "aux_data_organization_id.isna().value_counts()"
   ]
  },
  {
   "cell_type": "code",
   "execution_count": 66,
   "metadata": {},
   "outputs": [
    {
     "data": {
      "text/plain": [
       "http://solmarfoundation.com          1\n",
       "http://www.enlacedefamilias.org/     1\n",
       "http://www.pahofoundation.org/en/    1\n",
       "http://WWW.GRAMEENPRIMACARE.ORG      1\n",
       "http://fcbajio.org/                  1\n",
       "Name: website, dtype: int64"
      ]
     },
     "execution_count": 66,
     "metadata": {},
     "output_type": "execute_result"
    }
   ],
   "source": [
    "#resultw =userDat['website']!='http://fcbajio.org/'\n",
    "#resultw.value_counts()\n",
    "userDat['website'].value_counts()\n",
    "#Por los pocos datos de las páginas web, se descarta esta información como variable a cosiderar"
   ]
  },
  {
   "cell_type": "code",
   "execution_count": 91,
   "metadata": {},
   "outputs": [
    {
     "data": {
      "text/plain": [
       "Index([u'id', u'user_login', u'username', u'role', u'first_name', u'last_name',\n",
       "       u'nickname', u'displayname', u'email', u'website', u'biographical_info',\n",
       "       u'profile_picture', u'organization_id',\n",
       "       u'completed_required_docs_form_fields', u'notified_required_docs_form',\n",
       "       u'fiscal_location', u'us_address_provided', u'us_city', u'us_state',\n",
       "       u'us_zip_code', u'latam_bank_holder',\n",
       "       u'latam_bank_acount_owner_address', u'latam_bank_account_number',\n",
       "       u'latam_bank_aba_number', u'latam_bank_bank_name',\n",
       "       u'latam_bank_routing_number', u'latam_bank_swift', u'latam_bank_clabe',\n",
       "       u'latam_bank_interm_bank_name', u'latam_bank_interm_swift',\n",
       "       u'latam_bank_interm_phone_number', u'board_member_list_0_document',\n",
       "       u'board_member_list', u'incorporation_as_a_nonprofit',\n",
       "       u'irs_determination_letter_0_document', u'irs_determination_letter',\n",
       "       u'irs990_or_audited_financial_statement_0_document',\n",
       "       u'irs990_or_audited_financial_statement',\n",
       "       u'current_fiscal_year_organizational_budget_0_document',\n",
       "       u'current_fiscal_year_organizational_budget',\n",
       "       u'us_sponsorship_agreement', u'user_registered', u'user_status',\n",
       "       u'valid', u'errors', u'created_at', u'updated_at'],\n",
       "      dtype='object')"
      ]
     },
     "execution_count": 91,
     "metadata": {},
     "output_type": "execute_result"
    }
   ],
   "source": [
    "userDat.columns"
   ]
  },
  {
   "cell_type": "code",
   "execution_count": 96,
   "metadata": {},
   "outputs": [
    {
     "data": {
      "text/plain": [
       "True     14083\n",
       "False     9052\n",
       "Name: completed_required_docs_form_fields, dtype: int64"
      ]
     },
     "execution_count": 96,
     "metadata": {},
     "output_type": "execute_result"
    }
   ],
   "source": [
    "userDat.completed_required_docs_form_fields.isna().value_counts()"
   ]
  },
  {
   "cell_type": "code",
   "execution_count": 101,
   "metadata": {},
   "outputs": [
    {
     "data": {
      "text/plain": [
       "us                  1754\n",
       "latam                111\n",
       "avoket                 1\n",
       "ojiluxa                1\n",
       "epojuva                1\n",
       "enoni                  1\n",
       "ylypoze                1\n",
       "Sharline               1\n",
       "Chorizocrampon21       1\n",
       "Name: fiscal_location, dtype: int64"
      ]
     },
     "execution_count": 101,
     "metadata": {},
     "output_type": "execute_result"
    }
   ],
   "source": [
    "userDat.fiscal_location.value_counts()"
   ]
  },
  {
   "cell_type": "code",
   "execution_count": 102,
   "metadata": {},
   "outputs": [
    {
     "data": {
      "text/plain": [
       "Gotzkowskystrasse 23             2\n",
       "Rosenstrasse 21                  2\n",
       "2601 Mission Street Suite 500    2\n",
       "Rue De Berloz 240                2\n",
       "79 Creegans Road                 2\n",
       "34 Boulevard Amiral Courbet      2\n",
       "Rua Dos Espanhois 1150           2\n",
       "14 Old Edinburgh Road            2\n",
       "12 Rue Du Faubourg National      2\n",
       "Stoklokken 84                    2\n",
       "Herrenberg 105                   2\n",
       "Ellmenreichstrasse 24            2\n",
       "Via Torricelli 1                 2\n",
       "Luckenwalder Strasse 87          2\n",
       "Voederheil 72                    1\n",
       "Via Archimede 59                 1\n",
       "Via Genova 111                   1\n",
       "Vollenhovemeen 65                1\n",
       "84 Constitution St               1\n",
       "34 Roker Terrace                 1\n",
       "PO Box 41318                     1\n",
       "91 Alfred Street                 1\n",
       "50 Rue De Raymond Poincare       1\n",
       "Deken Kempslaan 187              1\n",
       "60 Duckpit Lane                  1\n",
       "3415 Morris Street               1\n",
       "Rua Nair Pimenta Da Silva 992    1\n",
       "Horner Strasse 64                1\n",
       "Ziegelstr. 18                    1\n",
       "93 Peninsula Drive               1\n",
       "                                ..\n",
       "708 Harron Drive                 1\n",
       "Arbraut 12                       1\n",
       "Luebecker Strasse 49             1\n",
       "Stra?E Der Pariser Kommune 57    1\n",
       "Lange Strasse 53                 1\n",
       "Viale Delle Province 92          1\n",
       "50 Town Lane                     1\n",
       "9 Rue Du Fosse Des Tanneurs      1\n",
       "Frankfurter Allee 85             1\n",
       "106 S 6th Street                 1\n",
       "Kopfholzistrasse 141             1\n",
       "Maagdenweg 139                   1\n",
       "Piazza Principe Umberto 81       1\n",
       "Van Watervlietstraat 196         1\n",
       "Van Naeltwijckstraat 102         1\n",
       "Kantstrasse 46                   1\n",
       "Lambrechtstraat 358              1\n",
       "7 Place Du Jeu De Paume          1\n",
       "Via Stadera 12                   1\n",
       "35 Carriers Road                 1\n",
       "Rua Sao Benedito 108             1\n",
       "Untere Bahnhofstrasse 8          1\n",
       "Haiden 66                        1\n",
       "80 Freezeland Lane               1\n",
       "95 Thames Street                 1\n",
       "78 Spencer Street                1\n",
       "82 Golf Road                     1\n",
       "32 Maintongoon Road              1\n",
       "Via Delle Azalee 135             1\n",
       "16 Temple Way                    1\n",
       "Name: us_address_provided, Length: 1755, dtype: int64"
      ]
     },
     "execution_count": 102,
     "metadata": {},
     "output_type": "execute_result"
    }
   ],
   "source": [
    "userDat.us_address_provided.value_counts()"
   ]
  },
  {
   "cell_type": "code",
   "execution_count": 103,
   "metadata": {},
   "outputs": [
    {
     "data": {
      "text/plain": [
       "Reykjavik              12\n",
       "Kobenhavn V            11\n",
       "Los Angeles            10\n",
       "Kobenhavn K             9\n",
       "Sao Paulo               8\n",
       "Toronto                 7\n",
       "Paris                   7\n",
       "Frederiksberg C         6\n",
       "Washington              6\n",
       "Munchen                 5\n",
       "London                  5\n",
       "Wroclaw                 5\n",
       "Rotterdam               5\n",
       "San Francisco           5\n",
       "Oakland                 5\n",
       "Chicago                 4\n",
       "Warszawa                4\n",
       "Albuquerque             4\n",
       "Atlanta                 4\n",
       "Utrecht                 4\n",
       "Salvador                4\n",
       "Lodz                    4\n",
       "Amsterdam               4\n",
       "Montreal                4\n",
       "Lublin                  4\n",
       "Ottawa                  3\n",
       "Phoenix                 3\n",
       "Luneville               3\n",
       "Neuilly-Sur-Marne       3\n",
       "Haarlem                 3\n",
       "                       ..\n",
       "Ramskapelle             1\n",
       "Caerau                  1\n",
       "Stuttgart Degerloch     1\n",
       "Sava                    1\n",
       "Sherbrooke              1\n",
       "Rybnik                  1\n",
       "Bridge Lake             1\n",
       "Karlstad                1\n",
       "Merignac                1\n",
       "Schlagereck             1\n",
       "Haguenau                1\n",
       "Ashley                  1\n",
       "Schuss                  1\n",
       "Satellite Beach         1\n",
       "Dadizele                1\n",
       "Lorain                  1\n",
       "Cerro Veronese          1\n",
       "Zeist                   1\n",
       "Rastede                 1\n",
       "Harrislee               1\n",
       "Ermelo                  1\n",
       "Bermel                  1\n",
       "Albiate                 1\n",
       "Helmond                 1\n",
       "Langi Kal Kal           1\n",
       "Yorkton                 1\n",
       "Geleen                  1\n",
       "Orange                  1\n",
       "Newburgh                1\n",
       "Swordly                 1\n",
       "Name: us_city, Length: 1521, dtype: int64"
      ]
     },
     "execution_count": 103,
     "metadata": {},
     "output_type": "execute_result"
    }
   ],
   "source": [
    "userDat.us_city.value_counts()"
   ]
  },
  {
   "cell_type": "code",
   "execution_count": 104,
   "metadata": {},
   "outputs": [
    {
     "data": {
      "text/plain": [
       "CENTRE                94\n",
       "BURGENLAND            79\n",
       "NSW                   47\n",
       "CA                    40\n",
       "BY                    39\n",
       "QLD                   35\n",
       "ZH                    31\n",
       "SP                    30\n",
       "REGION SJALLAND       30\n",
       "VIC                   29\n",
       "WA                    27\n",
       "ILE-DE-FRANCE         26\n",
       "RP                    25\n",
       "NH                    25\n",
       "GE                    24\n",
       "NB                    19\n",
       "ON                    18\n",
       "LOWER AUSTRIA         18\n",
       "BW                    17\n",
       "UPPER AUSTRIA         17\n",
       "NW                    17\n",
       "WHT                   17\n",
       "SA                    16\n",
       "NI                    15\n",
       "FL                    14\n",
       "OV                    14\n",
       "NC                    13\n",
       "NY                    13\n",
       "GR                    12\n",
       "REGION SYDDANMARK     11\n",
       "                      ..\n",
       "AM                     1\n",
       "AP                     1\n",
       "enoni                  1\n",
       "AV                     1\n",
       "BRETAGNE               1\n",
       "WLX                    1\n",
       "New York, NY           1\n",
       "VA                     1\n",
       "PT                     1\n",
       "BL                     1\n",
       "Alabama                1\n",
       "New Zealand            1\n",
       "AUVERGNE               1\n",
       "REGION HOVEDSTADEN     1\n",
       "Washington             1\n",
       "Oregon                 1\n",
       "RA                     1\n",
       "PICARDIE               1\n",
       "Georgia                1\n",
       "PN                     1\n",
       "Chiapas, Mexico        1\n",
       "BS                     1\n",
       "FRANCHE-COMTE          1\n",
       "YT                     1\n",
       "Co                     1\n",
       "New Mexico             1\n",
       "VR                     1\n",
       "VV                     1\n",
       "BI                     1\n",
       "HB                     1\n",
       "Name: us_state, Length: 206, dtype: int64"
      ]
     },
     "execution_count": 104,
     "metadata": {},
     "output_type": "execute_result"
    }
   ],
   "source": [
    "userDat.us_state.value_counts()"
   ]
  },
  {
   "cell_type": "code",
   "execution_count": 115,
   "metadata": {},
   "outputs": [],
   "source": [
    "user=pd.read_csv('original_data/hip_users_migration.csv')"
   ]
  },
  {
   "cell_type": "code",
   "execution_count": 116,
   "metadata": {},
   "outputs": [],
   "source": [
    "features=['id','username', 'first_name','last_name','nickname','displayname','email','organization_id','fiscal_location','us_address_provided','us_city','us_state','user_registered','errors','created_at','updated_at']"
   ]
  },
  {
   "cell_type": "code",
   "execution_count": 117,
   "metadata": {},
   "outputs": [],
   "source": [
    "user = user[features]"
   ]
  },
  {
   "cell_type": "code",
   "execution_count": 118,
   "metadata": {},
   "outputs": [
    {
     "data": {
      "text/html": [
       "<div>\n",
       "<style scoped>\n",
       "    .dataframe tbody tr th:only-of-type {\n",
       "        vertical-align: middle;\n",
       "    }\n",
       "\n",
       "    .dataframe tbody tr th {\n",
       "        vertical-align: top;\n",
       "    }\n",
       "\n",
       "    .dataframe thead th {\n",
       "        text-align: right;\n",
       "    }\n",
       "</style>\n",
       "<table border=\"1\" class=\"dataframe\">\n",
       "  <thead>\n",
       "    <tr style=\"text-align: right;\">\n",
       "      <th></th>\n",
       "      <th>id</th>\n",
       "      <th>username</th>\n",
       "      <th>first_name</th>\n",
       "      <th>last_name</th>\n",
       "      <th>nickname</th>\n",
       "      <th>displayname</th>\n",
       "      <th>email</th>\n",
       "      <th>organization_id</th>\n",
       "      <th>fiscal_location</th>\n",
       "      <th>us_address_provided</th>\n",
       "      <th>us_city</th>\n",
       "      <th>us_state</th>\n",
       "      <th>user_registered</th>\n",
       "      <th>errors</th>\n",
       "      <th>created_at</th>\n",
       "      <th>updated_at</th>\n",
       "    </tr>\n",
       "  </thead>\n",
       "  <tbody>\n",
       "    <tr>\n",
       "      <th>0</th>\n",
       "      <td>55</td>\n",
       "      <td>Ruth.Ortega@outlook.com</td>\n",
       "      <td>Ruth</td>\n",
       "      <td>Ortega</td>\n",
       "      <td>Ruth.Ortega@outlook.com</td>\n",
       "      <td>Ruth.Ortega@outlook.com</td>\n",
       "      <td>Ruth.Ortega@outlook.com</td>\n",
       "      <td>17783</td>\n",
       "      <td>NaN</td>\n",
       "      <td>NaN</td>\n",
       "      <td>NaN</td>\n",
       "      <td>NaN</td>\n",
       "      <td>2015-03-07 6:50:31</td>\n",
       "      <td>[\\The irs determination letter 0 document fiel...</td>\n",
       "      <td>\\\"The irs990 or audited financial statement 0 ...</td>\n",
       "      <td>\\\"The us sponsorship agreement field is requir...</td>\n",
       "    </tr>\n",
       "    <tr>\n",
       "      <th>1</th>\n",
       "      <td>56</td>\n",
       "      <td>joelledeschamps@oxfammexico.org</td>\n",
       "      <td>Joelle</td>\n",
       "      <td>Deschamps</td>\n",
       "      <td>joelledeschamps@oxfammexico.org</td>\n",
       "      <td>Joelle Deschamps</td>\n",
       "      <td>joelledeschamps@oxfammexico.org</td>\n",
       "      <td>18012</td>\n",
       "      <td>NaN</td>\n",
       "      <td>NaN</td>\n",
       "      <td>NaN</td>\n",
       "      <td>NaN</td>\n",
       "      <td>2015-03-07 6:50:31</td>\n",
       "      <td>[\\The irs determination letter 0 document fiel...</td>\n",
       "      <td>\\\"The irs990 or audited financial statement 0 ...</td>\n",
       "      <td>\\\"The us sponsorship agreement field is requir...</td>\n",
       "    </tr>\n",
       "    <tr>\n",
       "      <th>2</th>\n",
       "      <td>57</td>\n",
       "      <td>justin@myneighborhoodproject.org</td>\n",
       "      <td>Justin</td>\n",
       "      <td>Trezza</td>\n",
       "      <td>justin@myneighborhoodproject.org</td>\n",
       "      <td>Justin Trezza</td>\n",
       "      <td>justin@myneighborhoodproject.org</td>\n",
       "      <td>18003</td>\n",
       "      <td>us</td>\n",
       "      <td>2141 N Howard St</td>\n",
       "      <td>Philadelphia</td>\n",
       "      <td>PA</td>\n",
       "      <td>2015-03-07 6:50:31</td>\n",
       "      <td>[\\The us sponsorship agreement field is requir...</td>\n",
       "      <td>\\\"The latam bank holder field is required.\\\"</td>\n",
       "      <td>\\\"The latam bank acount owner address field is...</td>\n",
       "    </tr>\n",
       "    <tr>\n",
       "      <th>3</th>\n",
       "      <td>58</td>\n",
       "      <td>kheilman@tallerpr.org</td>\n",
       "      <td>Katherine</td>\n",
       "      <td>Heilman</td>\n",
       "      <td>kheilman@tallerpr.org</td>\n",
       "      <td>Katherine Heilman</td>\n",
       "      <td>kheilman@tallerpr.org</td>\n",
       "      <td>18059</td>\n",
       "      <td>NaN</td>\n",
       "      <td>NaN</td>\n",
       "      <td>NaN</td>\n",
       "      <td>NaN</td>\n",
       "      <td>2015-03-07 6:50:31</td>\n",
       "      <td>[\\The irs determination letter 0 document fiel...</td>\n",
       "      <td>\\\"The irs990 or audited financial statement 0 ...</td>\n",
       "      <td>\\\"The us sponsorship agreement field is requir...</td>\n",
       "    </tr>\n",
       "    <tr>\n",
       "      <th>4</th>\n",
       "      <td>59</td>\n",
       "      <td>vmoser@lawanc.org</td>\n",
       "      <td>Violeta</td>\n",
       "      <td>Moser</td>\n",
       "      <td>vmoser@lawanc.org</td>\n",
       "      <td>Violeta Moser</td>\n",
       "      <td>vmoser@lawanc.org</td>\n",
       "      <td>NaN</td>\n",
       "      <td>NaN</td>\n",
       "      <td>NaN</td>\n",
       "      <td>NaN</td>\n",
       "      <td>NaN</td>\n",
       "      <td>2015-03-07 6:50:31</td>\n",
       "      <td>[\\The organization id field is required.\\\"</td>\n",
       "      <td>\\\"The irs determination letter 0 document fiel...</td>\n",
       "      <td>\\\"The irs990 or audited financial statement 0 ...</td>\n",
       "    </tr>\n",
       "  </tbody>\n",
       "</table>\n",
       "</div>"
      ],
      "text/plain": [
       "   id                          username first_name  last_name  \\\n",
       "0  55           Ruth.Ortega@outlook.com       Ruth     Ortega   \n",
       "1  56   joelledeschamps@oxfammexico.org     Joelle  Deschamps   \n",
       "2  57  justin@myneighborhoodproject.org     Justin     Trezza   \n",
       "3  58             kheilman@tallerpr.org  Katherine    Heilman   \n",
       "4  59                 vmoser@lawanc.org    Violeta      Moser   \n",
       "\n",
       "                           nickname              displayname  \\\n",
       "0           Ruth.Ortega@outlook.com  Ruth.Ortega@outlook.com   \n",
       "1   joelledeschamps@oxfammexico.org         Joelle Deschamps   \n",
       "2  justin@myneighborhoodproject.org            Justin Trezza   \n",
       "3             kheilman@tallerpr.org        Katherine Heilman   \n",
       "4                 vmoser@lawanc.org            Violeta Moser   \n",
       "\n",
       "                              email organization_id fiscal_location  \\\n",
       "0           Ruth.Ortega@outlook.com           17783             NaN   \n",
       "1   joelledeschamps@oxfammexico.org           18012             NaN   \n",
       "2  justin@myneighborhoodproject.org           18003              us   \n",
       "3             kheilman@tallerpr.org           18059             NaN   \n",
       "4                 vmoser@lawanc.org             NaN             NaN   \n",
       "\n",
       "  us_address_provided       us_city us_state     user_registered  \\\n",
       "0                 NaN           NaN      NaN  2015-03-07 6:50:31   \n",
       "1                 NaN           NaN      NaN  2015-03-07 6:50:31   \n",
       "2    2141 N Howard St  Philadelphia       PA  2015-03-07 6:50:31   \n",
       "3                 NaN           NaN      NaN  2015-03-07 6:50:31   \n",
       "4                 NaN           NaN      NaN  2015-03-07 6:50:31   \n",
       "\n",
       "                                              errors  \\\n",
       "0  [\\The irs determination letter 0 document fiel...   \n",
       "1  [\\The irs determination letter 0 document fiel...   \n",
       "2  [\\The us sponsorship agreement field is requir...   \n",
       "3  [\\The irs determination letter 0 document fiel...   \n",
       "4         [\\The organization id field is required.\\\"   \n",
       "\n",
       "                                          created_at  \\\n",
       "0  \\\"The irs990 or audited financial statement 0 ...   \n",
       "1  \\\"The irs990 or audited financial statement 0 ...   \n",
       "2       \\\"The latam bank holder field is required.\\\"   \n",
       "3  \\\"The irs990 or audited financial statement 0 ...   \n",
       "4  \\\"The irs determination letter 0 document fiel...   \n",
       "\n",
       "                                          updated_at  \n",
       "0  \\\"The us sponsorship agreement field is requir...  \n",
       "1  \\\"The us sponsorship agreement field is requir...  \n",
       "2  \\\"The latam bank acount owner address field is...  \n",
       "3  \\\"The us sponsorship agreement field is requir...  \n",
       "4  \\\"The irs990 or audited financial statement 0 ...  "
      ]
     },
     "execution_count": 118,
     "metadata": {},
     "output_type": "execute_result"
    }
   ],
   "source": [
    "user.head()"
   ]
  },
  {
   "cell_type": "code",
   "execution_count": null,
   "metadata": {},
   "outputs": [],
   "source": []
  }
 ],
 "metadata": {
  "kernelspec": {
   "display_name": "Python 2",
   "language": "python",
   "name": "python2"
  },
  "language_info": {
   "codemirror_mode": {
    "name": "ipython",
    "version": 2
   },
   "file_extension": ".py",
   "mimetype": "text/x-python",
   "name": "python",
   "nbconvert_exporter": "python",
   "pygments_lexer": "ipython2",
   "version": "2.7.15"
  }
 },
 "nbformat": 4,
 "nbformat_minor": 2
}
