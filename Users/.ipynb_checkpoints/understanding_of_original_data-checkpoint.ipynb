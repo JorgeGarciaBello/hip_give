{
 "cells": [
  {
   "cell_type": "code",
   "execution_count": 1,
   "metadata": {},
   "outputs": [],
   "source": [
    "import pandas as pd\n",
    "import numpy as np"
   ]
  },
  {
   "cell_type": "code",
   "execution_count": 44,
   "metadata": {},
   "outputs": [
    {
     "data": {
      "text/plain": [
       "Index([u'id', u'user_login', u'username', u'role', u'first_name', u'last_name',\n",
       "       u'nickname', u'displayname', u'email', u'website', u'biographical_info',\n",
       "       u'profile_picture', u'organization_id',\n",
       "       u'completed_required_docs_form_fields', u'notified_required_docs_form',\n",
       "       u'fiscal_location', u'us_address_provided', u'us_city', u'us_state',\n",
       "       u'us_zip_code', u'latam_bank_holder',\n",
       "       u'latam_bank_acount_owner_address', u'latam_bank_account_number',\n",
       "       u'latam_bank_aba_number', u'latam_bank_bank_name',\n",
       "       u'latam_bank_routing_number', u'latam_bank_swift', u'latam_bank_clabe',\n",
       "       u'latam_bank_interm_bank_name', u'latam_bank_interm_swift',\n",
       "       u'latam_bank_interm_phone_number', u'board_member_list_0_document',\n",
       "       u'board_member_list', u'incorporation_as_a_nonprofit',\n",
       "       u'irs_determination_letter_0_document', u'irs_determination_letter',\n",
       "       u'irs990_or_audited_financial_statement_0_document',\n",
       "       u'irs990_or_audited_financial_statement',\n",
       "       u'current_fiscal_year_organizational_budget_0_document',\n",
       "       u'current_fiscal_year_organizational_budget',\n",
       "       u'us_sponsorship_agreement', u'user_registered', u'user_status',\n",
       "       u'valid', u'errors', u'created_at', u'updated_at', u'Unnamed: 47',\n",
       "       u'Unnamed: 48', u'Unnamed: 49', u'Unnamed: 50', u'Unnamed: 51',\n",
       "       u'Unnamed: 52', u'Unnamed: 53', u'Unnamed: 54', u'Unnamed: 55',\n",
       "       u'Unnamed: 56', u'Unnamed: 57', u'Unnamed: 58', u'Unnamed: 59',\n",
       "       u'Unnamed: 60'],\n",
       "      dtype='object')"
      ]
     },
     "execution_count": 44,
     "metadata": {},
     "output_type": "execute_result"
    }
   ],
   "source": [
    "userDat=pd.read_csv('original_data/hip_users_migration.csv')\n",
    "userDat.columns"
   ]
  },
  {
   "cell_type": "code",
   "execution_count": 45,
   "metadata": {},
   "outputs": [],
   "source": [
    "features=[u'id', u'user_login','username', u'role', u'first_name', u'last_name',\n",
    "       u'nickname', u'displayname', u'email', u'website', u'biographical_info',\n",
    "       u'profile_picture', u'organization_id',\n",
    "       u'completed_required_docs_form_fields', u'notified_required_docs_form',\n",
    "       u'fiscal_location', u'us_address_provided', u'us_city', u'us_state',\n",
    "       u'us_zip_code', u'latam_bank_holder',\n",
    "       u'latam_bank_acount_owner_address', u'latam_bank_account_number',\n",
    "       u'latam_bank_aba_number', u'latam_bank_bank_name',\n",
    "       u'latam_bank_routing_number', u'latam_bank_swift', u'latam_bank_clabe',\n",
    "       u'latam_bank_interm_bank_name', u'latam_bank_interm_swift',\n",
    "       u'latam_bank_interm_phone_number', u'board_member_list_0_document',\n",
    "       u'board_member_list', u'incorporation_as_a_nonprofit',\n",
    "       u'irs_determination_letter_0_document', u'irs_determination_letter',\n",
    "       u'irs990_or_audited_financial_statement_0_document',\n",
    "       u'irs990_or_audited_financial_statement',\n",
    "       u'current_fiscal_year_organizational_budget_0_document',\n",
    "       u'current_fiscal_year_organizational_budget',\n",
    "       u'us_sponsorship_agreement', u'user_registered', u'user_status',\n",
    "       u'valid', u'errors', u'created_at', u'updated_at']\n",
    "userDat=userDat[features]"
   ]
  },
  {
   "cell_type": "code",
   "execution_count": 57,
   "metadata": {},
   "outputs": [
    {
     "data": {
      "text/plain": [
       "(23135, 47)"
      ]
     },
     "execution_count": 57,
     "metadata": {},
     "output_type": "execute_result"
    }
   ],
   "source": [
    "userDat.shape"
   ]
  },
  {
   "cell_type": "code",
   "execution_count": 47,
   "metadata": {},
   "outputs": [
    {
     "data": {
      "text/plain": [
       "True    23135\n",
       "dtype: int64"
      ]
     },
     "execution_count": 47,
     "metadata": {},
     "output_type": "execute_result"
    }
   ],
   "source": [
    "comparison1 = userDat['user_login']==userDat['username']\n",
    "comparison1.value_counts()"
   ]
  },
  {
   "cell_type": "code",
   "execution_count": null,
   "metadata": {},
   "outputs": [],
   "source": []
  },
  {
   "cell_type": "code",
   "execution_count": 48,
   "metadata": {},
   "outputs": [
    {
     "data": {
      "text/plain": [
       "True     22884\n",
       "False      251\n",
       "dtype: int64"
      ]
     },
     "execution_count": 48,
     "metadata": {},
     "output_type": "execute_result"
    }
   ],
   "source": [
    "comparison2 = userDat['user_login']==userDat['nickname']\n",
    "comparison2.value_counts()"
   ]
  },
  {
   "cell_type": "code",
   "execution_count": 49,
   "metadata": {},
   "outputs": [
    {
     "data": {
      "text/plain": [
       "False    14958\n",
       "True      8177\n",
       "dtype: int64"
      ]
     },
     "execution_count": 49,
     "metadata": {},
     "output_type": "execute_result"
    }
   ],
   "source": [
    "comparison3 = userDat['user_login']==userDat['email']\n",
    "comparison3.value_counts()"
   ]
  },
  {
   "cell_type": "code",
   "execution_count": 50,
   "metadata": {},
   "outputs": [
    {
     "data": {
      "text/plain": [
       "hipgive_user    23135\n",
       "Name: role, dtype: int64"
      ]
     },
     "execution_count": 50,
     "metadata": {},
     "output_type": "execute_result"
    }
   ],
   "source": [
    "userDat.role.value_counts()"
   ]
  },
  {
   "cell_type": "code",
   "execution_count": 72,
   "metadata": {},
   "outputs": [
    {
     "data": {
      "text/plain": [
       "751"
      ]
     },
     "execution_count": 72,
     "metadata": {},
     "output_type": "execute_result"
    }
   ],
   "source": [
    "#userDat.organization_id.value_counts() # Indica que existen 741 tpos diferentes \n",
    "                                        # 'ornagization_id', falta sabes cuantos \n",
    "                                        # registros se encuentran vacios\n",
    "aux_data_organization_id =userDat['organization_id'].copy() # Realiza copia de la columna \n",
    "                                                            # 'organization_id'\n",
    "notnull = aux_data_organization_id.dropna()                 # Elimina los datos nulos en\n",
    "                                                            # 'aux_data_organization_id'\n",
    "notnull.size  # Imprime el tamaño de los registros no nulos\n",
    "#result = userDat['organization_id']=='NULL'\n",
    "#result.value_counts()"
   ]
  },
  {
   "cell_type": "code",
   "execution_count": 78,
   "metadata": {},
   "outputs": [
    {
     "data": {
      "text/plain": [
       "18435                            4\n",
       "19238                            3\n",
       "18025                            2\n",
       "20710                            2\n",
       "17772                            2\n",
       "17937                            2\n",
       "20084                            2\n",
       "Royal Consulting                 1\n",
       "20988                            1\n",
       "20776                            1\n",
       "19976                            1\n",
       "17939                            1\n",
       "Corkill Consulting               1\n",
       "Washington and Artis LLC         1\n",
       "19866                            1\n",
       "20138                            1\n",
       "20958                            1\n",
       "20953                            1\n",
       "18979                            1\n",
       "19591                            1\n",
       "21108                            1\n",
       "20309                            1\n",
       "20403                            1\n",
       "17943                            1\n",
       "Wisniewski CO KG                 1\n",
       "18087                            1\n",
       "20553                            1\n",
       "20707                            1\n",
       "Lumpkins CO KG                   1\n",
       "17890                            1\n",
       "                                ..\n",
       "17788                            1\n",
       "20546                            1\n",
       "20613                            1\n",
       "18985                            1\n",
       "19011                            1\n",
       "19318                            1\n",
       "17826                            1\n",
       "17900                            1\n",
       "Vigna and Fredrickson GmbH       1\n",
       "17901                            1\n",
       "Hargrove Consulting              1\n",
       "18009                            1\n",
       "20620                            1\n",
       "Healey and Corner GmbH           1\n",
       "Mcvay and Holloman LLC           1\n",
       "17868                            1\n",
       "Clibborn Services                1\n",
       "Fundación Proacceso              1\n",
       "20050                            1\n",
       "Fitzmaurice and Lovekin CO KG    1\n",
       "Venters AG                       1\n",
       "20688                            1\n",
       "20058                            1\n",
       "17907                            1\n",
       "17906                            1\n",
       "17905                            1\n",
       "17829                            1\n",
       "17903                            1\n",
       "17902                            1\n",
       "18497                            1\n",
       "Name: organization_id, Length: 741, dtype: int64"
      ]
     },
     "execution_count": 78,
     "metadata": {},
     "output_type": "execute_result"
    }
   ],
   "source": [
    "notnull.size\n",
    "notnull.value_counts()"
   ]
  },
  {
   "cell_type": "code",
   "execution_count": 66,
   "metadata": {},
   "outputs": [
    {
     "data": {
      "text/plain": [
       "http://solmarfoundation.com          1\n",
       "http://www.enlacedefamilias.org/     1\n",
       "http://www.pahofoundation.org/en/    1\n",
       "http://WWW.GRAMEENPRIMACARE.ORG      1\n",
       "http://fcbajio.org/                  1\n",
       "Name: website, dtype: int64"
      ]
     },
     "execution_count": 66,
     "metadata": {},
     "output_type": "execute_result"
    }
   ],
   "source": [
    "#resultw =userDat['website']!='http://fcbajio.org/'\n",
    "#resultw.value_counts()\n",
    "userDat['website'].value_counts()\n",
    "#Por los pocos datos de las páginas web, se descarta esta información como variable a cosiderar"
   ]
  },
  {
   "cell_type": "code",
   "execution_count": null,
   "metadata": {},
   "outputs": [],
   "source": []
  }
 ],
 "metadata": {
  "kernelspec": {
   "display_name": "Python 2",
   "language": "python",
   "name": "python2"
  },
  "language_info": {
   "codemirror_mode": {
    "name": "ipython",
    "version": 2
   },
   "file_extension": ".py",
   "mimetype": "text/x-python",
   "name": "python",
   "nbconvert_exporter": "python",
   "pygments_lexer": "ipython2",
   "version": "2.7.15"
  }
 },
 "nbformat": 4,
 "nbformat_minor": 2
}
