{
 "cells": [
  {
   "cell_type": "code",
   "execution_count": 1,
   "metadata": {},
   "outputs": [],
   "source": [
    "# Paqueterias requeridas para el análisis\n",
    "import pandas as pd\n",
    "import numpy as np"
   ]
  },
  {
   "cell_type": "code",
   "execution_count": 2,
   "metadata": {},
   "outputs": [],
   "source": [
    "# Carga de base de datos\n",
    "all_donations_data = pd.read_excel('../STANFORD_ HIPGive_By_country_2014_2019_JUNUETH.xlsx',sheet_name='All funders data 2014-2019')"
   ]
  },
  {
   "cell_type": "code",
   "execution_count": 3,
   "metadata": {},
   "outputs": [
    {
     "data": {
      "text/plain": [
       "Index([u'Project ID', u'Date (2 horas atrasados)', u'Project Name',\n",
       "       u'Organization', u'Organization Tax ID', u'Organization Address',\n",
       "       u'Country', u'Project Goal', u'Transaction ID', u'Payer Name',\n",
       "       u'Payer Email', u'Total Donation', u'Donation Amount', u'HIPTIP Amount',\n",
       "       u'HIPGive Fee', u'WePay Payment Amount', u'WePay Fee', u'Match Amount',\n",
       "       u'Total Channeled to nonprofits',\n",
       "       u'Total Donation Amount+HIPTIP+HIPGIVE FEE+MATCH', u'Grant per year',\n",
       "       u'Total DA+HT+HG+MF+G', u'Coupon code', u'Promo code', u'Anonymous',\n",
       "       u'Message', u' ', u' .1', u' .2', u' .3', u' .4', u' .5', u' .6'],\n",
       "      dtype='object')"
      ]
     },
     "execution_count": 3,
     "metadata": {},
     "output_type": "execute_result"
    }
   ],
   "source": [
    "all_donations_data.columns"
   ]
  },
  {
   "cell_type": "code",
   "execution_count": 4,
   "metadata": {},
   "outputs": [],
   "source": [
    "donations_data = all_donations_data[[u'Date (2 horas atrasados)']]\n",
    "donations_data=donations_data.dropna()"
   ]
  },
  {
   "cell_type": "code",
   "execution_count": 5,
   "metadata": {},
   "outputs": [],
   "source": [
    "array_timestamp=donations_data.values"
   ]
  },
  {
   "cell_type": "code",
   "execution_count": 6,
   "metadata": {},
   "outputs": [
    {
     "data": {
      "text/plain": [
       "15292"
      ]
     },
     "execution_count": 6,
     "metadata": {},
     "output_type": "execute_result"
    }
   ],
   "source": [
    "array_timestamp.size"
   ]
  },
  {
   "cell_type": "code",
   "execution_count": 7,
   "metadata": {},
   "outputs": [],
   "source": [
    "def timestamp_transformation(array_timestamp):\n",
    "    ts_list=[]\n",
    "    for ts in array_timestamp:\n",
    "        pd_timestamp=pd.to_datetime(ts)\n",
    "        ts_list.append(pd_timestamp)\n",
    "    return ts_list"
   ]
  },
  {
   "cell_type": "code",
   "execution_count": 57,
   "metadata": {},
   "outputs": [],
   "source": [
    "def donations_per_year(ts_list):\n",
    "    ts_2014=[]\n",
    "    ts_2015=[]\n",
    "    ts_2016=[]\n",
    "    ts_2017=[]\n",
    "    ts_2018=[]\n",
    "    ts_2019=[]    \n",
    "   \n",
    "    for ts in ts_list:\n",
    "        if ts[0].year==2014:\n",
    "            ts_2014.append(ts)\n",
    "        elif ts[0].year==2015:\n",
    "            ts_2015.append(ts)\n",
    "        elif ts[0].year==2016:\n",
    "            ts_2016.append(ts)\n",
    "        elif ts[0].year==2017:\n",
    "            ts_2017.append(ts)\n",
    "        elif ts[0].year==2018:\n",
    "            ts_2018.append(ts)\n",
    "        elif ts[0].year==2019:\n",
    "            ts_2019.append(ts)\n",
    "    return [ts_2014,ts_2015,ts_2016,ts_2017,ts_2018,ts_2019]"
   ]
  },
  {
   "cell_type": "code",
   "execution_count": 8,
   "metadata": {},
   "outputs": [],
   "source": [
    "def year_distribution(array_timestamp):\n",
    "    \n",
    "    ts_list=timestamp_transformation(array_timestamp)\n",
    "       \n",
    "    donations_per_year_list=donations_per_year(ts_list):\n",
    "    \n",
    "    year_donations=[len(donations_per_year_list[0]),len(donations_per_year_list[1]),len(donations_per_year_list[2]),len(donations_per_year_list[3]),len(donations_per_year_list[4]),len(donations_per_year_list[5])]\n",
    "    years=['2014','2015','2016','2017','2018','2019']\n",
    "    return [years,year_donations]"
   ]
  },
  {
   "cell_type": "code",
   "execution_count": 9,
   "metadata": {},
   "outputs": [],
   "source": [
    "year_distribution = year_distribution(array_timestamp)"
   ]
  },
  {
   "cell_type": "code",
   "execution_count": 10,
   "metadata": {},
   "outputs": [
    {
     "data": {
      "text/plain": [
       "[[2752, 3215, 3163, 2714, 1590, 1858],\n",
       " ['2014', '2015', '2016', '2017', '2018', '2019']]"
      ]
     },
     "execution_count": 10,
     "metadata": {},
     "output_type": "execute_result"
    }
   ],
   "source": [
    "year_distribution"
   ]
  },
  {
   "cell_type": "code",
   "execution_count": 11,
   "metadata": {},
   "outputs": [
    {
     "data": {
      "text/plain": [
       "15292"
      ]
     },
     "execution_count": 11,
     "metadata": {},
     "output_type": "execute_result"
    }
   ],
   "source": [
    "#year_distribution[0][0],year_distribution[0][1],year_distribution[0][2],year_distribution[0][3],year_distribution[0][4],year_distribution[0][5]\n",
    "year_distribution[0][0]+year_distribution[0][1]+year_distribution[0][2]+year_distribution[0][3]+year_distribution[0][4]+year_distribution[0][5]"
   ]
  },
  {
   "cell_type": "code",
   "execution_count": 46,
   "metadata": {},
   "outputs": [],
   "source": [
    "def month_distribution(array_timestamp):\n",
    "    ts_list=timestamp_transformation(array_timestamp)\n",
    "\n",
    "    ts_january=[]\n",
    "    ts_february=[]\n",
    "    ts_march=[]\n",
    "    ts_april=[]\n",
    "    ts_may=[]\n",
    "    ts_june=[]\n",
    "    ts_july=[]\n",
    "    ts_august=[]\n",
    "    ts_septermber=[]\n",
    "    ts_october=[]\n",
    "    ts_november=[]\n",
    "    ts_dicember=[]\n",
    "    \n",
    "    for ts in ts_list:        \n",
    "        if ts.month==1:\n",
    "            ts_january.append(ts)\n",
    "        elif ts.month==2:\n",
    "            ts_february.append(ts)\n",
    "        elif ts.month==3:\n",
    "            ts_march.append(ts)\n",
    "        elif ts.month==4:\n",
    "            ts_april.append(ts)\n",
    "        elif ts.month==5:\n",
    "            ts_may.append(ts)\n",
    "        elif ts.month==6:\n",
    "            ts_june.append(ts)\n",
    "        elif ts.month==7:\n",
    "            ts_july.append(ts)\n",
    "        elif ts.month==8:\n",
    "            ts_august.append(ts)\n",
    "        elif ts.month==9:\n",
    "            ts_septermber.append(ts)\n",
    "        elif ts.month==10:\n",
    "            ts_october.append(ts)\n",
    "        elif ts.month==11:\n",
    "            ts_november.append(ts)\n",
    "        elif ts.month==12:\n",
    "            ts_dicember.append(ts)\n",
    "\n",
    "    months_name=['January','February','March','April','May','June','July','August','September', 'October', 'November', 'Dicember']\n",
    "    months_number_donation=[len(ts_january),len(ts_february),len(ts_march),len(ts_april),len(ts_may),len(ts_june),len(ts_july),len(ts_august),len(ts_septermber),len(ts_october),len(ts_november),len(ts_dicember)]\n",
    "    return [months_name,months_number_donation]\n",
    "\n",
    "def month_distribution_per_year():\n",
    "    print True"
   ]
  },
  {
   "cell_type": "code",
   "execution_count": 47,
   "metadata": {},
   "outputs": [],
   "source": [
    "result=month_distribution(array_timestamp)"
   ]
  },
  {
   "cell_type": "code",
   "execution_count": null,
   "metadata": {},
   "outputs": [],
   "source": [
    "\n",
    "    "
   ]
  },
  {
   "cell_type": "code",
   "execution_count": null,
   "metadata": {},
   "outputs": [],
   "source": []
  }
 ],
 "metadata": {
  "kernelspec": {
   "display_name": "Python 2",
   "language": "python",
   "name": "python2"
  },
  "language_info": {
   "codemirror_mode": {
    "name": "ipython",
    "version": 2
   },
   "file_extension": ".py",
   "mimetype": "text/x-python",
   "name": "python",
   "nbconvert_exporter": "python",
   "pygments_lexer": "ipython2",
   "version": "2.7.15"
  }
 },
 "nbformat": 4,
 "nbformat_minor": 2
}
