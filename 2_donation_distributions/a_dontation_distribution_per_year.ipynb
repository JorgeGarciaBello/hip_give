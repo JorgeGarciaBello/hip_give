{
 "cells": [
  {
   "cell_type": "code",
   "execution_count": 130,
   "metadata": {},
   "outputs": [],
   "source": [
    "# Paqueterias requeridas para el análisis\n",
    "import pandas as pd\n",
    "import numpy as np\n",
    "%matplotlib inline\n",
    "import matplotlib.pyplot as plt"
   ]
  },
  {
   "cell_type": "code",
   "execution_count": 102,
   "metadata": {},
   "outputs": [],
   "source": [
    "# Carga de base de datos\n",
    "all_donations_data = pd.read_excel('../STANFORD_ HIPGive_By_country_2014_2019_JUNUETH.xlsx',sheet_name='All funders data 2014-2019')\n",
    "new_hip_data_donations = pd.read_excel('../new_hipgive_data_from_august_and_september.xlsx')"
   ]
  },
  {
   "cell_type": "code",
   "execution_count": 3,
   "metadata": {},
   "outputs": [
    {
     "data": {
      "text/plain": [
       "Index([u'Project ID', u'Date (2 horas atrasados)', u'Project Name',\n",
       "       u'Organization', u'Organization Tax ID', u'Organization Address',\n",
       "       u'Country', u'Project Goal', u'Transaction ID', u'Payer Name',\n",
       "       u'Payer Email', u'Total Donation', u'Donation Amount', u'HIPTIP Amount',\n",
       "       u'HIPGive Fee', u'WePay Payment Amount', u'WePay Fee', u'Match Amount',\n",
       "       u'Total Channeled to nonprofits',\n",
       "       u'Total Donation Amount+HIPTIP+HIPGIVE FEE+MATCH', u'Grant per year',\n",
       "       u'Total DA+HT+HG+MF+G', u'Coupon code', u'Promo code', u'Anonymous',\n",
       "       u'Message', u' ', u' .1', u' .2', u' .3', u' .4', u' .5', u' .6'],\n",
       "      dtype='object')"
      ]
     },
     "execution_count": 3,
     "metadata": {},
     "output_type": "execute_result"
    }
   ],
   "source": [
    "all_donations_data.columns"
   ]
  },
  {
   "cell_type": "code",
   "execution_count": 103,
   "metadata": {},
   "outputs": [
    {
     "data": {
      "text/plain": [
       "Index([u'Date (2 horas atrasados)', u'Project Name', u'Organization',\n",
       "       u'Organization Tax ID', u'Organization Address', u'Country',\n",
       "       u'Project Goal', u'Transaction ID', u'Payer Name', u'Payer Email',\n",
       "       u'Total Donation', u'Donation Amount', u'HIPTIP Amount', u'HIPGive Fee',\n",
       "       u'WePay Payment Amount', u'WePay Fee', u'Match Amount',\n",
       "       u'Total Channeled to nonprofits',\n",
       "       u'Total Donation Amount+HIPTIP+HIPGIVE FEE+MATCH', u'Grant per year',\n",
       "       u'Total DA+HT+HG+MF+G', u'Coupon code', u'Promo code', u'Anonymous',\n",
       "       u'Message'],\n",
       "      dtype='object')"
      ]
     },
     "execution_count": 103,
     "metadata": {},
     "output_type": "execute_result"
    }
   ],
   "source": [
    "new_hip_data_donations.columns"
   ]
  },
  {
   "cell_type": "code",
   "execution_count": 110,
   "metadata": {},
   "outputs": [],
   "source": [
    "donations_data = pd.concat([all_donations_data[[u'Date (2 horas atrasados)']],new_hip_data_donations[[u'Date (2 horas atrasados)']]]) \n",
    "donations_data=donations_data.dropna()"
   ]
  },
  {
   "cell_type": "code",
   "execution_count": 111,
   "metadata": {},
   "outputs": [
    {
     "data": {
      "text/plain": [
       "pandas.core.frame.DataFrame"
      ]
     },
     "execution_count": 111,
     "metadata": {},
     "output_type": "execute_result"
    }
   ],
   "source": [
    "type(donations_data)"
   ]
  },
  {
   "cell_type": "code",
   "execution_count": 112,
   "metadata": {},
   "outputs": [],
   "source": [
    "array_timestamp=donations_data.values"
   ]
  },
  {
   "cell_type": "code",
   "execution_count": 113,
   "metadata": {},
   "outputs": [
    {
     "data": {
      "text/plain": [
       "15334"
      ]
     },
     "execution_count": 113,
     "metadata": {},
     "output_type": "execute_result"
    }
   ],
   "source": [
    "array_timestamp.size"
   ]
  },
  {
   "cell_type": "code",
   "execution_count": 114,
   "metadata": {},
   "outputs": [],
   "source": [
    "def timestamp_transformation(array_timestamp):\n",
    "    ts_list=[]\n",
    "    for ts in array_timestamp:\n",
    "        pd_timestamp=pd.to_datetime(ts)\n",
    "        ts_list.append(pd_timestamp)\n",
    "    return ts_list"
   ]
  },
  {
   "cell_type": "code",
   "execution_count": 115,
   "metadata": {},
   "outputs": [],
   "source": [
    "def donations_per_year(ts_list):\n",
    "    ts_2014=[]\n",
    "    ts_2015=[]\n",
    "    ts_2016=[]\n",
    "    ts_2017=[]\n",
    "    ts_2018=[]\n",
    "    ts_2019=[]    \n",
    "   \n",
    "    for ts in ts_list:\n",
    "        if ts[0].year==2014:\n",
    "            ts_2014.append(ts)\n",
    "        elif ts[0].year==2015:\n",
    "            ts_2015.append(ts)\n",
    "        elif ts[0].year==2016:\n",
    "            ts_2016.append(ts)\n",
    "        elif ts[0].year==2017:\n",
    "            ts_2017.append(ts)\n",
    "        elif ts[0].year==2018:\n",
    "            ts_2018.append(ts)\n",
    "        elif ts[0].year==2019:\n",
    "            ts_2019.append(ts)\n",
    "    return [ts_2014,ts_2015,ts_2016,ts_2017,ts_2018,ts_2019]"
   ]
  },
  {
   "cell_type": "code",
   "execution_count": 116,
   "metadata": {},
   "outputs": [],
   "source": [
    "def year_distribution(array_timestamp):\n",
    "    \n",
    "    ts_list=timestamp_transformation(array_timestamp)\n",
    "       \n",
    "    donations_per_year_list=donations_per_year(ts_list)\n",
    "    \n",
    "    year_donations=[len(donations_per_year_list[0]),len(donations_per_year_list[1]),len(donations_per_year_list[2]),len(donations_per_year_list[3]),len(donations_per_year_list[4]),len(donations_per_year_list[5])]\n",
    "    years=['2014','2015','2016','2017','2018','2019']\n",
    "    return [years,year_donations]"
   ]
  },
  {
   "cell_type": "code",
   "execution_count": 117,
   "metadata": {},
   "outputs": [],
   "source": [
    "year_distribution = year_distribution(array_timestamp)"
   ]
  },
  {
   "cell_type": "code",
   "execution_count": 118,
   "metadata": {},
   "outputs": [
    {
     "data": {
      "text/plain": [
       "[['2014', '2015', '2016', '2017', '2018', '2019'],\n",
       " [2752, 3215, 3163, 2714, 1590, 1900]]"
      ]
     },
     "execution_count": 118,
     "metadata": {},
     "output_type": "execute_result"
    }
   ],
   "source": [
    "year_distribution"
   ]
  },
  {
   "cell_type": "code",
   "execution_count": 131,
   "metadata": {},
   "outputs": [
    {
     "data": {
      "text/plain": [
       "[]"
      ]
     },
     "execution_count": 131,
     "metadata": {},
     "output_type": "execute_result"
    },
    {
     "data": {
      "image/png": "[encoded data removed]",
      "text/plain": [
       "<Figure size 432x288 with 1 Axes>"
      ]
     },
     "metadata": {
      "needs_background": "light"
     },
     "output_type": "display_data"
    }
   ],
   "source": [
    "x=year_distribution[0]\n",
    "y=year_distribution[1]\n",
    "plt.scatter(x,y,color='blue')\n",
    "plt.plot()"
   ]
  },
  {
   "cell_type": "code",
   "execution_count": null,
   "metadata": {},
   "outputs": [],
   "source": []
  },
  {
   "cell_type": "code",
   "execution_count": null,
   "metadata": {},
   "outputs": [],
   "source": []
  },
  {
   "cell_type": "code",
   "execution_count": 119,
   "metadata": {},
   "outputs": [
    {
     "data": {
      "text/plain": [
       "15334"
      ]
     },
     "execution_count": 119,
     "metadata": {},
     "output_type": "execute_result"
    }
   ],
   "source": [
    "#year_distribution[0][0],year_distribution[0][1],year_distribution[0][2],year_distribution[0][3],year_distribution[0][4],year_distribution[0][5]\n",
    "year_distribution[1][0]+year_distribution[1][1]+year_distribution[1][2]+year_distribution[1][3]+year_distribution[1][4]+year_distribution[1][5]"
   ]
  },
  {
   "cell_type": "code",
   "execution_count": 120,
   "metadata": {},
   "outputs": [],
   "source": [
    "def count(lista):\n",
    "    index=len(lista)\n",
    "    counter_lits=[]\n",
    "    for e in lista:\n",
    "        counter_lits.append(len(e))\n",
    "    return counter_lits\n",
    "\n",
    "def get_month_donations(ts_list):\n",
    "    ts_january=[]\n",
    "    ts_february=[]\n",
    "    ts_march=[]\n",
    "    ts_april=[]\n",
    "    ts_may=[]\n",
    "    ts_june=[]\n",
    "    ts_july=[]\n",
    "    ts_august=[]\n",
    "    ts_septermber=[]\n",
    "    ts_october=[]\n",
    "    ts_november=[]\n",
    "    ts_dicember=[]\n",
    "    \n",
    "    for ts in ts_list:        \n",
    "        if ts.month==1:\n",
    "            ts_january.append(ts)\n",
    "        elif ts.month==2:\n",
    "            ts_february.append(ts)\n",
    "        elif ts.month==3:\n",
    "            ts_march.append(ts)\n",
    "        elif ts.month==4:\n",
    "            ts_april.append(ts)\n",
    "        elif ts.month==5:\n",
    "            ts_may.append(ts)\n",
    "        elif ts.month==6:\n",
    "            ts_june.append(ts)\n",
    "        elif ts.month==7:\n",
    "            ts_july.append(ts)\n",
    "        elif ts.month==8:\n",
    "            ts_august.append(ts)\n",
    "        elif ts.month==9:\n",
    "            ts_septermber.append(ts)\n",
    "        elif ts.month==10:\n",
    "            ts_october.append(ts)\n",
    "        elif ts.month==11:\n",
    "            ts_november.append(ts)\n",
    "        elif ts.month==12:\n",
    "            ts_dicember.append(ts)\n",
    "    return [ts_january,ts_february,ts_march,ts_april,ts_may,ts_june,ts_july,ts_august,ts_septermber,ts_october,ts_november,ts_dicember]\n",
    "\n",
    "\n",
    "def month_distribution(array_timestamp):\n",
    "    ts_list=timestamp_transformation(array_timestamp)\n",
    "    month_d=get_month_donations(ts_list)\n",
    "    \n",
    "    months_name=['January','February','March','April','May','June','July','August','September', 'October', 'November', 'Dicember']\n",
    "    months_number_donation=[len(month_d[0]),len(month_d[1]),len(month_d[2]),len(month_d[3]),len(month_d[4]),len(month_d[5]),len(month_d[6]),len(month_d[7]),len(month_d[8]),len(month_d[9]),len(month_d[10]),len(month_d[11])]\n",
    "    return [months_name,months_number_donation]\n",
    "\n",
    "\n"
   ]
  },
  {
   "cell_type": "code",
   "execution_count": 121,
   "metadata": {},
   "outputs": [],
   "source": [
    "def month_year_distribution(array_timestamp):\n",
    "    ts_list=timestamp_transformation(array_timestamp)\n",
    "    year_donations=donations_per_year(ts_list)\n",
    "    month_donations_2014=count(get_month_donations(year_donations[0]))\n",
    "    month_donations_2015=count(get_month_donations(year_donations[1]))\n",
    "    month_donations_2016=count(get_month_donations(year_donations[2]))\n",
    "    month_donations_2017=count(get_month_donations(year_donations[3]))\n",
    "    month_donations_2018=count(get_month_donations(year_donations[4]))\n",
    "    month_donations_2019=count(get_month_donations(year_donations[5]))\n",
    "    months_name=['January','February','March','April','May','June','July','August','September', 'October', 'November', 'Dicember']\n",
    "    year_name=['2014','2015','2016','2017','2018','2019']\n",
    "    month_year_donations=[month_donations_2014,month_donations_2015,month_donations_2016,month_donations_2017,month_donations_2018,month_donations_2019]\n",
    "    return [months_name,year_name,month_year_donations]"
   ]
  },
  {
   "cell_type": "code",
   "execution_count": 122,
   "metadata": {},
   "outputs": [],
   "source": [
    "my_distribution=month_year_distribution(array_timestamp)\n"
   ]
  },
  {
   "cell_type": "code",
   "execution_count": null,
   "metadata": {},
   "outputs": [],
   "source": [
    "\n",
    "25"
   ]
  },
  {
   "cell_type": "code",
   "execution_count": 124,
   "metadata": {},
   "outputs": [
    {
     "data": {
      "text/plain": [
       "[0, 0, 91, 0, 1641, 0, 0, 0, 0, 614, 406, 0]"
      ]
     },
     "execution_count": 124,
     "metadata": {},
     "output_type": "execute_result"
    }
   ],
   "source": [
    "my_distribution[2][0]"
   ]
  },
  {
   "cell_type": "code",
   "execution_count": 125,
   "metadata": {},
   "outputs": [
    {
     "data": {
      "text/plain": [
       "[0, 51, 68, 81, 63, 692, 322, 151, 313, 305, 161, 1008]"
      ]
     },
     "execution_count": 125,
     "metadata": {},
     "output_type": "execute_result"
    }
   ],
   "source": [
    "my_distribution[2][1]"
   ]
  },
  {
   "cell_type": "code",
   "execution_count": 126,
   "metadata": {},
   "outputs": [
    {
     "data": {
      "text/plain": [
       "[75, 15, 819, 25, 280, 32, 6, 2, 142, 180, 1295, 292]"
      ]
     },
     "execution_count": 126,
     "metadata": {},
     "output_type": "execute_result"
    }
   ],
   "source": [
    "my_distribution[2][2]"
   ]
  },
  {
   "cell_type": "code",
   "execution_count": 127,
   "metadata": {},
   "outputs": [
    {
     "data": {
      "text/plain": [
       "[77, 18, 65, 58, 87, 57, 35, 44, 642, 329, 1070, 232]"
      ]
     },
     "execution_count": 127,
     "metadata": {},
     "output_type": "execute_result"
    }
   ],
   "source": [
    "my_distribution[2][3]"
   ]
  },
  {
   "cell_type": "code",
   "execution_count": 128,
   "metadata": {},
   "outputs": [
    {
     "data": {
      "text/plain": [
       "[27, 11, 18, 12, 18, 150, 289, 91, 14, 29, 736, 195]"
      ]
     },
     "execution_count": 128,
     "metadata": {},
     "output_type": "execute_result"
    }
   ],
   "source": [
    "my_distribution[2][4]"
   ]
  },
  {
   "cell_type": "code",
   "execution_count": 129,
   "metadata": {},
   "outputs": [
    {
     "data": {
      "text/plain": [
       "[21, 18, 595, 44, 66, 99, 1014, 41, 2, 0, 0, 0]"
      ]
     },
     "execution_count": 129,
     "metadata": {},
     "output_type": "execute_result"
    }
   ],
   "source": [
    "my_distribution[2][5]"
   ]
  },
  {
   "cell_type": "code",
   "execution_count": null,
   "metadata": {},
   "outputs": [],
   "source": []
  },
  {
   "cell_type": "code",
   "execution_count": null,
   "metadata": {},
   "outputs": [],
   "source": []
  }
 ],
 "metadata": {
  "kernelspec": {
   "display_name": "Python 2",
   "language": "python",
   "name": "python2"
  },
  "language_info": {
   "codemirror_mode": {
    "name": "ipython",
    "version": 2
   },
   "file_extension": ".py",
   "mimetype": "text/x-python",
   "name": "python",
   "nbconvert_exporter": "python",
   "pygments_lexer": "ipython2",
   "version": "2.7.15"
  }
 },
 "nbformat": 4,
 "nbformat_minor": 2
}
