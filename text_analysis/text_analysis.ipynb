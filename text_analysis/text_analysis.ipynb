{
 "cells": [
  {
   "cell_type": "code",
   "execution_count": null,
   "metadata": {},
   "outputs": [],
   "source": [
    "\n"
   ]
  },
  {
   "cell_type": "code",
   "execution_count": 11,
   "metadata": {},
   "outputs": [
    {
     "name": "stdout",
     "output_type": "stream",
     "text": [
      "[nltk_data] Downloading package punkt to /home/jogabell/nltk_data...\n",
      "[nltk_data]   Package punkt is already up-to-date!\n",
      "[nltk_data] Downloading package stopwords to\n",
      "[nltk_data]     /home/jogabell/nltk_data...\n",
      "[nltk_data]   Package stopwords is already up-to-date!\n"
     ]
    },
    {
     "data": {
      "text/plain": [
       "True"
      ]
     },
     "execution_count": 11,
     "metadata": {},
     "output_type": "execute_result"
    }
   ],
   "source": [
    "# Carga de paqueterías utilizadas\n",
    "import pandas as pd\n",
    "import nltk\n",
    "import string\n",
    "import datetime\n",
    "from collections import Counter\n",
    "nltk.download(\"punkt\")\n",
    "nltk.download(\"stopwords\")\n"
   ]
  },
  {
   "cell_type": "code",
   "execution_count": 12,
   "metadata": {},
   "outputs": [
    {
     "data": {
      "text/plain": [
       "datetime.datetime"
      ]
     },
     "execution_count": 12,
     "metadata": {},
     "output_type": "execute_result"
    }
   ],
   "source": [
    "datetime_object = datetime.datetime.now()\n",
    "type(datetime_object)"
   ]
  },
  {
   "cell_type": "markdown",
   "metadata": {},
   "source": [
    "## Función que realiza el análisis de texto"
   ]
  },
  {
   "cell_type": "code",
   "execution_count": 24,
   "metadata": {},
   "outputs": [],
   "source": [
    "def text_analysis(serie):\n",
    "    s=serie.isna().value_counts()    \n",
    "    if s.size==2:\n",
    "          serie=serie.dropna()\n",
    "    elif (s.size==1)&(s[0]==True):\n",
    "      print('no existen datos')\n",
    "    datetime_object = datetime.datetime.now()\n",
    "    lista=[]    \n",
    "    for u_text in serie:\n",
    "        if(type(u_text)!= type(datetime_object)):            \n",
    "            lista.append(u_text.encode(\"utf-8\"))\n",
    "    text_string_type=', '.join(lista)\n",
    "    text_string_type=unicode(text_string_type, \"utf-8\").lower()    \n",
    "    \n",
    "    useless_words=nltk.corpus.stopwords.words(\"english\")+list(string.punctuation)+[u'para',u'\\xa1que',u'\\xa1to',u'son',u'con',u'la',u'se',u'en',u'el',u'que',u'la',u'las',u'lo',u'los',u'de',u'the',u'us',u'we',u'A',u'nbsp',u'8217',u'8211',u'8220',u'8221',u'\\u2019',u'\\u201d',u'\\u201c',u'pa\\xeds',u'visi\\xf3n',u'ray\\xf3n',u'pa\\xeds',u'tecnolog\\xeda',u'ay\\xfadanos',u'\\xa1que',u'harder\\u2014but',u'michoac\\xe1n',u'let\\xb4s',u'\\xa1to',u'granny\\xb4s',u'espa\\xf1ol.']#+list(u\"\\u2019\")+list('...')    \n",
    "    words=nltk.word_tokenize(text_string_type)\n",
    "    words_filtered=[word for word in words if not word in useless_words]\n",
    "    \n",
    "    words_counter=Counter(words_filtered)\n",
    "    most_common_words = words_counter.most_common()\n",
    "    return most_common_words"
   ]
  },
  {
   "cell_type": "code",
   "execution_count": 13,
   "metadata": {},
   "outputs": [],
   "source": [
    "# Lectura de base de datos\n",
    "data_2015=pd.read_excel('data/DATA_PLATAFORMA_HIPGIVE.xlsx',sheet_name='2015',decode='utf-8')\n",
    "data_2016=pd.read_excel('data/DATA_PLATAFORMA_HIPGIVE.xlsx',sheet_name='2016',decode='utf-8')\n",
    "data_2017=pd.read_excel('data/DATA_PLATAFORMA_HIPGIVE.xlsx',sheet_name='2017',decode='utf-8')\n",
    "data_2018=pd.read_excel('data/DATA_PLATAFORMA_HIPGIVE.xlsx',sheet_name='2018',decode='utf-8')\n",
    "data_2019=pd.read_excel('data/DATA_PLATAFORMA_HIPGIVE.xlsx',sheet_name='2019',decode='utf-8')"
   ]
  },
  {
   "cell_type": "code",
   "execution_count": 14,
   "metadata": {},
   "outputs": [],
   "source": [
    "features=[u'Project ID', u'Project Date', u'Name',\n",
    "       u'Percentage Raised', u'HIP Give Fee', u'HIP Give Percent',\n",
    "       u'HIP Give Tip', u'WePay Fee', u'Net Amount',\n",
    "       u'Number of Individual Donors', u'Matching Funds Total', u'Start Date',\n",
    "       u'End Date', u'Name of Main Contact', u'Main Contact Email',\n",
    "       u'OwnerID', u'Address', u'State', u'City',\n",
    "       u'Category', u'Category2', 'Short Desc EN', u'Organization',\n",
    "       u'Goal', u'Total',\n",
    "       u'Long Desc EN',u'Goal EN',\n",
    "       u'Budget', u'Mission EN',\n",
    "       u'About EN', u'Published Status',\n",
    "       u'Date Approved', u'Twitter', u'YouTube'\n",
    "       ]\n",
    "_2015=data_2015[features]\n",
    "_2016=data_2016[features]\n",
    "_2017=data_2017[features]\n",
    "_2018=data_2018[features]\n",
    "_2019=data_2019[features]"
   ]
  },
  {
   "cell_type": "code",
   "execution_count": 15,
   "metadata": {},
   "outputs": [],
   "source": [
    "data=_2015.append(_2016).append(_2017).append(_2018).append(_2019)"
   ]
  },
  {
   "cell_type": "code",
   "execution_count": 8,
   "metadata": {},
   "outputs": [
    {
     "data": {
      "text/plain": [
       "(3966, 34)"
      ]
     },
     "execution_count": 8,
     "metadata": {},
     "output_type": "execute_result"
    }
   ],
   "source": [
    "data.shape"
   ]
  },
  {
   "cell_type": "code",
   "execution_count": 16,
   "metadata": {},
   "outputs": [],
   "source": [
    "data=data[ data['Published Status']!= 'draft']\n",
    "data=data[ data['Published Status']!= 'rejected']"
   ]
  },
  {
   "cell_type": "code",
   "execution_count": 17,
   "metadata": {},
   "outputs": [
    {
     "data": {
      "text/plain": [
       "ended        749\n",
       "publish       28\n",
       "private       10\n",
       "submitted      2\n",
       "archived       1\n",
       "Name: Published Status, dtype: int64"
      ]
     },
     "execution_count": 17,
     "metadata": {},
     "output_type": "execute_result"
    }
   ],
   "source": [
    "data['Published Status'].value_counts()"
   ]
  },
  {
   "cell_type": "code",
   "execution_count": 11,
   "metadata": {},
   "outputs": [
    {
     "data": {
      "text/plain": [
       "(791, 34)"
      ]
     },
     "execution_count": 11,
     "metadata": {},
     "output_type": "execute_result"
    }
   ],
   "source": [
    "data.shape"
   ]
  },
  {
   "cell_type": "markdown",
   "metadata": {},
   "source": [
    "## Obtención de conjuntos de datos para diferentestipos de recaudación"
   ]
  },
  {
   "cell_type": "code",
   "execution_count": 20,
   "metadata": {},
   "outputs": [
    {
     "data": {
      "text/plain": [
       "(150, 34)"
      ]
     },
     "execution_count": 20,
     "metadata": {},
     "output_type": "execute_result"
    }
   ],
   "source": [
    "# Datos con donaciones menores al 50% del objetivo\n",
    "data_cero_doantions=data[(data['Number of Individual Donors']==0) & (data['Percentage Raised']<50 )]\n",
    "data_cero_doantions.shape"
   ]
  },
  {
   "cell_type": "code",
   "execution_count": 21,
   "metadata": {},
   "outputs": [
    {
     "data": {
      "text/plain": [
       "(216, 34)"
      ]
     },
     "execution_count": 21,
     "metadata": {},
     "output_type": "execute_result"
    }
   ],
   "source": [
    "# Datos con donaciones mayores al 50% del objetivo\n",
    "data_not_cero_doantions=data[(data['Number of Individual Donors']>0) & (data['Percentage Raised']>=50 )]\n",
    "data_not_cero_doantions.shape"
   ]
  },
  {
   "cell_type": "code",
   "execution_count": 22,
   "metadata": {},
   "outputs": [
    {
     "data": {
      "text/plain": [
       "(134, 34)"
      ]
     },
     "execution_count": 22,
     "metadata": {},
     "output_type": "execute_result"
    }
   ],
   "source": [
    "# Datos con donaciones que cumplieron el objetivo (100%) \n",
    "data_goal_donations=data[(data['Number of Individual Donors']>0) & (data['Percentage Raised']>=100 )]\n",
    "data_goal_donations.shape"
   ]
  },
  {
   "cell_type": "code",
   "execution_count": 15,
   "metadata": {},
   "outputs": [
    {
     "data": {
      "text/plain": [
       "791"
      ]
     },
     "execution_count": 15,
     "metadata": {},
     "output_type": "execute_result"
    }
   ],
   "source": [
    "575+216"
   ]
  },
  {
   "cell_type": "code",
   "execution_count": null,
   "metadata": {},
   "outputs": [],
   "source": []
  },
  {
   "cell_type": "code",
   "execution_count": null,
   "metadata": {},
   "outputs": [],
   "source": []
  },
  {
   "cell_type": "code",
   "execution_count": null,
   "metadata": {},
   "outputs": [],
   "source": []
  },
  {
   "cell_type": "markdown",
   "metadata": {},
   "source": [
    "## Creación de base de datos del texto \"short description\" con diferentes porcentajes de donación"
   ]
  },
  {
   "cell_type": "code",
   "execution_count": 25,
   "metadata": {},
   "outputs": [],
   "source": [
    "data_text_not_cero_donations=data_not_cero_doantions['Short Desc EN']\n",
    "mcw_not_cero=text_analysis(data_text_not_cero_donations)"
   ]
  },
  {
   "cell_type": "code",
   "execution_count": 26,
   "metadata": {},
   "outputs": [],
   "source": [
    "df_mcw_not_cero=pd.DataFrame(mcw_not_cero)\n",
    "df_mcw_not_cero.to_excel('data/short_description_words_not_cero.xlsx')"
   ]
  },
  {
   "cell_type": "code",
   "execution_count": 27,
   "metadata": {},
   "outputs": [],
   "source": [
    "data_text_goal_donations=data_goal_donations['Short Desc EN']\n",
    "text_goal_data=text_analysis(data_text_goal_donations)\n",
    "df_text_goal_data=pd.DataFrame(text_goal_data)\n",
    "df_text_goal_data.to_excel('data/short_description_words_goal.xlsx')"
   ]
  },
  {
   "cell_type": "code",
   "execution_count": 28,
   "metadata": {},
   "outputs": [],
   "source": [
    "data_text_cero_donations=data_cero_doantions['Short Desc EN']\n",
    "text_cero_data=text_analysis(data_text_cero_donations)\n",
    "df_text_cero_data=pd.DataFrame(text_cero_data)\n",
    "df_text_cero_data.to_excel('data/short_description_words_cero.xlsx')"
   ]
  },
  {
   "cell_type": "markdown",
   "metadata": {},
   "source": [
    "## Creación de base de datos del nombre del proyecto \"name\" con diferentes porcentajes de donación"
   ]
  },
  {
   "cell_type": "code",
   "execution_count": 29,
   "metadata": {},
   "outputs": [],
   "source": [
    "names_cero=data_cero_doantions[u'Name']\n",
    "names_not_cero=data_not_cero_doantions[u'Name']\n",
    "names_goal=data_goal_donations[u'Name']"
   ]
  },
  {
   "cell_type": "code",
   "execution_count": 30,
   "metadata": {},
   "outputs": [
    {
     "name": "stdout",
     "output_type": "stream",
     "text": [
      "(150, 216, 134)\n"
     ]
    }
   ],
   "source": [
    "print(names_cero.shape+names_not_cero.shape+names_goal.shape)"
   ]
  },
  {
   "cell_type": "code",
   "execution_count": 31,
   "metadata": {},
   "outputs": [],
   "source": [
    "name_result_cero=text_analysis(names_cero)\n",
    "name_result_not_cero=text_analysis(names_not_cero)\n",
    "name_result_goal=text_analysis(names_goal)"
   ]
  },
  {
   "cell_type": "code",
   "execution_count": 32,
   "metadata": {},
   "outputs": [],
   "source": [
    "df_name_result_cero=pd.DataFrame(name_result_cero)\n",
    "df_name_result_not_cero=pd.DataFrame(name_result_not_cero)\n",
    "df_name_result_goal=pd.DataFrame(name_result_goal)"
   ]
  },
  {
   "cell_type": "code",
   "execution_count": 33,
   "metadata": {},
   "outputs": [],
   "source": [
    "df_name_result_cero.to_excel('data/name_words_cero.xlsx')\n",
    "df_name_result_not_cero.to_excel('data/name_words_not_cero.xlsx')\n",
    "df_name_result_goal.to_excel('data/name_words_goal.xlsx')"
   ]
  },
  {
   "cell_type": "code",
   "execution_count": null,
   "metadata": {},
   "outputs": [],
   "source": []
  },
  {
   "cell_type": "markdown",
   "metadata": {},
   "source": [
    "## Creación de base de datos de la descripción larga del proyecto \"Long Desc EN\" con diferentes porcentajes de donación"
   ]
  },
  {
   "cell_type": "code",
   "execution_count": 34,
   "metadata": {},
   "outputs": [],
   "source": [
    "longD_cero=data_cero_doantions[u'Long Desc EN']\n",
    "longD_not_cero=data_not_cero_doantions[u'Long Desc EN']\n",
    "longD_goal=data_goal_donations[u'Long Desc EN']"
   ]
  },
  {
   "cell_type": "code",
   "execution_count": 35,
   "metadata": {},
   "outputs": [],
   "source": [
    "longD_result_cero=text_analysis(longD_cero)\n",
    "longD_result_not_cero=text_analysis(longD_not_cero)\n",
    "longD_result_goal=text_analysis(longD_goal)"
   ]
  },
  {
   "cell_type": "code",
   "execution_count": 36,
   "metadata": {},
   "outputs": [],
   "source": [
    "df_longD_result_cero=pd.DataFrame(longD_result_cero)\n",
    "df_longD_result_not_cero=pd.DataFrame(longD_result_not_cero)\n",
    "df_longD_result_goal=pd.DataFrame(longD_result_goal)"
   ]
  },
  {
   "cell_type": "code",
   "execution_count": 37,
   "metadata": {},
   "outputs": [],
   "source": [
    "df_longD_result_cero.to_excel('data/long_description_words_cero.xlsx')\n",
    "df_longD_result_not_cero.to_excel('data/long_description_words_not_cero.xlsx')\n",
    "df_longD_result_goal.to_excel('data/long_description_words_goal.xlsx')"
   ]
  },
  {
   "cell_type": "code",
   "execution_count": null,
   "metadata": {},
   "outputs": [],
   "source": []
  },
  {
   "cell_type": "markdown",
   "metadata": {},
   "source": [
    "## Gráficos de las palábras más utlizadas ponderadas por número de registros"
   ]
  },
  {
   "cell_type": "code",
   "execution_count": 30,
   "metadata": {},
   "outputs": [],
   "source": [
    "def hpgraph(serie, total_rows):\n",
    "    serie=serie[:10]\n",
    "    x=[]\n",
    "    y=[]\n",
    "    \n",
    "    for s in serie:        \n",
    "        x.append(s[0])\n",
    "        y.append(float(s[1])/float(total_rows))    \n",
    "    return (x,y)"
   ]
  },
  {
   "cell_type": "code",
   "execution_count": 31,
   "metadata": {},
   "outputs": [],
   "source": [
    "%matplotlib inline\n",
    "import matplotlib.pyplot as plt"
   ]
  },
  {
   "cell_type": "code",
   "execution_count": 32,
   "metadata": {},
   "outputs": [],
   "source": [
    "resultG =hpgraph(longD_result_goal,longD_goal.size)\n",
    "resultN =hpgraph(longD_result_not_cero,longD_not_cero.size)\n",
    "resultC =hpgraph(longD_result_cero,longD_cero.size)"
   ]
  },
  {
   "cell_type": "code",
   "execution_count": 33,
   "metadata": {},
   "outputs": [],
   "source": [
    "#type(resultG[0])\n",
    "#type(resultG[1])\n",
    "#esultG[1]"
   ]
  },
  {
   "cell_type": "code",
   "execution_count": null,
   "metadata": {},
   "outputs": [],
   "source": []
  },
  {
   "cell_type": "code",
   "execution_count": null,
   "metadata": {},
   "outputs": [],
   "source": []
  },
  {
   "cell_type": "code",
   "execution_count": null,
   "metadata": {},
   "outputs": [],
   "source": []
  },
  {
   "cell_type": "code",
   "execution_count": null,
   "metadata": {},
   "outputs": [],
   "source": []
  },
  {
   "cell_type": "code",
   "execution_count": null,
   "metadata": {},
   "outputs": [],
   "source": []
  },
  {
   "cell_type": "code",
   "execution_count": null,
   "metadata": {},
   "outputs": [],
   "source": []
  },
  {
   "cell_type": "code",
   "execution_count": null,
   "metadata": {},
   "outputs": [],
   "source": []
  },
  {
   "cell_type": "code",
   "execution_count": null,
   "metadata": {},
   "outputs": [],
   "source": []
  },
  {
   "cell_type": "code",
   "execution_count": null,
   "metadata": {},
   "outputs": [],
   "source": []
  },
  {
   "cell_type": "code",
   "execution_count": null,
   "metadata": {},
   "outputs": [],
   "source": []
  },
  {
   "cell_type": "code",
   "execution_count": null,
   "metadata": {},
   "outputs": [],
   "source": []
  },
  {
   "cell_type": "code",
   "execution_count": null,
   "metadata": {},
   "outputs": [],
   "source": []
  },
  {
   "cell_type": "code",
   "execution_count": null,
   "metadata": {},
   "outputs": [],
   "source": []
  },
  {
   "cell_type": "code",
   "execution_count": null,
   "metadata": {},
   "outputs": [],
   "source": []
  },
  {
   "cell_type": "code",
   "execution_count": null,
   "metadata": {},
   "outputs": [],
   "source": []
  },
  {
   "cell_type": "code",
   "execution_count": null,
   "metadata": {},
   "outputs": [],
   "source": []
  },
  {
   "cell_type": "code",
   "execution_count": null,
   "metadata": {},
   "outputs": [],
   "source": []
  },
  {
   "cell_type": "code",
   "execution_count": null,
   "metadata": {},
   "outputs": [],
   "source": []
  },
  {
   "cell_type": "code",
   "execution_count": null,
   "metadata": {},
   "outputs": [],
   "source": []
  },
  {
   "cell_type": "code",
   "execution_count": null,
   "metadata": {},
   "outputs": [],
   "source": []
  }
 ],
 "metadata": {
  "kernelspec": {
   "display_name": "Python 2",
   "language": "python",
   "name": "python2"
  },
  "language_info": {
   "codemirror_mode": {
    "name": "ipython",
    "version": 2
   },
   "file_extension": ".py",
   "mimetype": "text/x-python",
   "name": "python",
   "nbconvert_exporter": "python",
   "pygments_lexer": "ipython2",
   "version": "2.7.15"
  }
 },
 "nbformat": 4,
 "nbformat_minor": 2
}
