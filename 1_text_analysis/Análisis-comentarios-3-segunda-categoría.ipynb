{
 "cells": [
  {
   "cell_type": "code",
   "execution_count": 1,
   "metadata": {},
   "outputs": [
    {
     "name": "stdout",
     "output_type": "stream",
     "text": [
      "[nltk_data] Error loading punk: Package 'punk' not found in index\n",
      "[nltk_data] Downloading package stopwords to\n",
      "[nltk_data]     /home/jogabell/nltk_data...\n",
      "[nltk_data]   Package stopwords is already up-to-date!\n"
     ]
    },
    {
     "data": {
      "text/plain": [
       "True"
      ]
     },
     "execution_count": 1,
     "metadata": {},
     "output_type": "execute_result"
    }
   ],
   "source": [
    "#Librerias utilizadas\n",
    "import numpy as np\n",
    "import pandas as pd\n",
    "import re\n",
    "import nltk\n",
    "from nltk.corpus import stopwords\n",
    "from sklearn.feature_extraction.text import TfidfVectorizer\n",
    "import re\n",
    "import string\n",
    "import datetime\n",
    "from collections import Counter\n",
    "%matplotlib inline\n",
    "import matplotlib.pyplot as plt\n",
    "nltk.download(\"punk\")\n",
    "nltk.download(\"stopwords\")"
   ]
  },
  {
   "cell_type": "markdown",
   "metadata": {},
   "source": [
    "#### Seleccionando comentarios Positivos y Neutros"
   ]
  },
  {
   "cell_type": "code",
   "execution_count": 2,
   "metadata": {},
   "outputs": [],
   "source": [
    "# Lectura de base de datos donde se encuentran los comentarios de donantes\n",
    "data = pd.read_excel('../STANFORD_ HIPGive_By_country_2014_2019_JUNUETH.xlsx',sheet_name='All funders data 2014-2019')\n",
    "message=data['Message']"
   ]
  },
  {
   "cell_type": "code",
   "execution_count": 3,
   "metadata": {},
   "outputs": [],
   "source": [
    "# Limpieza de valores nulos en la columna de comentarios\n",
    "message_crean=message.dropna()"
   ]
  },
  {
   "cell_type": "code",
   "execution_count": 4,
   "metadata": {},
   "outputs": [],
   "source": [
    "np_message_crean= message_crean.values # COmentarios de donantes dentro de una estructura numpy.array"
   ]
  },
  {
   "cell_type": "code",
   "execution_count": 5,
   "metadata": {},
   "outputs": [],
   "source": [
    "# Limpieza de \"np_message_crean\"\n",
    "# Es importante limpiar los np_message_crean (comentarios) \n",
    "# de imperfecciones en su escritura \n",
    "# para aplicar bien dentro del algorítmo\n",
    "cleaned_features_message = []\n",
    "\n",
    "for sentence in range(0, len(np_message_crean)):\n",
    "    # Remove all the special characters\n",
    "    cleaned_message = re.sub(r'\\W', ' ', np_message_crean[sentence])\n",
    "\n",
    "    # remove all single characters\n",
    "    cleaned_message= re.sub(r'\\s+[a-zA-Z]\\s+', ' ', cleaned_message)\n",
    "\n",
    "    # Remove single characters from the start\n",
    "    cleaned_message = re.sub(r'\\^[a-zA-Z]\\s+', ' ', cleaned_message) \n",
    "\n",
    "    # Substituting multiple spaces with single space\n",
    "    cleaned_message = re.sub(r'\\s+', ' ', cleaned_message, flags=re.I)\n",
    "\n",
    "    # Removing prefixed 'b'\n",
    "    cleaned_message = re.sub(r'^b\\s+', '', cleaned_message)\n",
    "\n",
    "    # Converting to Lowercase\n",
    "    cleaned_message = cleaned_message.lower()\n",
    "\n",
    "    cleaned_features_message.append(cleaned_message)"
   ]
  },
  {
   "cell_type": "code",
   "execution_count": 47,
   "metadata": {},
   "outputs": [
    {
     "data": {
      "text/plain": [
       "5325"
      ]
     },
     "execution_count": 47,
     "metadata": {},
     "output_type": "execute_result"
    }
   ],
   "source": [
    "len(cleaned_features_message)"
   ]
  },
  {
   "cell_type": "code",
   "execution_count": 49,
   "metadata": {},
   "outputs": [],
   "source": [
    "pd_cleaned_features_message=pd.DataFrame(cleaned_features_message,columns=['comments'])\n",
    "#pd_cleaned_features_message"
   ]
  },
  {
   "cell_type": "code",
   "execution_count": null,
   "metadata": {},
   "outputs": [],
   "source": []
  },
  {
   "cell_type": "code",
   "execution_count": 7,
   "metadata": {},
   "outputs": [],
   "source": [
    "results_of_comments=pd.read_excel('data/results_of_comments_positive_neutro_negative.xlsx')"
   ]
  },
  {
   "cell_type": "code",
   "execution_count": 61,
   "metadata": {},
   "outputs": [
    {
     "data": {
      "text/plain": [
       "positive    5260\n",
       "neutral       65\n",
       "Name: Prediction, dtype: int64"
      ]
     },
     "execution_count": 61,
     "metadata": {},
     "output_type": "execute_result"
    }
   ],
   "source": [
    "comments_results=results_of_comments['Prediction']\n",
    "comments_results.value_counts()"
   ]
  },
  {
   "cell_type": "code",
   "execution_count": 54,
   "metadata": {},
   "outputs": [],
   "source": [
    "pos_mask=[]\n",
    "neu_mask=[]\n",
    "for i in range(0,len(comments_results)):\n",
    "    if comments_results[i]==u'positive':\n",
    "        pos_mask.append(True)\n",
    "        neu_mask.append(False)\n",
    "    elif comments_results[i]==u'neutral':\n",
    "        pos_mask.append(False)\n",
    "        neu_mask.append(True)\n",
    "pos_mask=pd.DataFrame(pos_mask,columns=['prediction'])\n",
    "neu_mask=pd.DataFrame(neu_mask,columns=['prediction'])"
   ]
  },
  {
   "cell_type": "code",
   "execution_count": 55,
   "metadata": {},
   "outputs": [],
   "source": [
    "positive_data=pd_cleaned_features_message[pos_mask[u'prediction']]\n",
    "neutral_data=pd_cleaned_features_message[neu_mask[u'prediction']]"
   ]
  },
  {
   "cell_type": "code",
   "execution_count": 56,
   "metadata": {},
   "outputs": [
    {
     "data": {
      "text/plain": [
       "((5260, 1), (65, 1))"
      ]
     },
     "execution_count": 56,
     "metadata": {},
     "output_type": "execute_result"
    }
   ],
   "source": [
    "positive_data.shape,neutral_data.shape"
   ]
  },
  {
   "cell_type": "code",
   "execution_count": null,
   "metadata": {},
   "outputs": [],
   "source": []
  }
 ],
 "metadata": {
  "kernelspec": {
   "display_name": "Python 2",
   "language": "python",
   "name": "python2"
  },
  "language_info": {
   "codemirror_mode": {
    "name": "ipython",
    "version": 2
   },
   "file_extension": ".py",
   "mimetype": "text/x-python",
   "name": "python",
   "nbconvert_exporter": "python",
   "pygments_lexer": "ipython2",
   "version": "2.7.15"
  }
 },
 "nbformat": 4,
 "nbformat_minor": 2
}
