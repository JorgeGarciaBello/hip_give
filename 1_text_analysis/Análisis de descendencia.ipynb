{
 "cells": [
  {
   "cell_type": "code",
   "execution_count": 1,
   "metadata": {},
   "outputs": [
    {
     "name": "stdout",
     "output_type": "stream",
     "text": [
      "[nltk_data] Error loading punk: Package 'punk' not found in index\n",
      "[nltk_data] Downloading package stopwords to\n",
      "[nltk_data]     /home/jogabell/nltk_data...\n",
      "[nltk_data]   Package stopwords is already up-to-date!\n"
     ]
    },
    {
     "data": {
      "text/plain": [
       "True"
      ]
     },
     "execution_count": 1,
     "metadata": {},
     "output_type": "execute_result"
    }
   ],
   "source": [
    "#Librerias utilizadas\n",
    "import numpy as np\n",
    "import pandas as pd\n",
    "import re\n",
    "import nltk\n",
    "from nltk.corpus import stopwords\n",
    "from sklearn.feature_extraction.text import TfidfVectorizer\n",
    "import re\n",
    "import string\n",
    "import datetime\n",
    "from collections import Counter\n",
    "%matplotlib inline\n",
    "import matplotlib.pyplot as plt\n",
    "nltk.download(\"punk\")\n",
    "nltk.download(\"stopwords\")"
   ]
  },
  {
   "cell_type": "markdown",
   "metadata": {},
   "source": [
    "#### Lectura de datos de la plataforma HIPEGIve"
   ]
  },
  {
   "cell_type": "code",
   "execution_count": 2,
   "metadata": {},
   "outputs": [],
   "source": [
    "data_names = pd.read_csv('data/names_tokenized_and_cleaned.csv')"
   ]
  },
  {
   "cell_type": "code",
   "execution_count": 3,
   "metadata": {},
   "outputs": [],
   "source": [
    "names_hipe = data_names[['0','1','2','3','4']]"
   ]
  },
  {
   "cell_type": "code",
   "execution_count": 4,
   "metadata": {},
   "outputs": [],
   "source": [
    "data = names_hipe.values.tolist()"
   ]
  },
  {
   "cell_type": "code",
   "execution_count": 5,
   "metadata": {},
   "outputs": [],
   "source": [
    "def get_clean_from_nan(name_list):\n",
    "    clean_names=[]\n",
    "    for e in name_list:\n",
    "        clean_name=[]\n",
    "        for i in e:            \n",
    "            if not ((type(i)==float) or (type(i)==type(None))):\n",
    "                clean_name.append(i)\n",
    "        clean_names.append(clean_name)\n",
    "    return clean_names"
   ]
  },
  {
   "cell_type": "code",
   "execution_count": 6,
   "metadata": {},
   "outputs": [],
   "source": [
    "clean_names = get_clean_from_nan(data)"
   ]
  },
  {
   "cell_type": "code",
   "execution_count": 7,
   "metadata": {},
   "outputs": [
    {
     "data": {
      "text/plain": [
       "11926"
      ]
     },
     "execution_count": 7,
     "metadata": {},
     "output_type": "execute_result"
    }
   ],
   "source": [
    "len(clean_names)"
   ]
  },
  {
   "cell_type": "markdown",
   "metadata": {},
   "source": [
    "#### Lectura y limpieza de base de datos de apellidos hispanos "
   ]
  },
  {
   "cell_type": "code",
   "execution_count": 8,
   "metadata": {},
   "outputs": [],
   "source": [
    "surname_db = pd.read_csv('data/hispanic_surnames.csv')"
   ]
  },
  {
   "cell_type": "code",
   "execution_count": 9,
   "metadata": {},
   "outputs": [],
   "source": [
    "def get_in_lower(lista):\n",
    "    lower_surnames=[]\n",
    "    for surname in lista:\n",
    "        # Converting to Lowercase\n",
    "        lower_surname = surname.lower()\n",
    "        lower_surnames.append(lower_surname)\n",
    "    return lower_surnames"
   ]
  },
  {
   "cell_type": "code",
   "execution_count": 10,
   "metadata": {},
   "outputs": [],
   "source": [
    "lower_his_surnames = get_in_lower(surname_db['hispanic_surnames'].values.tolist())"
   ]
  },
  {
   "cell_type": "markdown",
   "metadata": {},
   "source": [
    "### Inicio de comparación de apellidos"
   ]
  },
  {
   "cell_type": "markdown",
   "metadata": {},
   "source": [
    "clean_names: es la lista de nombres dentro de la plataforma. \n",
    "\n",
    "lower_his_surnames: es la lista de apellidos hispanos más populares en USA."
   ]
  },
  {
   "cell_type": "code",
   "execution_count": 11,
   "metadata": {},
   "outputs": [],
   "source": [
    "def get_list_of_vectorized_surname(lista):    \n",
    "#def get_dictionary_of_names_with_hispanic_surnames(lista):    \n",
    "    list_of_vectors=[]\n",
    "    for i_name in range(0,len(lista)):\n",
    "        vector_list=[]\n",
    "        for word in lista[i_name]:\n",
    "            if word in lower_his_surnames:\n",
    "                vector_list.append(1)\n",
    "            else: \n",
    "                vector_list.append(0)\n",
    "        list_of_vectors.append(vector_list)\n",
    "    return list_of_vectors"
   ]
  },
  {
   "cell_type": "code",
   "execution_count": 12,
   "metadata": {},
   "outputs": [],
   "source": [
    "vect_of_names = get_list_of_vectorized_surname(clean_names)"
   ]
  },
  {
   "cell_type": "code",
   "execution_count": 13,
   "metadata": {},
   "outputs": [],
   "source": [
    "def get_index_for_hispanic_surname(vect_of_names):\n",
    "    index_true_hisp=[]\n",
    "    index_false_hisp=[]\n",
    "    for vect_name in vect_of_names:\n",
    "        total = sum(vect_name)\n",
    "        if total > 0:\n",
    "            index_true_hisp.append(True)\n",
    "            index_false_hisp.append(False)\n",
    "        else:\n",
    "            index_true_hisp.append(False)\n",
    "            index_false_hisp.append(True)\n",
    "    return (pd.DataFrame(index_true_hisp),pd.DataFrame(index_false_hisp))"
   ]
  },
  {
   "cell_type": "code",
   "execution_count": 14,
   "metadata": {},
   "outputs": [],
   "source": [
    "index_surnames = get_index_for_hispanic_surname(vect_of_names)"
   ]
  },
  {
   "cell_type": "code",
   "execution_count": null,
   "metadata": {},
   "outputs": [],
   "source": []
  },
  {
   "cell_type": "code",
   "execution_count": 15,
   "metadata": {},
   "outputs": [],
   "source": [
    "#Transformadno lista de nombres en la plataforma a dataframe\n",
    "clean_names_pd = pd.DataFrame(clean_names)\n",
    "# resultados de indicios de descendencia hispana\n",
    "hispanic_results = clean_names_pd[index_surnames[0].values]\n",
    "# resultados de indicios de descendencia no hispana\n",
    "no_hispanic_results = clean_names_pd[index_surnames[1].values]"
   ]
  },
  {
   "cell_type": "code",
   "execution_count": 16,
   "metadata": {},
   "outputs": [],
   "source": [
    "hispanic_results_cleaned = get_clean_from_nan(hispanic_results.values.tolist())\n",
    "no_hispanic_results_cleaned = get_clean_from_nan(no_hispanic_results.values.tolist())"
   ]
  },
  {
   "cell_type": "code",
   "execution_count": 17,
   "metadata": {},
   "outputs": [
    {
     "data": {
      "text/plain": [
       "5094"
      ]
     },
     "execution_count": 17,
     "metadata": {},
     "output_type": "execute_result"
    }
   ],
   "source": [
    "len(hispanic_results_cleaned)"
   ]
  },
  {
   "cell_type": "code",
   "execution_count": 18,
   "metadata": {
    "scrolled": false
   },
   "outputs": [
    {
     "data": {
      "text/plain": [
       "6832"
      ]
     },
     "execution_count": 18,
     "metadata": {},
     "output_type": "execute_result"
    }
   ],
   "source": [
    "len(no_hispanic_results_cleaned)"
   ]
  },
  {
   "cell_type": "code",
   "execution_count": 19,
   "metadata": {},
   "outputs": [],
   "source": [
    "hispanic_df = pd.DataFrame(hispanic_results_cleaned)\n",
    "no_hispanic_df = pd.DataFrame(no_hispanic_results_cleaned)\n",
    "hispanic_df.to_csv('data/results_hispanic_donors.csv')\n",
    "no_hispanic_df.to_csv('data/results_no_hispanic_donors.csv')"
   ]
  },
  {
   "cell_type": "code",
   "execution_count": 20,
   "metadata": {},
   "outputs": [
    {
     "data": {
      "text/plain": [
       "(42.71339929565655, 57.28660070434345)"
      ]
     },
     "execution_count": 20,
     "metadata": {},
     "output_type": "execute_result"
    }
   ],
   "source": [
    "total=float(len(hispanic_results_cleaned)+len(no_hispanic_results_cleaned))\n",
    "100.0*float(len(hispanic_results_cleaned))/total,100.0*float(len(no_hispanic_results_cleaned))/total\n"
   ]
  },
  {
   "cell_type": "markdown",
   "metadata": {},
   "source": [
    "### Restultados de descendencia.\n",
    "\n",
    "Los valores en porcentaje que se obtienen para la participación hispana y no hispana en las donaciónes corresopnde a un \n",
    "42.7% de participación con ascendencia hispana-latina y un 57.3% no hispana. "
   ]
  }
 ],
 "metadata": {
  "kernelspec": {
   "display_name": "Python 2",
   "language": "python",
   "name": "python2"
  },
  "language_info": {
   "codemirror_mode": {
    "name": "ipython",
    "version": 2
   },
   "file_extension": ".py",
   "mimetype": "text/x-python",
   "name": "python",
   "nbconvert_exporter": "python",
   "pygments_lexer": "ipython2",
   "version": "2.7.15"
  }
 },
 "nbformat": 4,
 "nbformat_minor": 2
}
