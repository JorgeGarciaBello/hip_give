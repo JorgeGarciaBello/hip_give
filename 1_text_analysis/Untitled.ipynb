{
 "cells": [
  {
   "cell_type": "code",
   "execution_count": 67,
   "metadata": {},
   "outputs": [],
   "source": [
    "import pandas as pd\n",
    "import numpy as np"
   ]
  },
  {
   "cell_type": "code",
   "execution_count": 13,
   "metadata": {},
   "outputs": [],
   "source": [
    "data=pd.read_excel('../STANFORD_ HIPGive_By_country_2014_2019_JUNUETH.xlsx',sheet_name='All funders data 2014-2019')"
   ]
  },
  {
   "cell_type": "code",
   "execution_count": 15,
   "metadata": {},
   "outputs": [
    {
     "data": {
      "text/plain": [
       "Index([u'Project ID', u'Date (2 horas atrasados)', u'Project Name',\n",
       "       u'Organization', u'Organization Tax ID', u'Organization Address',\n",
       "       u'Country', u'Project Goal', u'Transaction ID', u'Payer Name',\n",
       "       u'Payer Email', u'Total Donation', u'Donation Amount', u'HIPTIP Amount',\n",
       "       u'HIPGive Fee', u'WePay Payment Amount', u'WePay Fee', u'Match Amount',\n",
       "       u'Total Channeled to nonprofits',\n",
       "       u'Total Donation Amount+HIPTIP+HIPGIVE FEE+MATCH', u'Grant per year',\n",
       "       u'Total DA+HT+HG+MF+G', u'Coupon code', u'Promo code', u'Anonymous',\n",
       "       u'Message', u' ', u' .1', u' .2', u' .3', u' .4', u' .5', u' .6'],\n",
       "      dtype='object')"
      ]
     },
     "execution_count": 15,
     "metadata": {},
     "output_type": "execute_result"
    }
   ],
   "source": [
    "data.columns"
   ]
  },
  {
   "cell_type": "code",
   "execution_count": 35,
   "metadata": {},
   "outputs": [],
   "source": [
    "columns=[u'Project ID', u'Project Name',u'Date (2 horas atrasados)',u'Project Goal', u'Total Donation', u'Donation Amount', u'HIPTIP Amount',\n",
    "       u'HIPGive Fee', u'WePay Fee', u'Match Amount',       \n",
    "       u'Total Donation Amount+HIPTIP+HIPGIVE FEE+MATCH']"
   ]
  },
  {
   "cell_type": "code",
   "execution_count": 36,
   "metadata": {},
   "outputs": [],
   "source": [
    "ndata=data[columns]"
   ]
  },
  {
   "cell_type": "code",
   "execution_count": 37,
   "metadata": {},
   "outputs": [],
   "source": [
    "proyect_id=ndata[u'Project ID'].unique()"
   ]
  },
  {
   "cell_type": "code",
   "execution_count": 38,
   "metadata": {},
   "outputs": [
    {
     "data": {
      "text/plain": [
       "numpy.float64"
      ]
     },
     "execution_count": 38,
     "metadata": {},
     "output_type": "execute_result"
    }
   ],
   "source": [
    "type(proyect_id[0])"
   ]
  },
  {
   "cell_type": "code",
   "execution_count": 39,
   "metadata": {},
   "outputs": [],
   "source": [
    "dic_project_donations={}\n",
    "for p_id in proyect_id:\n",
    "    dic_project_donations[p_id]=ndata.loc[ndata.loc[:, u'Project ID'] == p_id]    "
   ]
  },
  {
   "cell_type": "code",
   "execution_count": 72,
   "metadata": {},
   "outputs": [],
   "source": [
    "#df_info=dic_project_donations[22316.0]\n",
    "df_info=dic_project_donations[13545]"
   ]
  },
  {
   "cell_type": "code",
   "execution_count": 73,
   "metadata": {},
   "outputs": [
    {
     "data": {
      "text/html": [
       "<div>\n",
       "<style scoped>\n",
       "    .dataframe tbody tr th:only-of-type {\n",
       "        vertical-align: middle;\n",
       "    }\n",
       "\n",
       "    .dataframe tbody tr th {\n",
       "        vertical-align: top;\n",
       "    }\n",
       "\n",
       "    .dataframe thead th {\n",
       "        text-align: right;\n",
       "    }\n",
       "</style>\n",
       "<table border=\"1\" class=\"dataframe\">\n",
       "  <thead>\n",
       "    <tr style=\"text-align: right;\">\n",
       "      <th></th>\n",
       "      <th>Project ID</th>\n",
       "      <th>Project Name</th>\n",
       "      <th>Date (2 horas atrasados)</th>\n",
       "      <th>Project Goal</th>\n",
       "      <th>Total Donation</th>\n",
       "      <th>Donation Amount</th>\n",
       "      <th>HIPTIP Amount</th>\n",
       "      <th>HIPGive Fee</th>\n",
       "      <th>WePay Fee</th>\n",
       "      <th>Match Amount</th>\n",
       "      <th>Total Donation Amount+HIPTIP+HIPGIVE FEE+MATCH</th>\n",
       "    </tr>\n",
       "  </thead>\n",
       "  <tbody>\n",
       "    <tr>\n",
       "      <th>6635</th>\n",
       "      <td>13545.0</td>\n",
       "      <td>Young women for the right to decide!</td>\n",
       "      <td>2016-03-15 16:54:30</td>\n",
       "      <td>5000.0</td>\n",
       "      <td>13.8</td>\n",
       "      <td>12.0</td>\n",
       "      <td>1.8</td>\n",
       "      <td>NaN</td>\n",
       "      <td>0.7</td>\n",
       "      <td>NaN</td>\n",
       "      <td>13.8</td>\n",
       "    </tr>\n",
       "  </tbody>\n",
       "</table>\n",
       "</div>"
      ],
      "text/plain": [
       "      Project ID                          Project Name  \\\n",
       "6635     13545.0  Young women for the right to decide!   \n",
       "\n",
       "     Date (2 horas atrasados)  Project Goal  Total Donation  Donation Amount  \\\n",
       "6635      2016-03-15 16:54:30        5000.0            13.8             12.0   \n",
       "\n",
       "      HIPTIP Amount  HIPGive Fee  WePay Fee  Match Amount  \\\n",
       "6635            1.8          NaN        0.7           NaN   \n",
       "\n",
       "      Total Donation Amount+HIPTIP+HIPGIVE FEE+MATCH  \n",
       "6635                                            13.8  "
      ]
     },
     "execution_count": 73,
     "metadata": {},
     "output_type": "execute_result"
    }
   ],
   "source": [
    "df_info"
   ]
  },
  {
   "cell_type": "code",
   "execution_count": 44,
   "metadata": {},
   "outputs": [
    {
     "data": {
      "text/plain": [
       "array([  30. ,   25. ,  125. ,    4.4,   15. ,  174. ,   15. ,   20. ,\n",
       "         50. ,   50. , 1000. ,   25. ,   20. ,  100. ])"
      ]
     },
     "execution_count": 44,
     "metadata": {},
     "output_type": "execute_result"
    }
   ],
   "source": [
    "df_info['Donation Amount'].values"
   ]
  },
  {
   "cell_type": "code",
   "execution_count": 52,
   "metadata": {},
   "outputs": [
    {
     "data": {
      "text/plain": [
       "nan"
      ]
     },
     "execution_count": 52,
     "metadata": {},
     "output_type": "execute_result"
    }
   ],
   "source": [
    "df_info['Match Amount'].values.sum()"
   ]
  },
  {
   "cell_type": "code",
   "execution_count": 71,
   "metadata": {},
   "outputs": [],
   "source": [
    "#hola=np.ndarray([30.2,20.2], dtype=float)\n",
    "HOLA=np.array([[1, 2, 3], [4, 5, 6]], np.int32)"
   ]
  },
  {
   "cell_type": "code",
   "execution_count": null,
   "metadata": {},
   "outputs": [],
   "source": []
  }
 ],
 "metadata": {
  "kernelspec": {
   "display_name": "Python 2",
   "language": "python",
   "name": "python2"
  },
  "language_info": {
   "codemirror_mode": {
    "name": "ipython",
    "version": 2
   },
   "file_extension": ".py",
   "mimetype": "text/x-python",
   "name": "python",
   "nbconvert_exporter": "python",
   "pygments_lexer": "ipython2",
   "version": "2.7.15"
  }
 },
 "nbformat": 4,
 "nbformat_minor": 2
}
