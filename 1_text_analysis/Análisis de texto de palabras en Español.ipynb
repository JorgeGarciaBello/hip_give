{
 "cells": [
  {
   "cell_type": "markdown",
   "metadata": {},
   "source": [
    "## Generación de base de datos de palabras en Español"
   ]
  },
  {
   "cell_type": "code",
   "execution_count": 1,
   "metadata": {},
   "outputs": [
    {
     "name": "stdout",
     "output_type": "stream",
     "text": [
      "[nltk_data] Downloading package punkt to /home/jogabell/nltk_data...\n",
      "[nltk_data]   Package punkt is already up-to-date!\n",
      "[nltk_data] Downloading package stopwords to\n",
      "[nltk_data]     /home/jogabell/nltk_data...\n",
      "[nltk_data]   Package stopwords is already up-to-date!\n"
     ]
    },
    {
     "data": {
      "text/plain": [
       "True"
      ]
     },
     "execution_count": 1,
     "metadata": {},
     "output_type": "execute_result"
    }
   ],
   "source": [
    "# librerias utilizadas\n",
    "import pandas as pd\n",
    "import nltk\n",
    "import string\n",
    "import datetime\n",
    "from collections import Counter\n",
    "nltk.download(\"punkt\")\n",
    "nltk.download(\"stopwords\")\n"
   ]
  },
  {
   "cell_type": "code",
   "execution_count": 2,
   "metadata": {},
   "outputs": [],
   "source": [
    "# Lectura de base de datos\n",
    "gh_2015=pd.read_excel('data/DATA_PLATAFORMA_HIPGIVE.xlsx',sheet_name='2015',encode='latin1')\n",
    "gh_2016=pd.read_excel('data/DATA_PLATAFORMA_HIPGIVE.xlsx',sheet_name='2016',encode='latin1')\n",
    "gh_2017=pd.read_excel('data/DATA_PLATAFORMA_HIPGIVE.xlsx',sheet_name='2017',encode='latin1')\n",
    "gh_2018=pd.read_excel('data/DATA_PLATAFORMA_HIPGIVE.xlsx',sheet_name='2018',encode='latin1')\n",
    "gh_2019=pd.read_excel('data/DATA_PLATAFORMA_HIPGIVE.xlsx',sheet_name='2019',encode='latin1') "
   ]
  },
  {
   "cell_type": "code",
   "execution_count": 3,
   "metadata": {},
   "outputs": [],
   "source": [
    "#gh_2015.head"
   ]
  },
  {
   "cell_type": "code",
   "execution_count": 4,
   "metadata": {},
   "outputs": [],
   "source": [
    "features=[u'Project ID', u'Name', u'Organization',u'Published Status',\n",
    "       u'Goal', u'Percentage Raised', u'Number of Individual Donors',  \n",
    "       u'Short DescSP', u'Long Desc SP']\n",
    "_2015=gh_2015[features]\n",
    "_2016=gh_2016[features]\n",
    "_2017=gh_2017[features]\n",
    "_2018=gh_2018[features]\n",
    "_2019=gh_2019[features]"
   ]
  },
  {
   "cell_type": "code",
   "execution_count": 5,
   "metadata": {},
   "outputs": [
    {
     "data": {
      "text/plain": [
       "ended       175\n",
       "draft        87\n",
       "private       3\n",
       "rejected      1\n",
       "Name: Published Status, dtype: int64"
      ]
     },
     "execution_count": 5,
     "metadata": {},
     "output_type": "execute_result"
    }
   ],
   "source": [
    "_2015['Published Status'].value_counts()"
   ]
  },
  {
   "cell_type": "code",
   "execution_count": 6,
   "metadata": {},
   "outputs": [],
   "source": [
    "# Limpiado base de datos. Se quitando registros con 'Published Status'='draft' o 'rejected'\n",
    "\n",
    "data=_2015.append(_2016).append(_2017).append(_2018).append(_2019)"
   ]
  },
  {
   "cell_type": "code",
   "execution_count": 7,
   "metadata": {},
   "outputs": [
    {
     "data": {
      "text/plain": [
       "(3966, 9)"
      ]
     },
     "execution_count": 7,
     "metadata": {},
     "output_type": "execute_result"
    }
   ],
   "source": [
    "data.shape"
   ]
  },
  {
   "cell_type": "code",
   "execution_count": 8,
   "metadata": {},
   "outputs": [],
   "source": [
    "mask1=(data['Published Status']!= 'draft')"
   ]
  },
  {
   "cell_type": "code",
   "execution_count": 9,
   "metadata": {},
   "outputs": [
    {
     "data": {
      "text/plain": [
       "draft        3105\n",
       "ended         749\n",
       "rejected       70\n",
       "publish        28\n",
       "private        10\n",
       "submitted       2\n",
       "archived        1\n",
       "Name: Published Status, dtype: int64"
      ]
     },
     "execution_count": 9,
     "metadata": {},
     "output_type": "execute_result"
    }
   ],
   "source": [
    "data['Published Status'].value_counts()"
   ]
  },
  {
   "cell_type": "code",
   "execution_count": 10,
   "metadata": {},
   "outputs": [],
   "source": [
    "data=data[mask1]"
   ]
  },
  {
   "cell_type": "code",
   "execution_count": 11,
   "metadata": {},
   "outputs": [
    {
     "data": {
      "text/plain": [
       "ended        749\n",
       "rejected      70\n",
       "publish       28\n",
       "private       10\n",
       "submitted      2\n",
       "archived       1\n",
       "Name: Published Status, dtype: int64"
      ]
     },
     "execution_count": 11,
     "metadata": {},
     "output_type": "execute_result"
    }
   ],
   "source": [
    "data['Published Status'].value_counts()"
   ]
  },
  {
   "cell_type": "code",
   "execution_count": 12,
   "metadata": {},
   "outputs": [],
   "source": [
    "mask2=(data['Published Status']!= 'rejected')"
   ]
  },
  {
   "cell_type": "code",
   "execution_count": 13,
   "metadata": {},
   "outputs": [],
   "source": [
    "data=data[mask2]"
   ]
  },
  {
   "cell_type": "code",
   "execution_count": 14,
   "metadata": {},
   "outputs": [
    {
     "data": {
      "text/plain": [
       "ended        749\n",
       "publish       28\n",
       "private       10\n",
       "submitted      2\n",
       "archived       1\n",
       "Name: Published Status, dtype: int64"
      ]
     },
     "execution_count": 14,
     "metadata": {},
     "output_type": "execute_result"
    }
   ],
   "source": [
    "data['Published Status'].value_counts()"
   ]
  },
  {
   "cell_type": "markdown",
   "metadata": {},
   "source": [
    "## Creación de base de datos de texto para proyectos que no recaudaron"
   ]
  },
  {
   "cell_type": "code",
   "execution_count": 15,
   "metadata": {},
   "outputs": [],
   "source": [
    "mask3=data[u'Percentage Raised']<=50"
   ]
  },
  {
   "cell_type": "code",
   "execution_count": 16,
   "metadata": {},
   "outputs": [],
   "source": [
    "data_cero_donation=data[mask3]"
   ]
  },
  {
   "cell_type": "code",
   "execution_count": 17,
   "metadata": {},
   "outputs": [],
   "source": [
    "mask4=data[u'Number of Individual Donors']<=0"
   ]
  },
  {
   "cell_type": "code",
   "execution_count": 18,
   "metadata": {},
   "outputs": [],
   "source": [
    "data_cero_donation=data[mask4]"
   ]
  },
  {
   "cell_type": "code",
   "execution_count": 19,
   "metadata": {},
   "outputs": [
    {
     "data": {
      "text/plain": [
       "(150, 9)"
      ]
     },
     "execution_count": 19,
     "metadata": {},
     "output_type": "execute_result"
    }
   ],
   "source": [
    "data_cero_donation.shape"
   ]
  },
  {
   "cell_type": "markdown",
   "metadata": {},
   "source": [
    "## Creación de base de datos de texto para proyectos que alcanzaron o rebasaron la meta"
   ]
  },
  {
   "cell_type": "code",
   "execution_count": 20,
   "metadata": {},
   "outputs": [],
   "source": [
    "mask5=data['Percentage Raised']>=100"
   ]
  },
  {
   "cell_type": "code",
   "execution_count": 21,
   "metadata": {},
   "outputs": [],
   "source": [
    "data_goal_donation=data[mask5]"
   ]
  },
  {
   "cell_type": "code",
   "execution_count": 22,
   "metadata": {},
   "outputs": [],
   "source": [
    "mask6=data_goal_donation['Number of Individual Donors']>=1"
   ]
  },
  {
   "cell_type": "code",
   "execution_count": 23,
   "metadata": {},
   "outputs": [],
   "source": [
    "data_goal_donation=data_goal_donation[mask6]"
   ]
  },
  {
   "cell_type": "code",
   "execution_count": 24,
   "metadata": {},
   "outputs": [
    {
     "data": {
      "text/plain": [
       "(134, 9)"
      ]
     },
     "execution_count": 24,
     "metadata": {},
     "output_type": "execute_result"
    }
   ],
   "source": [
    "data_goal_donation.shape"
   ]
  },
  {
   "cell_type": "markdown",
   "metadata": {},
   "source": [
    "## Función para preparar los datos de texto"
   ]
  },
  {
   "cell_type": "code",
   "execution_count": 45,
   "metadata": {},
   "outputs": [],
   "source": [
    "def text_analysis(serie):\n",
    "    s=serie.isna().value_counts()    \n",
    "    if s.size==2:\n",
    "          serie=serie.dropna()\n",
    "    elif (s.size==1)&(s[0]==True):\n",
    "      print('no existen datos')\n",
    "    datetime_object = datetime.datetime.now()\n",
    "    lista=[]    \n",
    "    for u_text in serie:\n",
    "        if(type(u_text)!= type(datetime_object)):            \n",
    "            lista.append(u_text.encode(\"utf-8\"))\n",
    "    text_string_type=', '.join(lista)\n",
    "    text_string_type=unicode(text_string_type, \"utf-8\").lower()    \n",
    "    \n",
    "    useless_words=nltk.corpus.stopwords.words(\"spanish\")+nltk.corpus.stopwords.words(\"english\")+list(string.punctuation)+[u'cada',u'través',u'para',u'\\xa1que',u'\\xa1to',u'son',u'con',u'la',u'se',u'en',u'el',u'que',u'la',u'las',u'lo',u'los',u'de',u'the',u'us',u'we',u'A',u'nbsp',u'8217',u'8211',u'8220',u'8221',u'\\u2019',u'\\u201d',u'\\u201c',u'pa\\xeds',u'visi\\xf3n',u'ray\\xf3n',u'pa\\xeds',u'tecnolog\\xeda',u'ay\\xfadanos',u'\\xa1que',u'harder\\u2014but',u'michoac\\xe1n',u'let\\xb4s',u'\\xa1to',u'granny\\xb4s',u'espa\\xf1ol.',u'.']#+list(u\"\\u2019\")+list('...')    \n",
    "    words=nltk.word_tokenize(text_string_type)\n",
    "    words_filtered=[word for word in words if not word in useless_words]\n",
    "    \n",
    "    words_counter=Counter(words_filtered)\n",
    "    most_common_words = words_counter.most_common()\n",
    "    return most_common_words"
   ]
  },
  {
   "cell_type": "markdown",
   "metadata": {},
   "source": [
    "## Obtención de short desciption en Español"
   ]
  },
  {
   "cell_type": "code",
   "execution_count": 46,
   "metadata": {},
   "outputs": [],
   "source": [
    "# Proyectos con recaudación cero y recaudación igual o superior al objetivo\n",
    "short_text_cero_donations=data_cero_donation['Short DescSP']\n",
    "short_text_goal_donations=data_goal_donation['Short DescSP']"
   ]
  },
  {
   "cell_type": "code",
   "execution_count": 47,
   "metadata": {},
   "outputs": [],
   "source": [
    "short_text_cero_donations=short_text_cero_donations.dropna()\n",
    "short_text_goal_donations=short_text_goal_donations.dropna()"
   ]
  },
  {
   "cell_type": "code",
   "execution_count": 48,
   "metadata": {},
   "outputs": [
    {
     "data": {
      "text/plain": [
       "(132,)"
      ]
     },
     "execution_count": 48,
     "metadata": {},
     "output_type": "execute_result"
    }
   ],
   "source": [
    "short_text_cero_donations.shape"
   ]
  },
  {
   "cell_type": "code",
   "execution_count": 49,
   "metadata": {},
   "outputs": [
    {
     "data": {
      "text/plain": [
       "(131,)"
      ]
     },
     "execution_count": 49,
     "metadata": {},
     "output_type": "execute_result"
    }
   ],
   "source": [
    "short_text_goal_donations.shape"
   ]
  },
  {
   "cell_type": "code",
   "execution_count": 50,
   "metadata": {},
   "outputs": [],
   "source": [
    "#short_text_cero_donations y short_text_goal_donations"
   ]
  },
  {
   "cell_type": "code",
   "execution_count": 51,
   "metadata": {},
   "outputs": [],
   "source": [
    "mcw_cero_donations=text_analysis(short_text_cero_donations)\n",
    "mcw_goal_donations=text_analysis(short_text_goal_donations)"
   ]
  },
  {
   "cell_type": "code",
   "execution_count": 52,
   "metadata": {},
   "outputs": [],
   "source": [
    "#def transform_words(serie):\n",
    "#    result=[]\n",
    "#    for s in serie:\n",
    "#        #s[0]=s[0].encode('utf-8')\n",
    "#        print(s[0])\n",
    "#        result.append((s[0].encode('utf-8'),s[1]))\n",
    "#        #string.replace(s[0].decode('latin1'), u'\\xf1', 'ñ')\n",
    "#    return result"
   ]
  },
  {
   "cell_type": "code",
   "execution_count": 53,
   "metadata": {},
   "outputs": [],
   "source": [
    "#mcw_cero_donations"
   ]
  },
  {
   "cell_type": "code",
   "execution_count": 54,
   "metadata": {},
   "outputs": [],
   "source": [
    "#mcw_goal_donations"
   ]
  },
  {
   "cell_type": "code",
   "execution_count": 55,
   "metadata": {},
   "outputs": [],
   "source": [
    "## Creación de base de datos para realizar gráficos de la short description en Español\n",
    "df_mcw_goal_donations=pd.DataFrame(mcw_goal_donations)\n",
    "df_mcw_goal_donations.to_excel('data/short_description_words_goal_ESP.xlsx')"
   ]
  },
  {
   "cell_type": "code",
   "execution_count": 56,
   "metadata": {},
   "outputs": [],
   "source": [
    "df_mcw_cero_donations=pd.DataFrame(mcw_cero_donations)\n",
    "df_mcw_cero_donations.to_excel('data/short_description_words_cero_ESP.xlsx')"
   ]
  },
  {
   "cell_type": "markdown",
   "metadata": {},
   "source": [
    "## Obtención de long description en Español"
   ]
  },
  {
   "cell_type": "code",
   "execution_count": 57,
   "metadata": {},
   "outputs": [],
   "source": [
    "# Proyectos con recaudación cero y recaudación igual o superior al objetivo\n",
    "long_text_cero_donations=data_cero_donation['Long Desc SP']\n",
    "long_text_goal_donations=data_goal_donation['Long Desc SP']"
   ]
  },
  {
   "cell_type": "code",
   "execution_count": 58,
   "metadata": {},
   "outputs": [],
   "source": [
    "long_text_cero_donations=long_text_cero_donations.dropna()\n",
    "long_text_goal_donations=long_text_goal_donations.dropna()"
   ]
  },
  {
   "cell_type": "code",
   "execution_count": 59,
   "metadata": {},
   "outputs": [],
   "source": [
    "# Palabras en Español más utilizadas en las descripciones largas \n",
    "# para proyectos que recaudaron el objetivo o más y para los que \n",
    "# no recaudaron\n",
    "mcw_long_cero_donations=text_analysis(long_text_cero_donations)\n",
    "mcw_long_goal_donations=text_analysis(long_text_goal_donations)"
   ]
  },
  {
   "cell_type": "code",
   "execution_count": 60,
   "metadata": {},
   "outputs": [],
   "source": [
    "#mcw_long_cero_donations"
   ]
  },
  {
   "cell_type": "code",
   "execution_count": 61,
   "metadata": {},
   "outputs": [],
   "source": [
    "#mcw_long_goal_donations"
   ]
  },
  {
   "cell_type": "code",
   "execution_count": 62,
   "metadata": {},
   "outputs": [],
   "source": [
    "# Guardando base de datos de las palabras más utilizadas en las descripciones largas en Español\n",
    "df_mcw_long_cero_donations=pd.DataFrame(mcw_long_cero_donations)\n",
    "df_mcw_long_goal_donations=pd.DataFrame(mcw_long_goal_donations)\n",
    "\n",
    "df_mcw_long_cero_donations.to_excel('data/long_description_words_cero_ESP.xlsx')\n",
    "df_mcw_long_goal_donations.to_excel('data/long_description_words_goal_ESP.xlsx')\n"
   ]
  },
  {
   "cell_type": "code",
   "execution_count": 63,
   "metadata": {},
   "outputs": [],
   "source": [
    "# Se ha terminado el proceso y limpieza de los datos de texto en Espalñol"
   ]
  },
  {
   "cell_type": "code",
   "execution_count": null,
   "metadata": {},
   "outputs": [],
   "source": []
  }
 ],
 "metadata": {
  "kernelspec": {
   "display_name": "Python 2",
   "language": "python",
   "name": "python2"
  },
  "language_info": {
   "codemirror_mode": {
    "name": "ipython",
    "version": 2
   },
   "file_extension": ".py",
   "mimetype": "text/x-python",
   "name": "python",
   "nbconvert_exporter": "python",
   "pygments_lexer": "ipython2",
   "version": "2.7.15"
  }
 },
 "nbformat": 4,
 "nbformat_minor": 2
}
