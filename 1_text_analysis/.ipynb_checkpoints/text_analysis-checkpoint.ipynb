{
 "cells": [
  {
   "cell_type": "code",
   "execution_count": null,
   "metadata": {},
   "outputs": [],
   "source": [
    "\n"
   ]
  },
  {
   "cell_type": "code",
   "execution_count": 2,
   "metadata": {},
   "outputs": [
    {
     "name": "stdout",
     "output_type": "stream",
     "text": [
      "[nltk_data] Downloading package punkt to /home/jogabell/nltk_data...\n",
      "[nltk_data]   Package punkt is already up-to-date!\n",
      "[nltk_data] Downloading package stopwords to\n",
      "[nltk_data]     /home/jogabell/nltk_data...\n",
      "[nltk_data]   Package stopwords is already up-to-date!\n"
     ]
    },
    {
     "data": {
      "text/plain": [
       "True"
      ]
     },
     "execution_count": 2,
     "metadata": {},
     "output_type": "execute_result"
    }
   ],
   "source": [
    "# Carga de paqueterías utilizadas\n",
    "import pandas as pd\n",
    "import nltk\n",
    "import string\n",
    "import datetime\n",
    "from collections import Counter\n",
    "nltk.download(\"punkt\")\n",
    "nltk.download(\"stopwords\")\n"
   ]
  },
  {
   "cell_type": "code",
   "execution_count": 3,
   "metadata": {},
   "outputs": [
    {
     "data": {
      "text/plain": [
       "datetime.datetime"
      ]
     },
     "execution_count": 3,
     "metadata": {},
     "output_type": "execute_result"
    }
   ],
   "source": [
    "datetime_object = datetime.datetime.now()\n",
    "type(datetime_object)"
   ]
  },
  {
   "cell_type": "markdown",
   "metadata": {},
   "source": [
    "## Función que realiza el análisis de texto"
   ]
  },
  {
   "cell_type": "code",
   "execution_count": 67,
   "metadata": {},
   "outputs": [],
   "source": [
    "def text_analysis(serie):\n",
    "    s=serie.isna().value_counts()    \n",
    "    if s.size==2:\n",
    "          serie=serie.dropna()\n",
    "    elif (s.size==1)&(s[0]==True):\n",
    "      print('no existen datos')\n",
    "    datetime_object = datetime.datetime.now()\n",
    "    lista=[]    \n",
    "    for u_text in serie:\n",
    "        if(type(u_text)!= type(datetime_object)):            \n",
    "            lista.append(u_text.encode(\"utf-8\"))\n",
    "    text_string_type=', '.join(lista)\n",
    "    text_string_type=unicode(text_string_type, \"utf-8\").lower()    \n",
    "    \n",
    "    useless_words=nltk.corpus.stopwords.words(\"english\")+list(string.punctuation)+[u'son',u'con',u'la',u'se',u'en',u'el',u'que',u'la',u'las',u'lo',u'los',u'de',u'the',u'us',u'we',u'A',u'nbsp',u'8217',u'8211',u'8220',u'8221',u'\\u2019',u'\\u201d',u'\\u201c',u'pa\\xeds',u'visi\\xf3n',u'ray\\xf3n',u'pa\\xeds',u'tecnolog\\xeda',u'ay\\xfadanos',u'\\xa1que',u'harder\\u2014but']#+list(u\"\\u2019\")+list('...')    \n",
    "    words=nltk.word_tokenize(text_string_type)\n",
    "    words_filtered=[word for word in words if not word in useless_words]\n",
    "    \n",
    "    words_counter=Counter(words_filtered)\n",
    "    most_common_words = words_counter.most_common()\n",
    "    return most_common_words"
   ]
  },
  {
   "cell_type": "code",
   "execution_count": 5,
   "metadata": {},
   "outputs": [],
   "source": [
    "# Lectura de base de datos\n",
    "data_2015=pd.read_excel('data/DATA_PLATAFORMA_HIPGIVE.xlsx',sheet_name='2015',decode='utf-8')\n",
    "data_2016=pd.read_excel('data/DATA_PLATAFORMA_HIPGIVE.xlsx',sheet_name='2016',decode='utf-8')\n",
    "data_2017=pd.read_excel('data/DATA_PLATAFORMA_HIPGIVE.xlsx',sheet_name='2017',decode='utf-8')\n",
    "data_2018=pd.read_excel('data/DATA_PLATAFORMA_HIPGIVE.xlsx',sheet_name='2018',decode='utf-8')\n",
    "data_2019=pd.read_excel('data/DATA_PLATAFORMA_HIPGIVE.xlsx',sheet_name='2019',decode='utf-8')"
   ]
  },
  {
   "cell_type": "code",
   "execution_count": 6,
   "metadata": {},
   "outputs": [],
   "source": [
    "features=[u'Project ID', u'Project Date', u'Name', u'Organization',\n",
    "       u'Goal', u'Total',\n",
    "       u'Percentage Raised', u'HIP Give Fee', u'HIP Give Percent',\n",
    "       u'HIP Give Tip', u'WePay Fee', u'Net Amount',\n",
    "       u'Number of Individual Donors', u'Matching Funds Total', u'Start Date',\n",
    "       u'End Date', u'Name of Main Contact', u'Main Contact Email',\n",
    "       u'OwnerID', u'Address', u'State', u'City',\n",
    "       u'Category', u'Category2', 'Short Desc EN',\n",
    "       u'Long Desc EN',u'Goal EN',\n",
    "       u'Budget', u'Mission EN',\n",
    "       u'About EN', u'Published Status',\n",
    "       u'Date Approved', u'Twitter', u'YouTube'\n",
    "       ]\n",
    "_2015=data_2015[features]\n",
    "_2016=data_2016[features]\n",
    "_2017=data_2017[features]\n",
    "_2018=data_2018[features]\n",
    "_2019=data_2019[features]"
   ]
  },
  {
   "cell_type": "code",
   "execution_count": 7,
   "metadata": {},
   "outputs": [],
   "source": [
    "data=_2015.append(_2016).append(_2017).append(_2018).append(_2019)"
   ]
  },
  {
   "cell_type": "code",
   "execution_count": 8,
   "metadata": {},
   "outputs": [
    {
     "data": {
      "text/plain": [
       "(3966, 34)"
      ]
     },
     "execution_count": 8,
     "metadata": {},
     "output_type": "execute_result"
    }
   ],
   "source": [
    "data.shape"
   ]
  },
  {
   "cell_type": "code",
   "execution_count": 9,
   "metadata": {},
   "outputs": [],
   "source": [
    "data=data[ data['Published Status']!= 'draft']\n",
    "data=data[ data['Published Status']!= 'rejected']"
   ]
  },
  {
   "cell_type": "code",
   "execution_count": 10,
   "metadata": {},
   "outputs": [
    {
     "data": {
      "text/plain": [
       "ended        749\n",
       "publish       28\n",
       "private       10\n",
       "submitted      2\n",
       "archived       1\n",
       "Name: Published Status, dtype: int64"
      ]
     },
     "execution_count": 10,
     "metadata": {},
     "output_type": "execute_result"
    }
   ],
   "source": [
    "data['Published Status'].value_counts()"
   ]
  },
  {
   "cell_type": "code",
   "execution_count": 11,
   "metadata": {},
   "outputs": [
    {
     "data": {
      "text/plain": [
       "(791, 34)"
      ]
     },
     "execution_count": 11,
     "metadata": {},
     "output_type": "execute_result"
    }
   ],
   "source": [
    "data.shape"
   ]
  },
  {
   "cell_type": "markdown",
   "metadata": {},
   "source": [
    "## Obtención de conjuntos de datos para diferentestipos de recaudación"
   ]
  },
  {
   "cell_type": "code",
   "execution_count": 12,
   "metadata": {},
   "outputs": [
    {
     "data": {
      "text/plain": [
       "(575, 34)"
      ]
     },
     "execution_count": 12,
     "metadata": {},
     "output_type": "execute_result"
    }
   ],
   "source": [
    "# Datos con donaciones menores al 50% del objetivo\n",
    "data_cero_doantions=data[(data['Number of Individual Donors']==0) | (data['Percentage Raised']<50 )]\n",
    "data_cero_doantions.shape"
   ]
  },
  {
   "cell_type": "code",
   "execution_count": 13,
   "metadata": {},
   "outputs": [
    {
     "data": {
      "text/plain": [
       "(216, 34)"
      ]
     },
     "execution_count": 13,
     "metadata": {},
     "output_type": "execute_result"
    }
   ],
   "source": [
    "# Datos con donaciones mayores al 50% del objetivo\n",
    "data_not_cero_doantions=data[(data['Number of Individual Donors']>0) & (data['Percentage Raised']>=50 )]\n",
    "data_not_cero_doantions.shape"
   ]
  },
  {
   "cell_type": "code",
   "execution_count": 14,
   "metadata": {},
   "outputs": [
    {
     "data": {
      "text/plain": [
       "(134, 34)"
      ]
     },
     "execution_count": 14,
     "metadata": {},
     "output_type": "execute_result"
    }
   ],
   "source": [
    "# Datos con donaciones que cumplieron el objetivo (100%) \n",
    "data_goal_donations=data[(data['Number of Individual Donors']>0) & (data['Percentage Raised']>=100 )]\n",
    "data_goal_donations.shape"
   ]
  },
  {
   "cell_type": "code",
   "execution_count": 15,
   "metadata": {},
   "outputs": [
    {
     "data": {
      "text/plain": [
       "791"
      ]
     },
     "execution_count": 15,
     "metadata": {},
     "output_type": "execute_result"
    }
   ],
   "source": [
    "575+216"
   ]
  },
  {
   "cell_type": "code",
   "execution_count": null,
   "metadata": {},
   "outputs": [],
   "source": []
  },
  {
   "cell_type": "code",
   "execution_count": null,
   "metadata": {},
   "outputs": [],
   "source": []
  },
  {
   "cell_type": "code",
   "execution_count": null,
   "metadata": {},
   "outputs": [],
   "source": []
  },
  {
   "cell_type": "markdown",
   "metadata": {},
   "source": [
    "## Creación de base de datos del texto \"short description\" con diferentes porcentajes de donación"
   ]
  },
  {
   "cell_type": "code",
   "execution_count": 68,
   "metadata": {},
   "outputs": [
    {
     "ename": "UnicodeEncodeError",
     "evalue": "'ascii' codec can't encode character u'\\u2014' in position 6: ordinal not in range(128)",
     "output_type": "error",
     "traceback": [
      "\u001b[0;31m---------------------------------------------------------------------------\u001b[0m",
      "\u001b[0;31mUnicodeEncodeError\u001b[0m                        Traceback (most recent call last)",
      "\u001b[0;32m<ipython-input-68-b05f09b32eda>\u001b[0m in \u001b[0;36m<module>\u001b[0;34m()\u001b[0m\n\u001b[1;32m      2\u001b[0m \u001b[0mmcw_not_cero\u001b[0m\u001b[0;34m=\u001b[0m\u001b[0mtext_analysis\u001b[0m\u001b[0;34m(\u001b[0m\u001b[0mdata_text_not_cero_donations\u001b[0m\u001b[0;34m)\u001b[0m\u001b[0;34m\u001b[0m\u001b[0m\n\u001b[1;32m      3\u001b[0m \u001b[0mdf_mcw_not_cero\u001b[0m\u001b[0;34m=\u001b[0m\u001b[0mpd\u001b[0m\u001b[0;34m.\u001b[0m\u001b[0mDataFrame\u001b[0m\u001b[0;34m(\u001b[0m\u001b[0mmcw_not_cero\u001b[0m\u001b[0;34m)\u001b[0m\u001b[0;34m\u001b[0m\u001b[0m\n\u001b[0;32m----> 4\u001b[0;31m \u001b[0mdf_mcw_not_cero\u001b[0m\u001b[0;34m.\u001b[0m\u001b[0mto_csv\u001b[0m\u001b[0;34m(\u001b[0m\u001b[0;34m'data/short_description_words.csv'\u001b[0m\u001b[0;34m)\u001b[0m\u001b[0;34m\u001b[0m\u001b[0m\n\u001b[0m",
      "\u001b[0;32m/home/jogabell/anaconda2/lib/python2.7/site-packages/pandas/core/frame.pyc\u001b[0m in \u001b[0;36mto_csv\u001b[0;34m(self, path_or_buf, sep, na_rep, float_format, columns, header, index, index_label, mode, encoding, compression, quoting, quotechar, line_terminator, chunksize, tupleize_cols, date_format, doublequote, escapechar, decimal)\u001b[0m\n\u001b[1;32m   1743\u001b[0m                                  \u001b[0mdoublequote\u001b[0m\u001b[0;34m=\u001b[0m\u001b[0mdoublequote\u001b[0m\u001b[0;34m,\u001b[0m\u001b[0;34m\u001b[0m\u001b[0m\n\u001b[1;32m   1744\u001b[0m                                  escapechar=escapechar, decimal=decimal)\n\u001b[0;32m-> 1745\u001b[0;31m         \u001b[0mformatter\u001b[0m\u001b[0;34m.\u001b[0m\u001b[0msave\u001b[0m\u001b[0;34m(\u001b[0m\u001b[0;34m)\u001b[0m\u001b[0;34m\u001b[0m\u001b[0m\n\u001b[0m\u001b[1;32m   1746\u001b[0m \u001b[0;34m\u001b[0m\u001b[0m\n\u001b[1;32m   1747\u001b[0m         \u001b[0;32mif\u001b[0m \u001b[0mpath_or_buf\u001b[0m \u001b[0;32mis\u001b[0m \u001b[0mNone\u001b[0m\u001b[0;34m:\u001b[0m\u001b[0;34m\u001b[0m\u001b[0m\n",
      "\u001b[0;32m/home/jogabell/anaconda2/lib/python2.7/site-packages/pandas/io/formats/csvs.pyc\u001b[0m in \u001b[0;36msave\u001b[0;34m(self)\u001b[0m\n\u001b[1;32m    169\u001b[0m                 \u001b[0mself\u001b[0m\u001b[0;34m.\u001b[0m\u001b[0mwriter\u001b[0m \u001b[0;34m=\u001b[0m \u001b[0mUnicodeWriter\u001b[0m\u001b[0;34m(\u001b[0m\u001b[0mf\u001b[0m\u001b[0;34m,\u001b[0m \u001b[0;34m**\u001b[0m\u001b[0mwriter_kwargs\u001b[0m\u001b[0;34m)\u001b[0m\u001b[0;34m\u001b[0m\u001b[0m\n\u001b[1;32m    170\u001b[0m \u001b[0;34m\u001b[0m\u001b[0m\n\u001b[0;32m--> 171\u001b[0;31m             \u001b[0mself\u001b[0m\u001b[0;34m.\u001b[0m\u001b[0m_save\u001b[0m\u001b[0;34m(\u001b[0m\u001b[0;34m)\u001b[0m\u001b[0;34m\u001b[0m\u001b[0m\n\u001b[0m\u001b[1;32m    172\u001b[0m \u001b[0;34m\u001b[0m\u001b[0m\n\u001b[1;32m    173\u001b[0m         \u001b[0;32mfinally\u001b[0m\u001b[0;34m:\u001b[0m\u001b[0;34m\u001b[0m\u001b[0m\n",
      "\u001b[0;32m/home/jogabell/anaconda2/lib/python2.7/site-packages/pandas/io/formats/csvs.pyc\u001b[0m in \u001b[0;36m_save\u001b[0;34m(self)\u001b[0m\n\u001b[1;32m    284\u001b[0m                 \u001b[0;32mbreak\u001b[0m\u001b[0;34m\u001b[0m\u001b[0m\n\u001b[1;32m    285\u001b[0m \u001b[0;34m\u001b[0m\u001b[0m\n\u001b[0;32m--> 286\u001b[0;31m             \u001b[0mself\u001b[0m\u001b[0;34m.\u001b[0m\u001b[0m_save_chunk\u001b[0m\u001b[0;34m(\u001b[0m\u001b[0mstart_i\u001b[0m\u001b[0;34m,\u001b[0m \u001b[0mend_i\u001b[0m\u001b[0;34m)\u001b[0m\u001b[0;34m\u001b[0m\u001b[0m\n\u001b[0m\u001b[1;32m    287\u001b[0m \u001b[0;34m\u001b[0m\u001b[0m\n\u001b[1;32m    288\u001b[0m     \u001b[0;32mdef\u001b[0m \u001b[0m_save_chunk\u001b[0m\u001b[0;34m(\u001b[0m\u001b[0mself\u001b[0m\u001b[0;34m,\u001b[0m \u001b[0mstart_i\u001b[0m\u001b[0;34m,\u001b[0m \u001b[0mend_i\u001b[0m\u001b[0;34m)\u001b[0m\u001b[0;34m:\u001b[0m\u001b[0;34m\u001b[0m\u001b[0m\n",
      "\u001b[0;32m/home/jogabell/anaconda2/lib/python2.7/site-packages/pandas/io/formats/csvs.pyc\u001b[0m in \u001b[0;36m_save_chunk\u001b[0;34m(self, start_i, end_i)\u001b[0m\n\u001b[1;32m    311\u001b[0m \u001b[0;34m\u001b[0m\u001b[0m\n\u001b[1;32m    312\u001b[0m         libwriters.write_csv_rows(self.data, ix, self.nlevels,\n\u001b[0;32m--> 313\u001b[0;31m                                   self.cols, self.writer)\n\u001b[0m",
      "\u001b[0;32mpandas/_libs/writers.pyx\u001b[0m in \u001b[0;36mpandas._libs.writers.write_csv_rows\u001b[0;34m()\u001b[0m\n",
      "\u001b[0;31mUnicodeEncodeError\u001b[0m: 'ascii' codec can't encode character u'\\u2014' in position 6: ordinal not in range(128)"
     ]
    }
   ],
   "source": [
    "data_text_not_cero_donations=data_not_cero_doantions['Short Desc EN']\n",
    "mcw_not_cero=text_analysis(data_text_not_cero_donations)\n",
    "df_mcw_not_cero=pd.DataFrame(mcw_not_cero)\n",
    "df_mcw_not_cero.to_csv('data/short_description_words.csv')\n"
   ]
  },
  {
   "cell_type": "code",
   "execution_count": 42,
   "metadata": {},
   "outputs": [
    {
     "data": {
      "text/plain": [
       "[(u'help', 40),\n",
       " (u'children', 30),\n",
       " (u'support', 30),\n",
       " (u'youth', 28),\n",
       " (u'latino', 26),\n",
       " (u'education', 25),\n",
       " (u'women', 24),\n",
       " (u'young', 21),\n",
       " (u'community', 21),\n",
       " (u'families', 18),\n",
       " (u'mexico', 16),\n",
       " (u'provide', 15),\n",
       " (u'communities', 15),\n",
       " (u'students', 13),\n",
       " (u'violence', 12),\n",
       " (u'new', 11),\n",
       " (u'life', 11),\n",
       " (u'access', 10),\n",
       " (u'kids', 10),\n",
       " (u'services', 10),\n",
       " (u'build', 10),\n",
       " (u'together', 10),\n",
       " (u'school', 9),\n",
       " (u'give', 9),\n",
       " (u'rural', 9),\n",
       " (u'program', 8),\n",
       " (u'join', 8),\n",
       " (u'free', 8),\n",
       " (u'immigrant', 8),\n",
       " (u'college', 8),\n",
       " (u'let', 8),\n",
       " (u'make', 8),\n",
       " (u'funds', 8),\n",
       " (u'building', 8),\n",
       " (u'empower', 7),\n",
       " (u'change', 7),\n",
       " (u'center', 7),\n",
       " (u'become', 7),\n",
       " (u'central', 7),\n",
       " (u'immigration', 7),\n",
       " (u'music', 6),\n",
       " (u'salvador', 6),\n",
       " (u'lives', 6),\n",
       " (u'city', 6),\n",
       " (u'guatemala', 6),\n",
       " (u'project', 6),\n",
       " (u'conference', 6),\n",
       " (u'low-income', 6),\n",
       " (u'people', 6),\n",
       " (u'future', 6),\n",
       " (u'legal', 6),\n",
       " (u'continue', 6),\n",
       " (u'provides', 6),\n",
       " (u'philadelphia', 6),\n",
       " (u'low', 6),\n",
       " (u'victims', 6),\n",
       " (u'dance', 5),\n",
       " (u'intensive', 5),\n",
       " (u'skills', 5),\n",
       " (u'work', 5),\n",
       " (u'healthy', 5),\n",
       " (u'live', 5),\n",
       " (u'learn', 5),\n",
       " (u'want', 5),\n",
       " (u'goal', 5),\n",
       " (u'mexican', 5),\n",
       " (u'mayan', 5),\n",
       " (u'health', 5),\n",
       " (u'get', 5),\n",
       " (u'training', 5),\n",
       " (u'american', 5),\n",
       " (u'fleeing', 5),\n",
       " (u'transform', 5),\n",
       " (u'girls', 5),\n",
       " (u'part', 5),\n",
       " (u'need', 5),\n",
       " (u'deportation', 5),\n",
       " (u'arts', 5),\n",
       " (u'raise', 5),\n",
       " (u'indigenous', 5),\n",
       " (u'amp', 5),\n",
       " (u'leadership', 5),\n",
       " (u'opportunities', 4),\n",
       " (u'givingtuesday', 4),\n",
       " (u'leaders', 4),\n",
       " (u'poverty', 4),\n",
       " (u'family', 4),\n",
       " (u'use', 4),\n",
       " (u'rights', 4),\n",
       " (u'transforming', 4),\n",
       " (u'teatro', 4),\n",
       " (u'personal', 4),\n",
       " (u'care', 4),\n",
       " (u'refugee', 4),\n",
       " (u'immigrants', 4),\n",
       " (u'america', 4),\n",
       " (u'bring', 4),\n",
       " (u'justice', 4),\n",
       " (u'local', 4),\n",
       " (u'migrant', 4),\n",
       " (u'classes', 4),\n",
       " (u'across', 4),\n",
       " (u'creating', 4),\n",
       " (u'improve', 4),\n",
       " (u'cancer', 4),\n",
       " (u'learning', 4),\n",
       " (u'development', 4),\n",
       " (u'home', 4),\n",
       " (u'create', 4),\n",
       " (u'start', 4),\n",
       " (u'promote', 4),\n",
       " (u'water', 4),\n",
       " (u'income', 4),\n",
       " (u'train', 4),\n",
       " (u'3rd-5th', 3),\n",
       " (u'promoting', 3),\n",
       " (u'resources', 3),\n",
       " (u'second', 3),\n",
       " (u'educate', 3),\n",
       " (u'business', 3),\n",
       " (u'giving', 3),\n",
       " (u'movement', 3),\n",
       " (u'supporting', 3),\n",
       " (u'healing', 3),\n",
       " (u'love', 3),\n",
       " (u'affected', 3),\n",
       " (u'positive', 3),\n",
       " (u'today', 3),\n",
       " (u'high', 3),\n",
       " (u'marginalized', 3),\n",
       " (u'educational', 3),\n",
       " (u'united', 3),\n",
       " (u'guatemala.', 3),\n",
       " (u'innovative', 3),\n",
       " (u'food', 3),\n",
       " (u'safe', 3),\n",
       " (u'one', 3),\n",
       " (u'day', 3),\n",
       " (u'80', 3),\n",
       " (u'sexual', 3),\n",
       " (u'quality', 3),\n",
       " (u'defend', 3),\n",
       " (u'oasis', 3),\n",
       " (u'keep', 3),\n",
       " (u'farmworker', 3),\n",
       " (u'grade', 3),\n",
       " (u'pa\\xeds', 3),\n",
       " (u'postsecondary', 3),\n",
       " (u'nutrition', 3),\n",
       " (u'latina', 3),\n",
       " (u'play', 3),\n",
       " (u'plan', 3),\n",
       " (u'dream', 3),\n",
       " (u'workshops', 3),\n",
       " (u'donate', 3),\n",
       " (u'art', 3),\n",
       " (u'culture', 3),\n",
       " (u'best', 3),\n",
       " (u'away', 3),\n",
       " (u'violence.', 3),\n",
       " (u'succeed', 3),\n",
       " (u'come', 3),\n",
       " (u'empowering', 3),\n",
       " (u'visi\\xf3n', 3),\n",
       " (u'providing', 3),\n",
       " (u'talented', 3),\n",
       " (u'country', 3),\n",
       " (u'out-of-school', 3),\n",
       " (u'worker', 3),\n",
       " (u'child', 3),\n",
       " (u'tradition', 3),\n",
       " (u'theater', 3),\n",
       " (u'fighting', 3),\n",
       " (u'academic', 3),\n",
       " (u'scholarship', 3),\n",
       " (u'schools', 3),\n",
       " (u'know', 3),\n",
       " (u'birth', 3),\n",
       " (u'unique', 3),\n",
       " (u'dreams', 3),\n",
       " (u'gift', 3),\n",
       " (u'donations', 3),\n",
       " (u'economic', 3),\n",
       " (u'organizing', 3),\n",
       " (u'power', 3),\n",
       " (u'right', 3),\n",
       " (u'grades.', 3),\n",
       " (u'financial', 3),\n",
       " (u'fight', 3),\n",
       " (u'raising', 3),\n",
       " (u'5', 3),\n",
       " (u'welcome', 3),\n",
       " (u'chance', 3),\n",
       " (u'time', 3),\n",
       " (u'starting', 3),\n",
       " (u'cooperative', 2),\n",
       " (u'creative', 2),\n",
       " (u'inspire', 2),\n",
       " (u'ario', 2),\n",
       " (u'realities', 2),\n",
       " (u'helps', 2),\n",
       " (u'heard', 2),\n",
       " (u'mothers', 2),\n",
       " (u'puebla', 2),\n",
       " (u'plaza', 2),\n",
       " (u'participate', 2),\n",
       " (u'mural', 2),\n",
       " (u'cost', 2),\n",
       " (u'4', 2),\n",
       " (u'centers', 2),\n",
       " (u'body', 2),\n",
       " (u'men', 2),\n",
       " (u'100', 2),\n",
       " (u'study', 2),\n",
       " (u'social', 2),\n",
       " (u'raza', 2),\n",
       " (u'secure', 2),\n",
       " (u'crisis', 2),\n",
       " (u'working', 2),\n",
       " (u'dreamers', 2),\n",
       " (u'sessions', 2),\n",
       " (u'plant', 2),\n",
       " (u'visual', 2),\n",
       " (u'town', 2),\n",
       " (u'heart', 2),\n",
       " (u'citizens', 2),\n",
       " (u'theater.', 2),\n",
       " (u'share', 2),\n",
       " (u'nmilc', 2),\n",
       " (u'breaking', 2),\n",
       " (u'survivors', 2),\n",
       " (u'ensure', 2),\n",
       " (u'dignified', 2),\n",
       " (u'stop', 2),\n",
       " (u'autonomy', 2),\n",
       " (u'aspire', 2),\n",
       " (u'produce', 2),\n",
       " (u'urges', 2),\n",
       " (u'improving', 2),\n",
       " (u'grow', 2),\n",
       " (u'remember', 2),\n",
       " (u'childhood', 2),\n",
       " (u'maintain', 2),\n",
       " (u'allow', 2),\n",
       " (u'tutoring', 2),\n",
       " (u'order', 2),\n",
       " (u'hispanics', 2),\n",
       " (u'femicides', 2),\n",
       " (u'toward', 2),\n",
       " (u'abilities', 2),\n",
       " (u'thank', 2),\n",
       " (u'lt', 2),\n",
       " (u'offers', 2),\n",
       " (u'propose', 2),\n",
       " (u'year.', 2),\n",
       " (u'therapy', 2),\n",
       " (u'literacy', 2),\n",
       " (u'system.', 2),\n",
       " (u'level', 2),\n",
       " (u'luna', 2),\n",
       " (u'challenges', 2),\n",
       " (u'connect', 2),\n",
       " (u'special', 2),\n",
       " (u'kensington', 2),\n",
       " (u'increase', 2),\n",
       " (u'math', 2),\n",
       " (u'members', 2),\n",
       " (u'language', 2),\n",
       " (u'creates', 2),\n",
       " (u'musicians', 2),\n",
       " (u'first', 2),\n",
       " (u'unaccompanied', 2),\n",
       " (u'latina/x', 2),\n",
       " (u'reached', 2),\n",
       " (u'open', 2),\n",
       " (u'tomorrow', 2),\n",
       " (u'least', 2),\n",
       " (u'afterschool', 2),\n",
       " (u'philanthropy', 2),\n",
       " (u'urban', 2),\n",
       " (u'way', 2),\n",
       " (u'park', 2),\n",
       " (u'ray\\xf3n', 2),\n",
       " (u'educationovermigration', 2),\n",
       " (u'elected', 2),\n",
       " (u'prevent', 2),\n",
       " (u'patients', 2),\n",
       " (u'computer', 2),\n",
       " (u'deserving', 2),\n",
       " (u'san', 2),\n",
       " (u'voices', 2),\n",
       " (u'take', 2),\n",
       " (u'morelos', 2),\n",
       " (u'k-', 2),\n",
       " (u'potential', 2),\n",
       " (u'doors', 2),\n",
       " (u'combat', 2),\n",
       " (u'change.', 2),\n",
       " (u'reach', 2),\n",
       " (u'maria', 2),\n",
       " (u'camp', 2),\n",
       " (u'clean', 2),\n",
       " (u'latinos', 2),\n",
       " (u'spaces', 2),\n",
       " (u'asylum', 2),\n",
       " (u'networks', 2),\n",
       " (u'brighter', 2),\n",
       " (u'awareness', 2),\n",
       " (u'hip', 2),\n",
       " (u'professionals', 2),\n",
       " (u'chicago', 2),\n",
       " (u'reproductive', 2),\n",
       " (u'clinic', 2),\n",
       " (u'sustainable', 2),\n",
       " (u'human', 2),\n",
       " (u'affordable', 2),\n",
       " (u'latin', 2),\n",
       " (u'jobs', 2),\n",
       " (u'mentoring', 2),\n",
       " (u'readers', 2),\n",
       " (u'reduce', 2),\n",
       " (u'citizenship', 2),\n",
       " (u'better', 2),\n",
       " (u'strong', 2),\n",
       " (u'enable', 2),\n",
       " (u'laptops', 2),\n",
       " (u'gender', 2),\n",
       " (u'abandoned', 2),\n",
       " (u'policies', 2),\n",
       " (u'at-risk', 2),\n",
       " (u'technology', 2),\n",
       " (u'different', 2),\n",
       " (u'invest', 2),\n",
       " (u'babies', 2),\n",
       " (u'program.', 2),\n",
       " (u'mutual', 2),\n",
       " (u'expand', 2),\n",
       " (u'cycle', 2),\n",
       " (u'programs', 2),\n",
       " (u'casa', 2),\n",
       " (u'people.', 2),\n",
       " (u'well', 2),\n",
       " (u'without', 2),\n",
       " (u'prevention', 2),\n",
       " (u'summer', 2),\n",
       " (u'among', 2),\n",
       " (u'domestic', 2),\n",
       " (u'life-saving', 2),\n",
       " (u'world', 2),\n",
       " (u'protecting', 2),\n",
       " (u'weekly', 2),\n",
       " (u'campaign', 2),\n",
       " (u'treatment', 2),\n",
       " (u'tuesday', 2),\n",
       " (u'recycling', 2),\n",
       " (u'maya', 2),\n",
       " (u'around', 2),\n",
       " (u'code', 2),\n",
       " (u'advocate', 2),\n",
       " (u'cultural', 2),\n",
       " (u'30', 2),\n",
       " (u'success', 2),\n",
       " (u'refugees', 2),\n",
       " (u'matching', 2),\n",
       " (u'eggs', 2),\n",
       " (u'disasters', 2),\n",
       " (u'eating', 2),\n",
       " (u'community.', 2),\n",
       " (u'plus', 2),\n",
       " (u'prepare', 2),\n",
       " (u'analyze', 2),\n",
       " (u'gain', 2),\n",
       " (u'inclusive', 2),\n",
       " (u'migrate', 2),\n",
       " (u'physical', 2),\n",
       " (u'peace', 2),\n",
       " (u'fresh', 2),\n",
       " (u'fear.', 2),\n",
       " (u'colleges', 1),\n",
       " (u'americas', 1),\n",
       " (u'voto', 1),\n",
       " (u'dynamic', 1),\n",
       " (u'results', 1),\n",
       " (u'four', 1),\n",
       " (u'unrest', 1),\n",
       " (u'ciudad', 1),\n",
       " (u'skate', 1),\n",
       " (u'tours', 1),\n",
       " (u'per', 1),\n",
       " (u'microloans', 1),\n",
       " (u'studies', 1),\n",
       " (u'fieldtrip', 1),\n",
       " (u'causes', 1),\n",
       " (u'relationships', 1),\n",
       " (u'navigate', 1),\n",
       " (u'watch', 1),\n",
       " (u'supplies', 1),\n",
       " (u'trauma', 1),\n",
       " (u'maryland', 1),\n",
       " (u'must', 1),\n",
       " (u'u-visas', 1),\n",
       " (u'weeks', 1),\n",
       " (u'pay', 1),\n",
       " (u'households.', 1),\n",
       " (u'street', 1),\n",
       " (u'garden', 1),\n",
       " (u'detention', 1),\n",
       " (u'farm.', 1),\n",
       " (u'donation-based.', 1),\n",
       " (u'every', 1),\n",
       " (u'fall', 1),\n",
       " (u'mariposas', 1),\n",
       " (u'uncertain', 1),\n",
       " (u'internationalwomensday', 1),\n",
       " (u'bringing', 1),\n",
       " (u'non-profit', 1),\n",
       " (u'anemia', 1),\n",
       " (u'tickets', 1),\n",
       " (u'respectful', 1),\n",
       " (u'venezuela', 1),\n",
       " (u'officials.', 1),\n",
       " (u'us.', 1),\n",
       " (u'quick', 1),\n",
       " (u'mobilize', 1),\n",
       " (u'obesity', 1),\n",
       " (u'challenge', 1),\n",
       " (u'small', 1),\n",
       " (u'neighborhood', 1),\n",
       " (u'29th', 1),\n",
       " (u'2018', 1),\n",
       " (u'jump', 1),\n",
       " (u'insertion', 1),\n",
       " (u'scholars.', 1),\n",
       " (u'run', 1),\n",
       " (u'cesar', 1),\n",
       " (u'week', 1),\n",
       " (u'psychosocial', 1),\n",
       " (u'mobilizing', 1),\n",
       " (u'norris', 1),\n",
       " (u'assistance', 1),\n",
       " (u'cooking', 1),\n",
       " (u'transforms', 1),\n",
       " (u'learners.', 1),\n",
       " (u'gathers', 1),\n",
       " (u'pachuco', 1),\n",
       " (u'patzcuaro', 1),\n",
       " (u'churches', 1),\n",
       " (u'increasing', 1),\n",
       " (u'public', 1),\n",
       " (u'full', 1),\n",
       " (u'courses.', 1),\n",
       " (u'cozy', 1),\n",
       " (u'chiapas', 1),\n",
       " (u'3,500.00', 1),\n",
       " (u'got', 1),\n",
       " (u'chicano', 1),\n",
       " (u'hundreds', 1),\n",
       " (u'hours', 1),\n",
       " (u'lgbt', 1),\n",
       " (u'ates', 1),\n",
       " (u'active', 1),\n",
       " (u'101', 1),\n",
       " (u'teacher', 1),\n",
       " (u'extreme', 1),\n",
       " (u'boy', 1),\n",
       " (u'survivor', 1),\n",
       " (u'glc', 1),\n",
       " (u'experience', 1),\n",
       " (u'college-going', 1),\n",
       " (u'assists', 1),\n",
       " (u'pediatric', 1),\n",
       " (u'crafting', 1),\n",
       " (u'residents', 1),\n",
       " (u'changes', 1),\n",
       " (u'inspires', 1),\n",
       " (u'mothers.', 1),\n",
       " (u'app', 1),\n",
       " (u'shelter.', 1),\n",
       " (u'earthquakes', 1),\n",
       " (u'women-led', 1),\n",
       " (u'self-sufficient', 1),\n",
       " (u'send', 1),\n",
       " (u'artists.', 1),\n",
       " (u'tools', 1),\n",
       " (u'fit.', 1),\n",
       " (u'resilience.', 1),\n",
       " (u'environment', 1),\n",
       " (u'wealth', 1),\n",
       " (u'10k', 1),\n",
       " (u'promotoras', 1),\n",
       " (u'fondo', 1),\n",
       " (u'visit', 1),\n",
       " (u'two', 1),\n",
       " (u'abroad', 1),\n",
       " (u'asset', 1),\n",
       " (u'subsidized', 1),\n",
       " (u'vehicle', 1),\n",
       " (u'indiana', 1),\n",
       " (u'right.', 1),\n",
       " (u'prep', 1),\n",
       " (u'screening', 1),\n",
       " (u'sharing', 1),\n",
       " (u'alcen', 1),\n",
       " (u'successful', 1),\n",
       " (u'empowerment', 1),\n",
       " (u'nuestro', 1),\n",
       " (u'incluir', 1),\n",
       " (u'nuestras', 1),\n",
       " (u'warm', 1),\n",
       " (u'workplace.', 1),\n",
       " (u'smile', 1),\n",
       " (u'hold', 1),\n",
       " (u'effort', 1),\n",
       " (u'weathering', 1),\n",
       " (u'migrants', 1),\n",
       " (u'pursue', 1),\n",
       " (u'science', 1),\n",
       " (u'ride', 1),\n",
       " (u'launch', 1),\n",
       " (u'high-achieving', 1),\n",
       " (u'advocacy', 1),\n",
       " (u'incubator', 1),\n",
       " (u'advancement', 1),\n",
       " (u'hope', 1),\n",
       " (u'already', 1),\n",
       " (u'making', 1),\n",
       " (u'nurture', 1),\n",
       " (u'root', 1),\n",
       " (u'rehabilitation', 1),\n",
       " (u'beautiful', 1),\n",
       " (u'dedicated', 1),\n",
       " (u'trump', 1),\n",
       " (u'treatment.', 1),\n",
       " (u'10,000', 1),\n",
       " (u'voz', 1),\n",
       " (u'numbers', 1),\n",
       " (u'communities.', 1),\n",
       " (u'clothing', 1),\n",
       " (u'occur', 1),\n",
       " (u'returned', 1),\n",
       " (u'officeholders', 1),\n",
       " (u'end', 1),\n",
       " (u'winter', 1),\n",
       " (u'protect', 1),\n",
       " (u'breast', 1),\n",
       " (u'range', 1),\n",
       " (u'responsibilities', 1),\n",
       " (u'guatemalan', 1),\n",
       " (u'bilingual', 1),\n",
       " (u'guarantee', 1),\n",
       " (u'stairs.', 1),\n",
       " (u'buildings', 1),\n",
       " (u'parcelas', 1),\n",
       " (u'maternal', 1),\n",
       " (u'assistance.', 1),\n",
       " (u'aspiring', 1),\n",
       " (u'advice', 1),\n",
       " (u'lgbtq', 1),\n",
       " (u'lab', 1),\n",
       " (u'reflect', 1),\n",
       " (u'donating', 1),\n",
       " (u'blood', 1),\n",
       " (u'law', 1),\n",
       " (u'meaningful', 1),\n",
       " (u'readiness', 1),\n",
       " (u'third', 1),\n",
       " (u'invitation', 1),\n",
       " (u'su', 1),\n",
       " (u'q', 1),\n",
       " (u'si', 1),\n",
       " (u'prepared', 1),\n",
       " (u'unleash', 1),\n",
       " (u'uninsured', 1),\n",
       " (u'representation', 1),\n",
       " (u'addiction', 1),\n",
       " (u'talk', 1),\n",
       " (u'viveros', 1),\n",
       " (u'resistance', 1),\n",
       " (u'midnight', 1),\n",
       " (u'held', 1),\n",
       " (u'policy.', 1),\n",
       " (u'oven', 1),\n",
       " (u'disease.', 1),\n",
       " (u'saving', 1),\n",
       " (u'still', 1),\n",
       " (u'haiti', 1),\n",
       " (u'24', 1),\n",
       " (u'25', 1),\n",
       " (u'ilcm', 1),\n",
       " (u'group', 1),\n",
       " (u'facility', 1),\n",
       " (u'accompanying', 1),\n",
       " (u'writing', 1),\n",
       " (u'kindergarten', 1),\n",
       " (u'educaid', 1),\n",
       " (u'counter-culture', 1),\n",
       " (u'policy', 1),\n",
       " (u'tecnolog\\xeda', 1),\n",
       " (u'2017', 1),\n",
       " (u'holiday', 1),\n",
       " (u'asylum-seekers', 1),\n",
       " (u'donors', 1),\n",
       " (u'iowa', 1),\n",
       " (u'future.', 1),\n",
       " (u'recipients', 1),\n",
       " (u'cover', 1),\n",
       " (u'finish', 1),\n",
       " (u'nation', 1),\n",
       " (u'educating', 1),\n",
       " (u'qualified', 1),\n",
       " (u'hands', 1),\n",
       " (u'machismo.', 1),\n",
       " (u'presidential', 1),\n",
       " (u'going', 1),\n",
       " (u'hearts', 1),\n",
       " (u'tecoluca', 1),\n",
       " (u'fully', 1),\n",
       " (u'times', 1),\n",
       " (u'mrny', 1),\n",
       " (u'possibilities', 1),\n",
       " (u'habits', 1),\n",
       " (u'fields', 1),\n",
       " (u'discrimination.', 1),\n",
       " (u'aprendidos', 1),\n",
       " (u'status', 1),\n",
       " (u'square', 1),\n",
       " (u'honduras', 1),\n",
       " (u'initiative', 1),\n",
       " (u'house', 1),\n",
       " (u'house.', 1),\n",
       " (u'campaign.', 1),\n",
       " (u'abuse', 1),\n",
       " (u'celebrating', 1),\n",
       " (u'low-wage', 1),\n",
       " (u'weave', 1),\n",
       " (u'lawyers', 1),\n",
       " (u'beyond', 1),\n",
       " (u'monitors', 1),\n",
       " (u'living', 1),\n",
       " (u'missed', 1),\n",
       " (u'farm', 1),\n",
       " (u'america.', 1),\n",
       " (u'dominated', 1),\n",
       " (u'hill', 1),\n",
       " (u'potter', 1),\n",
       " (u'internet', 1),\n",
       " (u'thriving', 1),\n",
       " (u'reality', 1),\n",
       " (u'supports', 1),\n",
       " (u'ay\\xfadanos', 1),\n",
       " (u'families.', 1),\n",
       " (u'state', 1),\n",
       " (u'structurally', 1),\n",
       " (u'confidence', 1),\n",
       " (u'pricking', 1),\n",
       " (u'silencio', 1),\n",
       " (u'york', 1),\n",
       " (u'teach', 1),\n",
       " (u'facilitating', 1),\n",
       " (u'20,000', 1),\n",
       " (u'explorers', 1),\n",
       " (u'support.', 1),\n",
       " (u'mind.', 1),\n",
       " (u'created', 1),\n",
       " (u'starts', 1),\n",
       " (u'computers', 1),\n",
       " (u'days', 1),\n",
       " (u'thing', 1),\n",
       " (u'place', 1),\n",
       " (u'oaxacan', 1),\n",
       " (u'cancer.', 1),\n",
       " (u'barriers', 1),\n",
       " (u'promotion', 1),\n",
       " (u'south', 1),\n",
       " (u'origin', 1),\n",
       " (u'cofem', 1),\n",
       " (u'powerful', 1),\n",
       " (u'number', 1),\n",
       " (u'8230', 1),\n",
       " (u'choose', 1),\n",
       " (u'leverage', 1),\n",
       " (u'service', 1),\n",
       " (u'needed', 1),\n",
       " (u'\\xa1que', 1),\n",
       " (u'twenty', 1),\n",
       " (u'contributes', 1),\n",
       " (u'harder\\u2014but', 1),\n",
       " (u'retreats', 1),\n",
       " (u'station', 1),\n",
       " (u'farming', 1),\n",
       " (u'inner', 1),\n",
       " (u'interests', 1),\n",
       " (u'chuatroj', 1),\n",
       " (u'jobs.', 1),\n",
       " (u'paso.', 1),\n",
       " (u'sound.', 1),\n",
       " (u'greenbrier', 1),\n",
       " (u'needle', 1),\n",
       " (u'immediate', 1),\n",
       " (u'environmental', 1),\n",
       " (u'fronteras', 1),\n",
       " (u'doctors', 1),\n",
       " (u'focusing', 1),\n",
       " (u'tonanzi', 1),\n",
       " (u'believe', 1),\n",
       " (u'institution', 1),\n",
       " (u'venezuelan', 1),\n",
       " (u'15', 1),\n",
       " (u'industrial', 1),\n",
       " (u'double', 1),\n",
       " (u'fruits', 1),\n",
       " (u'kindle', 1),\n",
       " (u'enables', 1),\n",
       " (u'powers', 1),\n",
       " (u'bridge', 1),\n",
       " (u'fashion', 1),\n",
       " (u'11:00pm', 1),\n",
       " (u'strengthen', 1),\n",
       " (u'experience.', 1),\n",
       " (u'urgently', 1),\n",
       " (u'saf', 1),\n",
       " (u'aged', 1),\n",
       " (u'vulnerable', 1),\n",
       " (u'complete', 1),\n",
       " (u'sell', 1),\n",
       " (u'prosperity', 1),\n",
       " (u'bake', 1),\n",
       " (u'cape', 1),\n",
       " (u'hispanic', 1),\n",
       " (u'nurturing', 1),\n",
       " (u'studying', 1),\n",
       " (u'programs.', 1),\n",
       " (u'venezuelans', 1),\n",
       " (u'able', 1),\n",
       " (u'ideas', 1),\n",
       " (u'predominantly', 1),\n",
       " (u'mix', 1),\n",
       " (u'promotes', 1),\n",
       " (u'donor', 1),\n",
       " (u'pain', 1),\n",
       " (u'underserved', 1),\n",
       " (u'collaboration', 1),\n",
       " (u'healthcare', 1),\n",
       " (u'organizes', 1),\n",
       " (u'parenting', 1),\n",
       " (u'donation', 1),\n",
       " (u'experiences', 1),\n",
       " (u'diferent', 1),\n",
       " (u'michoac\\xe1n', 1),\n",
       " (u'policies.', 1),\n",
       " (u'internship', 1),\n",
       " (u'prematurity', 1),\n",
       " (u'huehuetenango', 1),\n",
       " (u'1,000', 1),\n",
       " (u'cambio', 1),\n",
       " (u'tech', 1),\n",
       " (u'trafficking', 1),\n",
       " (u'creativity', 1),\n",
       " (u'floc', 1),\n",
       " (u'professional', 1),\n",
       " (u'entrepreneurialism.', 1),\n",
       " (u'section', 1),\n",
       " (u'goals', 1),\n",
       " (u'comunidad.', 1),\n",
       " (u'hurricanes', 1),\n",
       " (u'restore', 1),\n",
       " (u'derrumbando', 1),\n",
       " (u'solola', 1),\n",
       " (u'cambia', 1),\n",
       " (u'greenhouse', 1),\n",
       " (u'queer', 1),\n",
       " (u'fitness/movement.', 1),\n",
       " (u'libraries', 1),\n",
       " (u'knowledge', 1),\n",
       " (u'securing', 1),\n",
       " (u'less', 1),\n",
       " (u'youngest', 1),\n",
       " (u'enough', 1),\n",
       " (u'theme', 1),\n",
       " (u'conservation.', 1),\n",
       " (u'attitudes', 1),\n",
       " (u'cuba', 1),\n",
       " (u'peru.', 1),\n",
       " (u'viva', 1),\n",
       " (u'move', 1),\n",
       " (u'colorful', 1),\n",
       " (u'overall', 1),\n",
       " (u'hostile', 1),\n",
       " (u'advocates', 1),\n",
       " (u'paleta', 1),\n",
       " (u'5,000', 1),\n",
       " (u'preparing', 1),\n",
       " (u'bracelets', 1),\n",
       " (u'safer', 1),\n",
       " (u'journey.', 1),\n",
       " (u'empowers.', 1),\n",
       " (u'celebrate', 1),\n",
       " (u'let\\xb4s', 1),\n",
       " (u'following', 1),\n",
       " (u'3-weeks', 1),\n",
       " (u'girl', 1),\n",
       " (u'artist', 1),\n",
       " (u'wellness', 1),\n",
       " (u'books', 1),\n",
       " (u'activity', 1),\n",
       " (u'them.', 1),\n",
       " (u'health.', 1),\n",
       " (u'approaching', 1),\n",
       " (u'carrboro-chapel', 1),\n",
       " (u'fair', 1),\n",
       " (u'encourages', 1),\n",
       " (u'activists', 1),\n",
       " (u'orphan', 1),\n",
       " (u'infrastructure', 1),\n",
       " (u'sea', 1),\n",
       " (u'wear.', 1),\n",
       " (u'techniques', 1),\n",
       " (u'lives.', 1),\n",
       " (u'superhero', 1),\n",
       " (u'chiapas.', 1),\n",
       " (u'generosity', 1),\n",
       " (u'scholarship-based', 1),\n",
       " (u'madres', 1),\n",
       " (u'lasallian', 1),\n",
       " (u'opera.', 1),\n",
       " (u'3', 1),\n",
       " (u'toledo', 1),\n",
       " (u'progress', 1),\n",
       " (u'teens', 1),\n",
       " (u'reading', 1),\n",
       " (u'approach', 1),\n",
       " (u'thrive', 1),\n",
       " (u'extend', 1),\n",
       " (u'unlocks', 1),\n",
       " (u'prettiest', 1),\n",
       " (u'mobility.', 1),\n",
       " (u'gender-based', 1),\n",
       " (u'killing', 1),\n",
       " (u'ideas.', 1),\n",
       " (u'southeast', 1),\n",
       " (u'abusers', 1),\n",
       " (u'spark', 1),\n",
       " (u'cervical', 1),\n",
       " (u'problem', 1),\n",
       " (u'defense', 1),\n",
       " (u'anthus', 1),\n",
       " (u'ramp', 1),\n",
       " (u'countries.', 1),\n",
       " (u'mexican.', 1),\n",
       " (u'residency', 1),\n",
       " (u'long-term', 1),\n",
       " (u'workers', 1),\n",
       " (u'deported', 1),\n",
       " (u'philadelphia.', 1),\n",
       " (u'solving', 1),\n",
       " (u'iche', 1),\n",
       " (u'sweet', 1),\n",
       " (u'fitness', 1),\n",
       " (u'por', 1),\n",
       " (u'walk', 1),\n",
       " (u'escuela.', 1),\n",
       " (u'boys.', 1),\n",
       " (u'arts.', 1),\n",
       " (u'rabbits', 1),\n",
       " (u'labor', 1),\n",
       " (u'mission', 1),\n",
       " (u'november', 1),\n",
       " (u'eradication', 1),\n",
       " (u'abortions.', 1),\n",
       " (u'union', 1),\n",
       " (u'\\xa1to', 1),\n",
       " (u'rebuild', 1),\n",
       " (u'pain.', 1),\n",
       " (u'political', 1),\n",
       " (u'three', 1),\n",
       " (u'granny\\xb4s', 1),\n",
       " (u'much', 1),\n",
       " (u'peoples.', 1),\n",
       " (u'basic', 1),\n",
       " (u'excellence.', 1),\n",
       " (u'deportations', 1),\n",
       " (u'fortaleciendo', 1),\n",
       " (u'pre-k', 1),\n",
       " (u'designed', 1),\n",
       " (u'fl', 1),\n",
       " (u'climate', 1),\n",
       " (u'fund', 1),\n",
       " (u'skills.', 1),\n",
       " (u'educates', 1),\n",
       " (u'midwives', 1),\n",
       " (u'dropouts', 1),\n",
       " (u'champions', 1),\n",
       " (u'paying', 1),\n",
       " (u'2016', 1),\n",
       " (u'advocating', 1),\n",
       " (u'espa\\xf1ol.', 1),\n",
       " (u'means', 1),\n",
       " (u'budget', 1),\n",
       " (u'premature', 1),\n",
       " (u'excited', 1),\n",
       " (u'technical', 1),\n",
       " (u'diverse', 1),\n",
       " (u'teachers', 1),\n",
       " (u'freely', 1),\n",
       " (u'fun', 1),\n",
       " (u'life.', 1),\n",
       " (u'designate', 1),\n",
       " (u'uacs', 1),\n",
       " (u'art.', 1),\n",
       " (u'vulnerability', 1),\n",
       " (u'chickens', 1),\n",
       " (u'enriching', 1),\n",
       " (u'entrepreneurs.', 1),\n",
       " (u'ii', 1),\n",
       " (u'middle', 1),\n",
       " (u'not1more', 1),\n",
       " (u'lifetime', 1),\n",
       " (u'ready', 1),\n",
       " (u'mujer', 1),\n",
       " (u'disappear', 1),\n",
       " (u'develop', 1),\n",
       " (u'primary', 1),\n",
       " (u'seek', 1),\n",
       " (u'latinas', 1),\n",
       " (u'unite', 1),\n",
       " (u'textile', 1),\n",
       " (u'oaxaca', 1),\n",
       " (u'enrich', 1),\n",
       " (u'9', 1),\n",
       " (u'party', 1),\n",
       " (u'breaks', 1),\n",
       " (u'higher', 1),\n",
       " (u'movement.', 1),\n",
       " (u'process.', 1),\n",
       " (u'temporary', 1),\n",
       " (u'paths', 1),\n",
       " (u'comprehensive', 1),\n",
       " (u'1-5', 1),\n",
       " (u'hand', 1),\n",
       " (u'disadvantaged', 1),\n",
       " (u'running', 1),\n",
       " (u'student', 1),\n",
       " (u'changing', 1),\n",
       " (u'catheter', 1),\n",
       " (u'protected', 1),\n",
       " (u'5000', 1),\n",
       " (u'lower', 1),\n",
       " (u'tracking', 1),\n",
       " (u'suffering', 1),\n",
       " (u'savings', 1),\n",
       " (u'practices', 1),\n",
       " (u'relief', 1),\n",
       " (u'components', 1),\n",
       " (u'english', 1),\n",
       " (u'outlets.', 1),\n",
       " (u'organization', 1),\n",
       " (u'eradicate', 1),\n",
       " (u'taller', 1),\n",
       " (u'nc', 1),\n",
       " (u'citizenship.', 1),\n",
       " (u'latinx', 1),\n",
       " (u'dancers', 1),\n",
       " (u'obtain', 1),\n",
       " (u'construyendo', 1),\n",
       " (u'ch', 1),\n",
       " (u'identify', 1),\n",
       " (u'purchasing', 1),\n",
       " (u'victim', 1),\n",
       " (u'41', 1),\n",
       " (u'coyotes', 1),\n",
       " (u'death', 1),\n",
       " (u'cuffs', 1),\n",
       " (u'application', 1),\n",
       " (u'thinking', 1),\n",
       " (u'vida', 1),\n",
       " (u'patricia', 1),\n",
       " (u'orphaned', 1),\n",
       " (u'serve.', 1),\n",
       " (u'parents', 1),\n",
       " (u'homies', 1),\n",
       " (u'7', 1),\n",
       " (u'actors', 1),\n",
       " (u'east', 1),\n",
       " (u'administrative', 1),\n",
       " (u'real', 1),\n",
       " (u'free-of-cost', 1),\n",
       " (u'decided', 1),\n",
       " (u'rights.', 1),\n",
       " (u'early', 1),\n",
       " (u'collaboratively', 1),\n",
       " (u'historic', 1),\n",
       " (u'five', 1),\n",
       " (u'wings', 1),\n",
       " (u'like', 1),\n",
       " (u'dignity', 1),\n",
       " (u'vibrant', 1),\n",
       " (u'collective', 1),\n",
       " (u'justice.', 1),\n",
       " (u'country.', 1),\n",
       " (u'dreamcatchers', 1),\n",
       " ...]"
      ]
     },
     "execution_count": 42,
     "metadata": {},
     "output_type": "execute_result"
    }
   ],
   "source": [
    "mcw_not_cero"
   ]
  },
  {
   "cell_type": "code",
   "execution_count": 17,
   "metadata": {},
   "outputs": [],
   "source": [
    "data_text_goal_donations=data_goal_donations['Short Desc EN']\n",
    "text_goal_data=text_analysis(data_text_goal_donations)"
   ]
  },
  {
   "cell_type": "code",
   "execution_count": 18,
   "metadata": {},
   "outputs": [],
   "source": [
    "data_text_cero_donations=data_cero_doantions['Short Desc EN']\n",
    "text_cero_data=text_analysis(data_text_cero_donations)"
   ]
  },
  {
   "cell_type": "markdown",
   "metadata": {},
   "source": [
    "## Creación de base de datos del nombre del proyecto \"name\" con diferentes porcentajes de donación"
   ]
  },
  {
   "cell_type": "code",
   "execution_count": 19,
   "metadata": {},
   "outputs": [],
   "source": [
    "names_cero=data_cero_doantions[u'Name']\n",
    "names_not_cero=data_not_cero_doantions[u'Name']\n",
    "names_goal=data_goal_donations[u'Name']"
   ]
  },
  {
   "cell_type": "code",
   "execution_count": 20,
   "metadata": {},
   "outputs": [
    {
     "name": "stdout",
     "output_type": "stream",
     "text": [
      "(575, 216, 134)\n"
     ]
    }
   ],
   "source": [
    "print(names_cero.shape+names_not_cero.shape+names_goal.shape)"
   ]
  },
  {
   "cell_type": "code",
   "execution_count": 21,
   "metadata": {},
   "outputs": [],
   "source": [
    "name_result_cero=text_analysis(names_cero)\n",
    "name_result_not_cero=text_analysis(names_not_cero)\n",
    "name_result_goal=text_analysis(names_goal)"
   ]
  },
  {
   "cell_type": "code",
   "execution_count": 22,
   "metadata": {},
   "outputs": [
    {
     "data": {
      "text/plain": [
       "[(u'children', 16),\n",
       " (u'youth', 16),\n",
       " (u'women', 14),\n",
       " (u'education', 13),\n",
       " (u'help', 12),\n",
       " (u'community', 10),\n",
       " (u'support', 10),\n",
       " (u'empowering', 9),\n",
       " (u'future', 8),\n",
       " (u'immigrant', 8)]"
      ]
     },
     "execution_count": 22,
     "metadata": {},
     "output_type": "execute_result"
    }
   ],
   "source": [
    "name_result_not_cero[:10]"
   ]
  },
  {
   "cell_type": "code",
   "execution_count": 23,
   "metadata": {},
   "outputs": [
    {
     "data": {
      "text/plain": [
       "[(u'education', 13),\n",
       " (u'children', 10),\n",
       " (u'help', 10),\n",
       " (u'kids', 7),\n",
       " (u'youth', 7),\n",
       " (u'give', 6),\n",
       " (u'future', 6),\n",
       " (u'project', 6),\n",
       " (u'empowering', 6),\n",
       " (u'latino', 5)]"
      ]
     },
     "execution_count": 23,
     "metadata": {},
     "output_type": "execute_result"
    }
   ],
   "source": [
    "name_result_goal[:10]"
   ]
  },
  {
   "cell_type": "code",
   "execution_count": 24,
   "metadata": {},
   "outputs": [
    {
     "data": {
      "text/plain": [
       "[(u'women', 42),\n",
       " (u'help', 30),\n",
       " (u'children', 29),\n",
       " (u'girls', 23),\n",
       " (u'support', 21),\n",
       " (u'education', 19),\n",
       " (u'latino', 17),\n",
       " (u'families', 16),\n",
       " (u'violence', 16),\n",
       " (u'para', 15)]"
      ]
     },
     "execution_count": 24,
     "metadata": {},
     "output_type": "execute_result"
    }
   ],
   "source": [
    "name_result_cero[:10]"
   ]
  },
  {
   "cell_type": "markdown",
   "metadata": {},
   "source": [
    "## Creación de base de datos de la descripción larga del proyecto \"Long Desc EN\" con diferentes porcentajes de donación"
   ]
  },
  {
   "cell_type": "code",
   "execution_count": 25,
   "metadata": {},
   "outputs": [],
   "source": [
    "longD_cero=data_cero_doantions[u'Long Desc EN']\n",
    "longD_not_cero=data_not_cero_doantions[u'Long Desc EN']\n",
    "longD_goal=data_goal_donations[u'Long Desc EN']"
   ]
  },
  {
   "cell_type": "code",
   "execution_count": 26,
   "metadata": {},
   "outputs": [],
   "source": [
    "\n",
    "longD_result_cero=text_analysis(longD_cero)\n",
    "longD_result_not_cero=text_analysis(longD_not_cero)\n",
    "longD_result_goal=text_analysis(longD_goal)"
   ]
  },
  {
   "cell_type": "code",
   "execution_count": 27,
   "metadata": {},
   "outputs": [
    {
     "data": {
      "text/plain": [
       "[(u'children', 824),\n",
       " (u'community', 790),\n",
       " (u'women', 746),\n",
       " (u'help', 742),\n",
       " (u'people', 642),\n",
       " (u'support', 581),\n",
       " (u'work', 465),\n",
       " (u'students', 454),\n",
       " (u'families', 439),\n",
       " (u'school', 436),\n",
       " (u'health', 406),\n",
       " (u'education', 403),\n",
       " (u'social', 393),\n",
       " (u'program', 391),\n",
       " (u'project', 372),\n",
       " (u'young', 357),\n",
       " (u'communities', 346),\n",
       " (u'violence', 341),\n",
       " (u'life', 320),\n",
       " (u'one', 314),\n",
       " (u'need', 308),\n",
       " (u'also', 304),\n",
       " (u'provide', 296),\n",
       " (u'family', 275),\n",
       " (u'many', 267),\n",
       " (u'rights', 266),\n",
       " (u'development', 266),\n",
       " (u'years', 260),\n",
       " (u'goal', 256),\n",
       " (u'youth', 255)]"
      ]
     },
     "execution_count": 27,
     "metadata": {},
     "output_type": "execute_result"
    }
   ],
   "source": [
    "longD_result_cero[:30]"
   ]
  },
  {
   "cell_type": "code",
   "execution_count": 28,
   "metadata": {},
   "outputs": [
    {
     "data": {
      "text/plain": [
       "[(u'children', 381),\n",
       " (u'support', 319),\n",
       " (u'community', 315),\n",
       " (u'women', 284),\n",
       " (u'help', 258),\n",
       " (u'students', 232),\n",
       " (u'youth', 226),\n",
       " (u'education', 218),\n",
       " (u'school', 218),\n",
       " (u'families', 203),\n",
       " (u'program', 194),\n",
       " (u'health', 192),\n",
       " (u'young', 151),\n",
       " (u'provide', 146),\n",
       " (u'project', 137),\n",
       " (u'people', 137),\n",
       " (u'communities', 137),\n",
       " (u'need', 136),\n",
       " (u'work', 134),\n",
       " (u'access', 133),\n",
       " (u'one', 132),\n",
       " (u'violence', 130),\n",
       " (u'services', 128),\n",
       " (u'new', 126),\n",
       " (u'goal', 123),\n",
       " (u'care', 122),\n",
       " (u'latino', 121),\n",
       " (u'legal', 114),\n",
       " (u'social', 113),\n",
       " (u'year', 113)]"
      ]
     },
     "execution_count": 28,
     "metadata": {},
     "output_type": "execute_result"
    }
   ],
   "source": [
    "longD_result_not_cero[:30]"
   ]
  },
  {
   "cell_type": "code",
   "execution_count": 29,
   "metadata": {},
   "outputs": [
    {
     "data": {
      "text/plain": [
       "[(u'children', 262),\n",
       " (u'support', 181),\n",
       " (u'community', 179),\n",
       " (u'students', 176),\n",
       " (u'school', 157),\n",
       " (u'help', 152),\n",
       " (u'families', 145),\n",
       " (u'education', 132),\n",
       " (u'program', 132),\n",
       " (u'health', 104),\n",
       " (u'provide', 99),\n",
       " (u'women', 96),\n",
       " (u'one', 93),\n",
       " (u'latino', 91),\n",
       " (u'young', 90),\n",
       " (u'goal', 87),\n",
       " (u'need', 86),\n",
       " (u'access', 86),\n",
       " (u'youth', 86),\n",
       " (u'year', 84),\n",
       " (u'people', 81),\n",
       " (u'project', 79),\n",
       " (u'services', 77),\n",
       " (u'care', 74),\n",
       " (u'communities', 74),\n",
       " (u'new', 73),\n",
       " (u'family', 70),\n",
       " (u'work', 69),\n",
       " (u'guatemala', 68),\n",
       " (u'many', 67),\n",
       " (u'years', 65),\n",
       " (u'social', 64),\n",
       " (u'legal', 64),\n",
       " (u'mexico', 62),\n",
       " (u'high', 61),\n",
       " (u'educational', 61),\n",
       " (u'campaign', 61),\n",
       " (u'college', 61),\n",
       " (u'child', 59),\n",
       " (u'also', 58),\n",
       " (u'make', 58),\n",
       " (u'skills', 55),\n",
       " (u'able', 53),\n",
       " (u'life', 51),\n",
       " (u'kids', 50),\n",
       " (u'give', 49),\n",
       " (u'every', 49),\n",
       " (u'first', 47),\n",
       " (u'center', 47),\n",
       " (u'immigration', 46)]"
      ]
     },
     "execution_count": 29,
     "metadata": {},
     "output_type": "execute_result"
    }
   ],
   "source": [
    "longD_result_goal[:50]"
   ]
  },
  {
   "cell_type": "markdown",
   "metadata": {},
   "source": [
    "## Gráficos de las palábras más utlizadas ponderadas por número de registros"
   ]
  },
  {
   "cell_type": "code",
   "execution_count": 30,
   "metadata": {},
   "outputs": [],
   "source": [
    "def hpgraph(serie, total_rows):\n",
    "    serie=serie[:10]\n",
    "    x=[]\n",
    "    y=[]\n",
    "    \n",
    "    for s in serie:        \n",
    "        x.append(s[0])\n",
    "        y.append(float(s[1])/float(total_rows))    \n",
    "    return (x,y)"
   ]
  },
  {
   "cell_type": "code",
   "execution_count": 31,
   "metadata": {},
   "outputs": [],
   "source": [
    "%matplotlib inline\n",
    "import matplotlib.pyplot as plt"
   ]
  },
  {
   "cell_type": "code",
   "execution_count": 32,
   "metadata": {},
   "outputs": [],
   "source": [
    "resultG =hpgraph(longD_result_goal,longD_goal.size)\n",
    "resultN =hpgraph(longD_result_not_cero,longD_not_cero.size)\n",
    "resultC =hpgraph(longD_result_cero,longD_cero.size)"
   ]
  },
  {
   "cell_type": "code",
   "execution_count": 33,
   "metadata": {},
   "outputs": [],
   "source": [
    "#type(resultG[0])\n",
    "#type(resultG[1])\n",
    "#esultG[1]"
   ]
  },
  {
   "cell_type": "code",
   "execution_count": 34,
   "metadata": {},
   "outputs": [
    {
     "data": {
      "text/plain": [
       "[<matplotlib.lines.Line2D at 0x7fd9c095f490>,\n",
       " <matplotlib.lines.Line2D at 0x7fd9c095f590>,\n",
       " <matplotlib.lines.Line2D at 0x7fd9c095f050>]"
      ]
     },
     "execution_count": 34,
     "metadata": {},
     "output_type": "execute_result"
    },
    {
     "data": {
      "image/png": "[encoded data removed]",
      "text/plain": [
       "<Figure size 432x288 with 1 Axes>"
      ]
     },
     "metadata": {
      "needs_background": "light"
     },
     "output_type": "display_data"
    }
   ],
   "source": [
    "plt.plot(resultG[0], resultG[1], 'r--',resultN[0],resultN[1],'g--',resultC[0],resultC[1],'b--')\n"
   ]
  },
  {
   "cell_type": "code",
   "execution_count": 35,
   "metadata": {},
   "outputs": [],
   "source": [
    "plt.show()"
   ]
  },
  {
   "cell_type": "code",
   "execution_count": 36,
   "metadata": {},
   "outputs": [
    {
     "data": {
      "image/png": "[encoded data removed]",
      "text/plain": [
       "<Figure size 432x288 with 1 Axes>"
      ]
     },
     "metadata": {
      "needs_background": "light"
     },
     "output_type": "display_data"
    }
   ],
   "source": [
    "plt.plot([1,2,3],'ro')\n",
    "plt.show()"
   ]
  },
  {
   "cell_type": "code",
   "execution_count": 37,
   "metadata": {},
   "outputs": [
    {
     "ename": "NameError",
     "evalue": "name 'word_counter_cero' is not defined",
     "output_type": "error",
     "traceback": [
      "\u001b[0;31m---------------------------------------------------------------------------\u001b[0m",
      "\u001b[0;31mNameError\u001b[0m                                 Traceback (most recent call last)",
      "\u001b[0;32m<ipython-input-37-2b2d8a346cc0>\u001b[0m in \u001b[0;36m<module>\u001b[0;34m()\u001b[0m\n\u001b[0;32m----> 1\u001b[0;31m \u001b[0mvsorted_word_counts\u001b[0m \u001b[0;34m=\u001b[0m \u001b[0msorted\u001b[0m\u001b[0;34m(\u001b[0m\u001b[0mlist\u001b[0m\u001b[0;34m(\u001b[0m\u001b[0mword_counter_cero\u001b[0m\u001b[0;34m.\u001b[0m\u001b[0mvalues\u001b[0m\u001b[0;34m(\u001b[0m\u001b[0;34m)\u001b[0m\u001b[0;34m)\u001b[0m\u001b[0;34m,\u001b[0m \u001b[0mreverse\u001b[0m\u001b[0;34m=\u001b[0m\u001b[0mTrue\u001b[0m\u001b[0;34m)\u001b[0m\u001b[0;34m\u001b[0m\u001b[0m\n\u001b[0m\u001b[1;32m      2\u001b[0m \u001b[0mplt\u001b[0m\u001b[0;34m.\u001b[0m\u001b[0mloglog\u001b[0m\u001b[0;34m(\u001b[0m\u001b[0msorted_word_counts\u001b[0m\u001b[0;34m)\u001b[0m\u001b[0;34m\u001b[0m\u001b[0m\n\u001b[1;32m      3\u001b[0m \u001b[0mplt\u001b[0m\u001b[0;34m.\u001b[0m\u001b[0mylabel\u001b[0m\u001b[0;34m(\u001b[0m\u001b[0;34m\"Freq\"\u001b[0m\u001b[0;34m)\u001b[0m\u001b[0;34m\u001b[0m\u001b[0m\n\u001b[1;32m      4\u001b[0m \u001b[0mplt\u001b[0m\u001b[0;34m.\u001b[0m\u001b[0mxlabel\u001b[0m\u001b[0;34m(\u001b[0m\u001b[0;34m\"Word Rank\"\u001b[0m\u001b[0;34m)\u001b[0m\u001b[0;34m;\u001b[0m\u001b[0;34m\u001b[0m\u001b[0m\n",
      "\u001b[0;31mNameError\u001b[0m: name 'word_counter_cero' is not defined"
     ]
    }
   ],
   "source": [
    "vsorted_word_counts = sorted(list(word_counter_cero.values()), reverse=True)\n",
    "plt.loglog(sorted_word_counts)\n",
    "plt.ylabel(\"Freq\")\n",
    "plt.xlabel(\"Word Rank\");"
   ]
  },
  {
   "cell_type": "code",
   "execution_count": null,
   "metadata": {},
   "outputs": [],
   "source": []
  },
  {
   "cell_type": "code",
   "execution_count": null,
   "metadata": {},
   "outputs": [],
   "source": []
  },
  {
   "cell_type": "code",
   "execution_count": null,
   "metadata": {},
   "outputs": [],
   "source": []
  },
  {
   "cell_type": "code",
   "execution_count": null,
   "metadata": {},
   "outputs": [],
   "source": []
  },
  {
   "cell_type": "code",
   "execution_count": null,
   "metadata": {},
   "outputs": [],
   "source": []
  },
  {
   "cell_type": "code",
   "execution_count": null,
   "metadata": {},
   "outputs": [],
   "source": []
  },
  {
   "cell_type": "code",
   "execution_count": null,
   "metadata": {},
   "outputs": [],
   "source": []
  },
  {
   "cell_type": "code",
   "execution_count": null,
   "metadata": {},
   "outputs": [],
   "source": []
  },
  {
   "cell_type": "code",
   "execution_count": null,
   "metadata": {},
   "outputs": [],
   "source": []
  },
  {
   "cell_type": "code",
   "execution_count": null,
   "metadata": {},
   "outputs": [],
   "source": []
  },
  {
   "cell_type": "code",
   "execution_count": null,
   "metadata": {},
   "outputs": [],
   "source": [
    "plt.hist(sorted_word_counts, bins=10);"
   ]
  },
  {
   "cell_type": "code",
   "execution_count": null,
   "metadata": {},
   "outputs": [],
   "source": [
    "plt.hist(sorted_word_counts, bins=50, log=True);"
   ]
  },
  {
   "cell_type": "code",
   "execution_count": null,
   "metadata": {},
   "outputs": [],
   "source": []
  },
  {
   "cell_type": "code",
   "execution_count": null,
   "metadata": {},
   "outputs": [],
   "source": [
    "text_analysis(data_text_cero_donations)"
   ]
  },
  {
   "cell_type": "code",
   "execution_count": null,
   "metadata": {},
   "outputs": [],
   "source": []
  },
  {
   "cell_type": "code",
   "execution_count": null,
   "metadata": {},
   "outputs": [],
   "source": []
  }
 ],
 "metadata": {
  "kernelspec": {
   "display_name": "Python 2",
   "language": "python",
   "name": "python2"
  },
  "language_info": {
   "codemirror_mode": {
    "name": "ipython",
    "version": 2
   },
   "file_extension": ".py",
   "mimetype": "text/x-python",
   "name": "python",
   "nbconvert_exporter": "python",
   "pygments_lexer": "ipython2",
   "version": "2.7.15"
  }
 },
 "nbformat": 4,
 "nbformat_minor": 2
}
