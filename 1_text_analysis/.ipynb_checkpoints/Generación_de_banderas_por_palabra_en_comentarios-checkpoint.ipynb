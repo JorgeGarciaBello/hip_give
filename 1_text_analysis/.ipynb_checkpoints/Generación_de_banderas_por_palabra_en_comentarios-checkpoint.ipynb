{
 "cells": [
  {
   "cell_type": "code",
   "execution_count": 1,
   "metadata": {},
   "outputs": [
    {
     "name": "stdout",
     "output_type": "stream",
     "text": [
      "[nltk_data] Downloading package punkt to /home/jogabell/nltk_data...\n",
      "[nltk_data]   Package punkt is already up-to-date!\n",
      "[nltk_data] Downloading package stopwords to\n",
      "[nltk_data]     /home/jogabell/nltk_data...\n",
      "[nltk_data]   Package stopwords is already up-to-date!\n"
     ]
    },
    {
     "data": {
      "text/plain": [
       "True"
      ]
     },
     "execution_count": 1,
     "metadata": {},
     "output_type": "execute_result"
    }
   ],
   "source": [
    "# librerias utilizadas\n",
    "import pandas as pd\n",
    "import nltk\n",
    "import string\n",
    "import datetime\n",
    "from collections import Counter\n",
    "nltk.download(\"punkt\")\n",
    "nltk.download(\"stopwords\")"
   ]
  },
  {
   "cell_type": "code",
   "execution_count": 2,
   "metadata": {},
   "outputs": [],
   "source": [
    "# Lectura de base de datos\n",
    "gh_2015=pd.read_excel('data/DATA_PLATAFORMA_HIPGIVE.xlsx',sheet_name='2015',encode='latin1')\n",
    "gh_2016=pd.read_excel('data/DATA_PLATAFORMA_HIPGIVE.xlsx',sheet_name='2016',encode='latin1')\n",
    "gh_2017=pd.read_excel('data/DATA_PLATAFORMA_HIPGIVE.xlsx',sheet_name='2017',encode='latin1')\n",
    "gh_2018=pd.read_excel('data/DATA_PLATAFORMA_HIPGIVE.xlsx',sheet_name='2018',encode='latin1')\n",
    "gh_2019=pd.read_excel('data/DATA_PLATAFORMA_HIPGIVE.xlsx',sheet_name='2019',encode='latin1') "
   ]
  },
  {
   "cell_type": "code",
   "execution_count": 3,
   "metadata": {},
   "outputs": [],
   "source": [
    "features=[u'Project ID',u'Published Status',\n",
    "          u'Percentage Raised',\n",
    "          u'Short DescSP', u'Long Desc SP',\n",
    "          u'Short Desc EN',u'Long Desc EN', ]\n",
    "_2015=gh_2015[features]\n",
    "_2016=gh_2016[features]\n",
    "_2017=gh_2017[features]\n",
    "_2018=gh_2018[features]\n",
    "_2019=gh_2019[features]"
   ]
  },
  {
   "cell_type": "code",
   "execution_count": 4,
   "metadata": {},
   "outputs": [],
   "source": [
    "# Unión de base de datos\n",
    "data=_2015.append(_2016).append(_2017).append(_2018).append(_2019)"
   ]
  },
  {
   "cell_type": "code",
   "execution_count": 5,
   "metadata": {},
   "outputs": [],
   "source": [
    "# Limpieza de base de datos por meido de la creación de mascaras\n",
    "mask1=(data['Published Status']!= 'draft')\n",
    "data=data[mask1]"
   ]
  },
  {
   "cell_type": "code",
   "execution_count": 6,
   "metadata": {},
   "outputs": [],
   "source": [
    "mask2=(data['Published Status']!= 'rejected')\n",
    "data=data[mask2]"
   ]
  },
  {
   "cell_type": "code",
   "execution_count": 33,
   "metadata": {},
   "outputs": [],
   "source": [
    "data=data.dropna()"
   ]
  },
  {
   "cell_type": "code",
   "execution_count": 34,
   "metadata": {},
   "outputs": [
    {
     "data": {
      "text/plain": [
       "Index([u'Project ID', u'Published Status', u'Percentage Raised',\n",
       "       u'Short DescSP', u'Long Desc SP', u'Short Desc EN', u'Long Desc EN'],\n",
       "      dtype='object')"
      ]
     },
     "execution_count": 34,
     "metadata": {},
     "output_type": "execute_result"
    }
   ],
   "source": [
    "data.columns"
   ]
  },
  {
   "cell_type": "markdown",
   "metadata": {},
   "source": [
    "##### Obtención de listas con los datos de id y comentarios separados por tipo de descripción (short-long) e idioma (Español e Inglés)"
   ]
  },
  {
   "cell_type": "code",
   "execution_count": 35,
   "metadata": {},
   "outputs": [],
   "source": [
    "_ids=data[u'Project ID'].values\n",
    "_sdEsp=data[u'Short DescSP'].values\n",
    "_ldEsp=data[u'Long Desc SP'].values\n",
    "_sdEng=data[u'Short Desc EN'].values\n",
    "_ldEng=data[u'Long Desc EN'].values"
   ]
  },
  {
   "cell_type": "markdown",
   "metadata": {},
   "source": [
    "#### Palabras a estudiar en Español para la descripción corta"
   ]
  },
  {
   "cell_type": "code",
   "execution_count": 46,
   "metadata": {},
   "outputs": [],
   "source": [
    "spanish_words_in_short_description=[u'acceso',u'apoyar',u'ciudad',u'inmigrantes',u'latinos',u'apoyo',u'estudiantes',u'niñas',u'personas',u'salud',u'violencia']"
   ]
  },
  {
   "cell_type": "code",
   "execution_count": 47,
   "metadata": {},
   "outputs": [],
   "source": [
    "english_words_in_short_description=[u'communities',u'kids',u'latino',u'mexico',u'provide',u'make',u'new',u'school',u'violence',u'people',u'students',u'support',u'woman']"
   ]
  },
  {
   "cell_type": "code",
   "execution_count": null,
   "metadata": {},
   "outputs": [],
   "source": []
  },
  {
   "cell_type": "code",
   "execution_count": 50,
   "metadata": {},
   "outputs": [],
   "source": [
    "def func_flags(word,_sdEsp,_ids):\n",
    "    # Creación de lista con datos => [(id,description), ...]\n",
    "    lista=[]\n",
    "    if len(_ids)==len(_sdEsp):\n",
    "        for i in range(0,len(_ids)):\n",
    "            lista.append((_ids[i],_sdEsp[i]))\n",
    "\n",
    "    final_list=[]\n",
    "    for i in range(0,len(_ids)):    \n",
    "        if word in lista[i][1]:\n",
    "            final_list.append((_ids[i],1))\n",
    "        else:\n",
    "            final_list.append((_ids[i],0))\n",
    "    return (word,final_list)"
   ]
  },
  {
   "cell_type": "code",
   "execution_count": null,
   "metadata": {},
   "outputs": [],
   "source": [
    "def func_data_flags(lista_of_words,shortDesc,_ids):\n",
    "    lista_of_results=[]\n",
    "    for i in range(0,len(lista_of_words)):\n",
    "        result=func_flags(lista_of_words[i],shortDesc,_ids)\n",
    "        lista_of_results.append(result)\n",
    "        \n",
    "        \n",
    "    "
   ]
  },
  {
   "cell_type": "code",
   "execution_count": null,
   "metadata": {},
   "outputs": [],
   "source": []
  },
  {
   "cell_type": "code",
   "execution_count": null,
   "metadata": {},
   "outputs": [],
   "source": []
  }
 ],
 "metadata": {
  "kernelspec": {
   "display_name": "Python 2",
   "language": "python",
   "name": "python2"
  },
  "language_info": {
   "codemirror_mode": {
    "name": "ipython",
    "version": 2
   },
   "file_extension": ".py",
   "mimetype": "text/x-python",
   "name": "python",
   "nbconvert_exporter": "python",
   "pygments_lexer": "ipython2",
   "version": "2.7.15"
  }
 },
 "nbformat": 4,
 "nbformat_minor": 2
}
